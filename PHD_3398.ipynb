{
 "cells": [
  {
   "cell_type": "markdown",
   "metadata": {
    "colab_type": "text",
    "id": "mMj7Y77mp8vr"
   },
   "source": [
    "##                  **Business Problem Statement**\n",
    "Given business problem belongs **Small Basket** which is a huge online / mobile application based grocery retailer in India. Now Small Basket is trying to manage its supply chain and delivery partners and would like to accurately forecast the sales for the period starting from 1st January 2019 to 15th January 2019 . To forecast following data was given.\n",
    "# Given Data \n",
    "1.Train data:Consists of unit sales for particular item,location and with respect to dates.\n",
    "\n",
    "2.Item details:This gives the insight of particular item belonging to which class and category.\n",
    "\n",
    "3.Transactions details:The gives the insight of number of transactions per location and date.\n",
    "\n",
    "4.Location details:This gives us location belongs to which state and city.\n",
    "\n",
    "5.Test data: This is similar to train data which has details of 2019 first 15 days which is to be predicted.\n",
    "\n",
    "## Evaluation metric: MAPE\n",
    "\n",
    "### The mean absolute percentage error (MAPE) is a statistical measure of how accurate a forecast system is. It measures this accuracy as a percentage, and can be calculated as the average absolute percent error for each time period minus actual values divided by actual values. \n",
    "\n",
    "\n",
    "## MAPE= 1/n summation(|actual|-|forecast|)/|actual|)*100\n",
    "\n",
    "\n",
    "\n",
    "\n",
    "\n",
    "\n"
   ]
  },
  {
   "cell_type": "code",
   "execution_count": 4,
   "metadata": {
    "colab": {
     "base_uri": "https://localhost:8080/",
     "height": 121
    },
    "colab_type": "code",
    "id": "LtgMYEPKTpN-",
    "outputId": "c281c744-7680-4ad7-9e81-347f40520ff2"
   },
   "outputs": [
    {
     "name": "stdout",
     "output_type": "stream",
     "text": [
      "Go to this URL in a browser: https://accounts.google.com/o/oauth2/auth?client_id=947318989803-6bn6qk8qdgf4n4g3pfee6491hc0brc4i.apps.googleusercontent.com&redirect_uri=urn%3aietf%3awg%3aoauth%3a2.0%3aoob&response_type=code&scope=email%20https%3a%2f%2fwww.googleapis.com%2fauth%2fdocs.test%20https%3a%2f%2fwww.googleapis.com%2fauth%2fdrive%20https%3a%2f%2fwww.googleapis.com%2fauth%2fdrive.photos.readonly%20https%3a%2f%2fwww.googleapis.com%2fauth%2fpeopleapi.readonly\n",
      "\n",
      "Enter your authorization code:\n",
      "··········\n",
      "Mounted at /content/drive\n"
     ]
    }
   ],
   "source": [
    "from google.colab import drive\n",
    "drive.mount('/content/drive')"
   ]
  },
  {
   "cell_type": "code",
   "execution_count": 5,
   "metadata": {
    "colab": {
     "base_uri": "https://localhost:8080/",
     "height": 84
    },
    "colab_type": "code",
    "id": "GuaRPr1Jgx4T",
    "outputId": "14b1d4be-c218-439e-d9d0-e2871e3d7416"
   },
   "outputs": [
    {
     "name": "stdout",
     "output_type": "stream",
     "text": [
      "Collecting squarify\n",
      "  Downloading https://files.pythonhosted.org/packages/0b/2b/2e77c35326efec19819cd1d729540d4d235e6c2a3f37658288a363a67da5/squarify-0.4.3-py3-none-any.whl\n",
      "Installing collected packages: squarify\n",
      "Successfully installed squarify-0.4.3\n"
     ]
    }
   ],
   "source": [
    "## squarify library is for plotting graph in sqaure space\n",
    "pip install squarify"
   ]
  },
  {
   "cell_type": "code",
   "execution_count": 6,
   "metadata": {
    "colab": {
     "base_uri": "https://localhost:8080/",
     "height": 269
    },
    "colab_type": "code",
    "id": "xCPeQuBUwM9r",
    "outputId": "66dc17ba-201d-4fa6-94a8-5624e7178f24"
   },
   "outputs": [
    {
     "name": "stdout",
     "output_type": "stream",
     "text": [
      "Collecting pandasql\n",
      "  Downloading https://files.pythonhosted.org/packages/6b/c4/ee4096ffa2eeeca0c749b26f0371bd26aa5c8b611c43de99a4f86d3de0a7/pandasql-0.7.3.tar.gz\n",
      "Requirement already satisfied: numpy in /usr/local/lib/python3.6/dist-packages (from pandasql) (1.17.5)\n",
      "Requirement already satisfied: pandas in /usr/local/lib/python3.6/dist-packages (from pandasql) (0.25.3)\n",
      "Requirement already satisfied: sqlalchemy in /usr/local/lib/python3.6/dist-packages (from pandasql) (1.3.13)\n",
      "Requirement already satisfied: pytz>=2017.2 in /usr/local/lib/python3.6/dist-packages (from pandas->pandasql) (2018.9)\n",
      "Requirement already satisfied: python-dateutil>=2.6.1 in /usr/local/lib/python3.6/dist-packages (from pandas->pandasql) (2.6.1)\n",
      "Requirement already satisfied: six>=1.5 in /usr/local/lib/python3.6/dist-packages (from python-dateutil>=2.6.1->pandas->pandasql) (1.12.0)\n",
      "Building wheels for collected packages: pandasql\n",
      "  Building wheel for pandasql (setup.py) ... \u001b[?25l\u001b[?25hdone\n",
      "  Created wheel for pandasql: filename=pandasql-0.7.3-cp36-none-any.whl size=26819 sha256=9a09984a5714e0e7f117d8c327c4f4b6bf7ac46350acc270f2e62019f3378ad4\n",
      "  Stored in directory: /root/.cache/pip/wheels/53/6c/18/b87a2e5fa8a82e9c026311de56210b8d1c01846e18a9607fc9\n",
      "Successfully built pandasql\n",
      "Installing collected packages: pandasql\n",
      "Successfully installed pandasql-0.7.3\n"
     ]
    }
   ],
   "source": [
    "## pandasql library is for writing sql queries in python\n",
    "pip install pandasql"
   ]
  },
  {
   "cell_type": "code",
   "execution_count": 0,
   "metadata": {
    "colab": {},
    "colab_type": "code",
    "id": "DV2dlGBmi_bV"
   },
   "outputs": [],
   "source": [
    "## required libraries\n",
    "import os\n",
    "import pandas as pd\n",
    "import numpy as np\n",
    "import seaborn as sns\n",
    "import matplotlib.pyplot as plt\n",
    "import squarify\n",
    "import pickle\n",
    "import plotly.graph_objs as go\n",
    "import plotly.offline as py\n",
    "import pandasql as ps\n",
    "import warnings\n",
    "warnings.filterwarnings(\"ignore\")"
   ]
  },
  {
   "cell_type": "code",
   "execution_count": 0,
   "metadata": {
    "colab": {},
    "colab_type": "code",
    "id": "z9oR2kTSjBQT"
   },
   "outputs": [],
   "source": [
    "## changing the path directory\n",
    "os.chdir('/content/drive/My Drive/PHD')"
   ]
  },
  {
   "cell_type": "code",
   "execution_count": 9,
   "metadata": {
    "colab": {
     "base_uri": "https://localhost:8080/",
     "height": 34
    },
    "colab_type": "code",
    "id": "xPEXCzZCjIeG",
    "outputId": "f4afff1f-44cd-42b8-d220-6686e919e4ec"
   },
   "outputs": [
    {
     "data": {
      "text/plain": [
       "'/content/drive/My Drive/PHD'"
      ]
     },
     "execution_count": 9,
     "metadata": {
      "tags": []
     },
     "output_type": "execute_result"
    }
   ],
   "source": [
    "## get the present working directory\n",
    "os.getcwd()"
   ]
  },
  {
   "cell_type": "code",
   "execution_count": 10,
   "metadata": {
    "colab": {
     "base_uri": "https://localhost:8080/",
     "height": 202
    },
    "colab_type": "code",
    "id": "Nmr9Wl68jKZ2",
    "outputId": "3158891c-c5c8-4811-b1ef-fa69610d3bfe"
   },
   "outputs": [
    {
     "name": "stdout",
     "output_type": "stream",
     "text": [
      " \u001b[0m\u001b[01;34mcatboost_info\u001b[0m/        'PHD(14-02-20) .ipynb'   train_15.pickle\n",
      " dec1.csv               sample_submission.csv   train_17_18.pickle\n",
      " dec.csv                sub1.csv                Train_1.pickle\n",
      " final_test.pickle      sub2.csv                train_2yrs_out.csv\n",
      " item_details.csv       test_17_18.pickle       train4.csv\n",
      " items.pickle           Test_1.pickle           train_4yrs.csv\n",
      " lgb.csv                test_2yrs_out.csv       train.csv\n",
      " location_details.csv   test4.csv               train.pickle\n",
      " location.pickle        test_4yrs.csv           train_transactions.csv\n",
      " lrr.csv                test.csv                trans.pickle\n",
      "'PHD(13-02-20).ipynb'   test.pickle             xgb.csv\n"
     ]
    }
   ],
   "source": [
    "## shows list of items present in working directory\n",
    "ls"
   ]
  },
  {
   "cell_type": "code",
   "execution_count": 0,
   "metadata": {
    "colab": {},
    "colab_type": "code",
    "id": "xgaqgnBmjLPg"
   },
   "outputs": [],
   "source": [
    "## load the location details data\n",
    "data_location= pd.read_csv('location_details.csv')"
   ]
  },
  {
   "cell_type": "code",
   "execution_count": 0,
   "metadata": {
    "colab": {
     "base_uri": "https://localhost:8080/",
     "height": 195
    },
    "colab_type": "code",
    "id": "s4xpHzpqghSe",
    "outputId": "dc0254fc-e0da-46ad-f69f-402efa7abc07"
   },
   "outputs": [
    {
     "data": {
      "text/html": [
       "<div>\n",
       "<style scoped>\n",
       "    .dataframe tbody tr th:only-of-type {\n",
       "        vertical-align: middle;\n",
       "    }\n",
       "\n",
       "    .dataframe tbody tr th {\n",
       "        vertical-align: top;\n",
       "    }\n",
       "\n",
       "    .dataframe thead th {\n",
       "        text-align: right;\n",
       "    }\n",
       "</style>\n",
       "<table border=\"1\" class=\"dataframe\">\n",
       "  <thead>\n",
       "    <tr style=\"text-align: right;\">\n",
       "      <th></th>\n",
       "      <th>location_id</th>\n",
       "      <th>city</th>\n",
       "      <th>state</th>\n",
       "      <th>type</th>\n",
       "      <th>cluster</th>\n",
       "    </tr>\n",
       "  </thead>\n",
       "  <tbody>\n",
       "    <tr>\n",
       "      <th>0</th>\n",
       "      <td>location_1</td>\n",
       "      <td>Bengaluru</td>\n",
       "      <td>Karnataka</td>\n",
       "      <td>D</td>\n",
       "      <td>13</td>\n",
       "    </tr>\n",
       "    <tr>\n",
       "      <th>1</th>\n",
       "      <td>location_2</td>\n",
       "      <td>Bengaluru</td>\n",
       "      <td>Karnataka</td>\n",
       "      <td>D</td>\n",
       "      <td>13</td>\n",
       "    </tr>\n",
       "    <tr>\n",
       "      <th>2</th>\n",
       "      <td>location_3</td>\n",
       "      <td>Bengaluru</td>\n",
       "      <td>Karnataka</td>\n",
       "      <td>D</td>\n",
       "      <td>8</td>\n",
       "    </tr>\n",
       "    <tr>\n",
       "      <th>3</th>\n",
       "      <td>location_4</td>\n",
       "      <td>Bengaluru</td>\n",
       "      <td>Karnataka</td>\n",
       "      <td>D</td>\n",
       "      <td>9</td>\n",
       "    </tr>\n",
       "    <tr>\n",
       "      <th>4</th>\n",
       "      <td>location_5</td>\n",
       "      <td>Delhi</td>\n",
       "      <td>NCR</td>\n",
       "      <td>D</td>\n",
       "      <td>4</td>\n",
       "    </tr>\n",
       "  </tbody>\n",
       "</table>\n",
       "</div>"
      ],
      "text/plain": [
       "  location_id       city      state type  cluster\n",
       "0  location_1  Bengaluru  Karnataka    D       13\n",
       "1  location_2  Bengaluru  Karnataka    D       13\n",
       "2  location_3  Bengaluru  Karnataka    D        8\n",
       "3  location_4  Bengaluru  Karnataka    D        9\n",
       "4  location_5      Delhi        NCR    D        4"
      ]
     },
     "execution_count": 9,
     "metadata": {
      "tags": []
     },
     "output_type": "execute_result"
    }
   ],
   "source": [
    "## to see the first 5 rows of the data\n",
    "data_location.head()"
   ]
  },
  {
   "cell_type": "code",
   "execution_count": 0,
   "metadata": {
    "colab": {},
    "colab_type": "code",
    "id": "kF9rSUQ52dw6"
   },
   "outputs": [],
   "source": [
    "## changing the dtypes in the data for memory optimization\n",
    "data_location['location_id']= data_location['location_id'].astype('category')\n",
    "data_location['city']= data_location['city'].astype('category')\n",
    "data_location['state']= data_location['state'].astype('category')\n",
    "data_location['type']= data_location['type'].astype('category')\n",
    "data_location['cluster']= data_location['cluster'].astype('int8')"
   ]
  },
  {
   "cell_type": "code",
   "execution_count": 0,
   "metadata": {
    "colab": {
     "base_uri": "https://localhost:8080/",
     "height": 871
    },
    "colab_type": "code",
    "id": "0GHQQtNUgaiK",
    "outputId": "f640bdfe-7025-4c72-d3d0-ebdd8a58e9d6"
   },
   "outputs": [
    {
     "data": {
      "image/png": "[encoded data removed]",
      "text/plain": [
       "<Figure size 1440x1080 with 1 Axes>"
      ]
     },
     "metadata": {
      "tags": []
     },
     "output_type": "display_data"
    }
   ],
   "source": [
    "## treemap to show store counts in each city\n",
    "\n",
    "fig = plt.figure(figsize=(10,8))\n",
    "marrimeko=data_location.city.value_counts().to_frame()\n",
    "ax = fig.add_subplot(111, aspect=\"equal\")\n",
    "ax = squarify.plot(sizes=marrimeko['city'].values,label=marrimeko.index,color=sns.color_palette('cubehelix_r', 20),alpha=1)\n",
    "ax.set_xticks([])\n",
    "ax.set_yticks([])\n",
    "fig=plt.gcf()\n",
    "fig.set_size_inches(20,15)\n",
    "plt.title(\"Treemap of store counts across different cities\", fontsize=20)\n",
    "plt.show();"
   ]
  },
  {
   "cell_type": "code",
   "execution_count": 0,
   "metadata": {
    "colab": {
     "base_uri": "https://localhost:8080/",
     "height": 730
    },
    "colab_type": "code",
    "id": "NOLIJLXLgaaI",
    "outputId": "05147014-4eac-431c-bdc9-f9a868876191"
   },
   "outputs": [
    {
     "data": {
      "image/png": "[encoded data removed]",
      "text/plain": [
       "<Figure size 936x792 with 1 Axes>"
      ]
     },
     "metadata": {
      "tags": []
     },
     "output_type": "display_data"
    }
   ],
   "source": [
    "## stackbar to see count of stores and city with respect to type of business unit\n",
    "\n",
    "plt.style.use('seaborn-white')\n",
    "city_cluster = data_location.groupby(['city','type']).location_id.size()\n",
    "city_cluster.unstack().plot(kind='bar',stacked=True, colormap= 'viridis', figsize=(13,11),  grid=False)\n",
    "plt.title('Stacked Barplot of Store types opened for each city')\n",
    "plt.ylabel('Count of stores for a particular city')\n",
    "plt.show()"
   ]
  },
  {
   "cell_type": "code",
   "execution_count": 0,
   "metadata": {
    "colab": {},
    "colab_type": "code",
    "id": "Rq07RHj4gaYg"
   },
   "outputs": [],
   "source": [
    "## loaded the items data\n",
    "\n",
    "data_item= pd.read_csv('item_details.csv')"
   ]
  },
  {
   "cell_type": "code",
   "execution_count": 0,
   "metadata": {
    "colab": {
     "base_uri": "https://localhost:8080/",
     "height": 195
    },
    "colab_type": "code",
    "id": "AtbV0K5_mPd8",
    "outputId": "6534ce26-3346-4adf-acaa-6aea6864f1bf"
   },
   "outputs": [
    {
     "data": {
      "text/html": [
       "<div>\n",
       "<style scoped>\n",
       "    .dataframe tbody tr th:only-of-type {\n",
       "        vertical-align: middle;\n",
       "    }\n",
       "\n",
       "    .dataframe tbody tr th {\n",
       "        vertical-align: top;\n",
       "    }\n",
       "\n",
       "    .dataframe thead th {\n",
       "        text-align: right;\n",
       "    }\n",
       "</style>\n",
       "<table border=\"1\" class=\"dataframe\">\n",
       "  <thead>\n",
       "    <tr style=\"text-align: right;\">\n",
       "      <th></th>\n",
       "      <th>item_id</th>\n",
       "      <th>category_of_item</th>\n",
       "      <th>class</th>\n",
       "      <th>perishable</th>\n",
       "    </tr>\n",
       "  </thead>\n",
       "  <tbody>\n",
       "    <tr>\n",
       "      <th>0</th>\n",
       "      <td>item_96995</td>\n",
       "      <td>grocery_items</td>\n",
       "      <td>class_1093</td>\n",
       "      <td>0</td>\n",
       "    </tr>\n",
       "    <tr>\n",
       "      <th>1</th>\n",
       "      <td>item_99197</td>\n",
       "      <td>grocery_items</td>\n",
       "      <td>class_1067</td>\n",
       "      <td>0</td>\n",
       "    </tr>\n",
       "    <tr>\n",
       "      <th>2</th>\n",
       "      <td>item_103501</td>\n",
       "      <td>cleaning_utilities</td>\n",
       "      <td>class_3008</td>\n",
       "      <td>0</td>\n",
       "    </tr>\n",
       "    <tr>\n",
       "      <th>3</th>\n",
       "      <td>item_103520</td>\n",
       "      <td>grocery_items</td>\n",
       "      <td>class_1028</td>\n",
       "      <td>0</td>\n",
       "    </tr>\n",
       "    <tr>\n",
       "      <th>4</th>\n",
       "      <td>item_103665</td>\n",
       "      <td>baked_items / bread_based</td>\n",
       "      <td>class_2712</td>\n",
       "      <td>1</td>\n",
       "    </tr>\n",
       "  </tbody>\n",
       "</table>\n",
       "</div>"
      ],
      "text/plain": [
       "       item_id           category_of_item       class  perishable\n",
       "0   item_96995              grocery_items  class_1093           0\n",
       "1   item_99197              grocery_items  class_1067           0\n",
       "2  item_103501         cleaning_utilities  class_3008           0\n",
       "3  item_103520              grocery_items  class_1028           0\n",
       "4  item_103665  baked_items / bread_based  class_2712           1"
      ]
     },
     "execution_count": 15,
     "metadata": {
      "tags": []
     },
     "output_type": "execute_result"
    }
   ],
   "source": [
    "data_item.head()"
   ]
  },
  {
   "cell_type": "code",
   "execution_count": 0,
   "metadata": {
    "colab": {},
    "colab_type": "code",
    "id": "Qjr_d6mo2seX"
   },
   "outputs": [],
   "source": [
    "data_item['item_id']= data_item['item_id'].astype('category')\n",
    "data_item['category_of_item']= data_item['category_of_item'].astype('category')\n",
    "data_item['class']= data_item['class'].astype('category')\n",
    "data_item['perishable']= data_item['perishable'].astype('int8')"
   ]
  },
  {
   "cell_type": "code",
   "execution_count": 0,
   "metadata": {
    "colab": {
     "base_uri": "https://localhost:8080/",
     "height": 497
    },
    "colab_type": "code",
    "id": "g-bxg0N0oZR7",
    "outputId": "fc42941d-8309-4bac-8b6c-a25787adc083"
   },
   "outputs": [
    {
     "data": {
      "image/png": "[encoded data removed]",
      "text/plain": [
       "<Figure size 864x576 with 1 Axes>"
      ]
     },
     "metadata": {
      "tags": []
     },
     "output_type": "display_data"
    }
   ],
   "source": [
    "## bargraph for count of items in each category of items\n",
    "\n",
    "fig, ax = plt.subplots()\n",
    "fig.set_size_inches(12, 8)\n",
    "ax = sns.countplot(y = \"category_of_item\", data = data_item)"
   ]
  },
  {
   "cell_type": "code",
   "execution_count": 0,
   "metadata": {
    "colab": {
     "base_uri": "https://localhost:8080/",
     "height": 574
    },
    "colab_type": "code",
    "id": "W0HKZtVuvy7o",
    "outputId": "6caaa4b7-1289-4f5d-cdb1-9d313b54a51a"
   },
   "outputs": [
    {
     "data": {
      "image/png": "[encoded data removed]",
      "text/plain": [
       "<Figure size 864x504 with 1 Axes>"
      ]
     },
     "metadata": {
      "tags": []
     },
     "output_type": "display_data"
    }
   ],
   "source": [
    "ct = pd.crosstab(data_item.category_of_item, data_item.perishable)\n",
    "ct.plot.bar(figsize = (12, 7), stacked=True)\n",
    "plt.legend(title='perishable')\n",
    "plt.show()"
   ]
  },
  {
   "cell_type": "code",
   "execution_count": 0,
   "metadata": {
    "colab": {},
    "colab_type": "code",
    "id": "Y0a3dYE5gaTx"
   },
   "outputs": [],
   "source": [
    "## loaded the transactions data\n",
    "\n",
    "data_trans= pd.read_csv('train_transactions.csv')"
   ]
  },
  {
   "cell_type": "code",
   "execution_count": 0,
   "metadata": {
    "colab": {
     "base_uri": "https://localhost:8080/",
     "height": 195
    },
    "colab_type": "code",
    "id": "qQkVJEavgaQr",
    "outputId": "46f4abac-7bb2-40e3-8f97-4d28a33249c6"
   },
   "outputs": [
    {
     "data": {
      "text/html": [
       "<div>\n",
       "<style scoped>\n",
       "    .dataframe tbody tr th:only-of-type {\n",
       "        vertical-align: middle;\n",
       "    }\n",
       "\n",
       "    .dataframe tbody tr th {\n",
       "        vertical-align: top;\n",
       "    }\n",
       "\n",
       "    .dataframe thead th {\n",
       "        text-align: right;\n",
       "    }\n",
       "</style>\n",
       "<table border=\"1\" class=\"dataframe\">\n",
       "  <thead>\n",
       "    <tr style=\"text-align: right;\">\n",
       "      <th></th>\n",
       "      <th>date</th>\n",
       "      <th>location_identifier</th>\n",
       "      <th>transactions</th>\n",
       "    </tr>\n",
       "  </thead>\n",
       "  <tbody>\n",
       "    <tr>\n",
       "      <th>0</th>\n",
       "      <td>2015-01-01</td>\n",
       "      <td>location_25</td>\n",
       "      <td>770</td>\n",
       "    </tr>\n",
       "    <tr>\n",
       "      <th>1</th>\n",
       "      <td>2015-01-02</td>\n",
       "      <td>location_1</td>\n",
       "      <td>2111</td>\n",
       "    </tr>\n",
       "    <tr>\n",
       "      <th>2</th>\n",
       "      <td>2015-01-02</td>\n",
       "      <td>location_2</td>\n",
       "      <td>2358</td>\n",
       "    </tr>\n",
       "    <tr>\n",
       "      <th>3</th>\n",
       "      <td>2015-01-02</td>\n",
       "      <td>location_3</td>\n",
       "      <td>3487</td>\n",
       "    </tr>\n",
       "    <tr>\n",
       "      <th>4</th>\n",
       "      <td>2015-01-02</td>\n",
       "      <td>location_4</td>\n",
       "      <td>1922</td>\n",
       "    </tr>\n",
       "  </tbody>\n",
       "</table>\n",
       "</div>"
      ],
      "text/plain": [
       "         date location_identifier  transactions\n",
       "0  2015-01-01         location_25           770\n",
       "1  2015-01-02          location_1          2111\n",
       "2  2015-01-02          location_2          2358\n",
       "3  2015-01-02          location_3          3487\n",
       "4  2015-01-02          location_4          1922"
      ]
     },
     "execution_count": 19,
     "metadata": {
      "tags": []
     },
     "output_type": "execute_result"
    }
   ],
   "source": [
    "data_trans.head()"
   ]
  },
  {
   "cell_type": "code",
   "execution_count": 0,
   "metadata": {
    "colab": {},
    "colab_type": "code",
    "id": "D5YGWBPmom6I"
   },
   "outputs": [],
   "source": [
    "data_trans['date']= pd.to_datetime(data_trans['date'],format = \"%Y-%m-%d\")\n",
    "data_trans['location_identifier']= data_trans['location_identifier'].astype('category')\n",
    "data_trans['transactions']= data_trans['transactions'].astype('int16')"
   ]
  },
  {
   "cell_type": "code",
   "execution_count": 0,
   "metadata": {
    "colab": {},
    "colab_type": "code",
    "id": "sqXSjF9QTwFS"
   },
   "outputs": [],
   "source": [
    "data_trans['location_identifier']=data_trans['location_identifier'].apply(lambda x: x.strip('location_'))"
   ]
  },
  {
   "cell_type": "code",
   "execution_count": 0,
   "metadata": {
    "colab": {},
    "colab_type": "code",
    "id": "V_Whof_RbOSq"
   },
   "outputs": [],
   "source": [
    "data_trans['year']=data_trans['date'].dt.year"
   ]
  },
  {
   "cell_type": "code",
   "execution_count": 0,
   "metadata": {
    "colab": {
     "base_uri": "https://localhost:8080/",
     "height": 296
    },
    "colab_type": "code",
    "id": "NSKn4PdTavgJ",
    "outputId": "6e9e7cc0-7a71-40e0-eafe-b406fbdbf955"
   },
   "outputs": [
    {
     "data": {
      "text/plain": [
       "<matplotlib.axes._subplots.AxesSubplot at 0x7f8c8f894f98>"
      ]
     },
     "execution_count": 56,
     "metadata": {
      "tags": []
     },
     "output_type": "execute_result"
    },
    {
     "data": {
      "image/png": "[encoded data removed]",
      "text/plain": [
       "<Figure size 432x288 with 1 Axes>"
      ]
     },
     "metadata": {
      "tags": []
     },
     "output_type": "display_data"
    }
   ],
   "source": [
    "sns.barplot(x=data_trans['year'],y=data_trans['transactions'],palette='bright')       ## plot to check which year has high sales for first 15 days."
   ]
  },
  {
   "cell_type": "code",
   "execution_count": 0,
   "metadata": {
    "colab": {
     "base_uri": "https://localhost:8080/",
     "height": 729
    },
    "colab_type": "code",
    "id": "d8X6hMmVzpgu",
    "outputId": "390ba03c-95d6-465e-fb11-157a3d720fb9"
   },
   "outputs": [
    {
     "data": {
      "image/png": "[encoded data removed]",
      "text/plain": [
       "<Figure size 720x720 with 1 Axes>"
      ]
     },
     "metadata": {
      "tags": []
     },
     "output_type": "display_data"
    }
   ],
   "source": [
    "## plot to explore the transactions for different locations with respect to 4 years\n",
    "\n",
    "g = sns.factorplot(x=\"location_identifier\", y=\"transactions\", height = 10, data=data_trans)\n"
   ]
  },
  {
   "cell_type": "code",
   "execution_count": 0,
   "metadata": {
    "colab": {},
    "colab_type": "code",
    "id": "0qA5Fy_zom2p"
   },
   "outputs": [],
   "source": [
    "## seeing total transactions with respect to date by writing sql query\n",
    "\n",
    "q1 = \"\"\"SELECT date,sum(transactions) as tot_trans FROM data_trans GROUP BY date\"\"\"\n",
    "\n",
    "trans1= pd.DataFrame(ps.sqldf(q1, locals()))"
   ]
  },
  {
   "cell_type": "code",
   "execution_count": 0,
   "metadata": {
    "colab": {
     "base_uri": "https://localhost:8080/",
     "height": 195
    },
    "colab_type": "code",
    "id": "a2tPU9DzxHFy",
    "outputId": "4e60e45b-6e42-4f97-8574-106302d6acdf"
   },
   "outputs": [
    {
     "data": {
      "text/html": [
       "<div>\n",
       "<style scoped>\n",
       "    .dataframe tbody tr th:only-of-type {\n",
       "        vertical-align: middle;\n",
       "    }\n",
       "\n",
       "    .dataframe tbody tr th {\n",
       "        vertical-align: top;\n",
       "    }\n",
       "\n",
       "    .dataframe thead th {\n",
       "        text-align: right;\n",
       "    }\n",
       "</style>\n",
       "<table border=\"1\" class=\"dataframe\">\n",
       "  <thead>\n",
       "    <tr style=\"text-align: right;\">\n",
       "      <th></th>\n",
       "      <th>date</th>\n",
       "      <th>tot_trans</th>\n",
       "    </tr>\n",
       "  </thead>\n",
       "  <tbody>\n",
       "    <tr>\n",
       "      <th>0</th>\n",
       "      <td>2015-01-01 00:00:00.000000</td>\n",
       "      <td>770</td>\n",
       "    </tr>\n",
       "    <tr>\n",
       "      <th>1</th>\n",
       "      <td>2015-01-02 00:00:00.000000</td>\n",
       "      <td>93215</td>\n",
       "    </tr>\n",
       "    <tr>\n",
       "      <th>2</th>\n",
       "      <td>2015-01-03 00:00:00.000000</td>\n",
       "      <td>78504</td>\n",
       "    </tr>\n",
       "    <tr>\n",
       "      <th>3</th>\n",
       "      <td>2015-01-04 00:00:00.000000</td>\n",
       "      <td>78494</td>\n",
       "    </tr>\n",
       "    <tr>\n",
       "      <th>4</th>\n",
       "      <td>2015-01-05 00:00:00.000000</td>\n",
       "      <td>93573</td>\n",
       "    </tr>\n",
       "  </tbody>\n",
       "</table>\n",
       "</div>"
      ],
      "text/plain": [
       "                         date  tot_trans\n",
       "0  2015-01-01 00:00:00.000000        770\n",
       "1  2015-01-02 00:00:00.000000      93215\n",
       "2  2015-01-03 00:00:00.000000      78504\n",
       "3  2015-01-04 00:00:00.000000      78494\n",
       "4  2015-01-05 00:00:00.000000      93573"
      ]
     },
     "execution_count": 24,
     "metadata": {
      "tags": []
     },
     "output_type": "execute_result"
    }
   ],
   "source": [
    "trans1.head()"
   ]
  },
  {
   "cell_type": "code",
   "execution_count": 0,
   "metadata": {
    "colab": {
     "base_uri": "https://localhost:8080/",
     "height": 643
    },
    "colab_type": "code",
    "id": "dRwyt5Zzomy8",
    "outputId": "1bd0976e-aa71-458e-d9f0-42757378b6a3"
   },
   "outputs": [
    {
     "data": {
      "text/plain": [
       "<matplotlib.axes._subplots.AxesSubplot at 0x7f8cbc1992b0>"
      ]
     },
     "execution_count": 25,
     "metadata": {
      "tags": []
     },
     "output_type": "execute_result"
    },
    {
     "data": {
      "image/png": "[encoded data removed]",
      "text/plain": [
       "<Figure size 1296x720 with 1 Axes>"
      ]
     },
     "metadata": {
      "tags": []
     },
     "output_type": "display_data"
    }
   ],
   "source": [
    "## line graph with repect to date and sum of transactions\n",
    "\n",
    "trans1.plot(kind='line',x='date',y='tot_trans',figsize=(18,10))"
   ]
  },
  {
   "cell_type": "code",
   "execution_count": 0,
   "metadata": {
    "colab": {},
    "colab_type": "code",
    "id": "SHStOQIzZZul"
   },
   "outputs": [],
   "source": [
    "## loaded the train data\n",
    "\n",
    "data_train= pd.read_csv('train.csv')"
   ]
  },
  {
   "cell_type": "code",
   "execution_count": 0,
   "metadata": {
    "colab": {
     "base_uri": "https://localhost:8080/",
     "height": 195
    },
    "colab_type": "code",
    "id": "p4v5ZAEjaDbX",
    "outputId": "cc2b98ac-fbb4-45bf-f89b-39c4eb0fd305"
   },
   "outputs": [
    {
     "data": {
      "text/html": [
       "<div>\n",
       "<style scoped>\n",
       "    .dataframe tbody tr th:only-of-type {\n",
       "        vertical-align: middle;\n",
       "    }\n",
       "\n",
       "    .dataframe tbody tr th {\n",
       "        vertical-align: top;\n",
       "    }\n",
       "\n",
       "    .dataframe thead th {\n",
       "        text-align: right;\n",
       "    }\n",
       "</style>\n",
       "<table border=\"1\" class=\"dataframe\">\n",
       "  <thead>\n",
       "    <tr style=\"text-align: right;\">\n",
       "      <th></th>\n",
       "      <th>date</th>\n",
       "      <th>locationId</th>\n",
       "      <th>item_id</th>\n",
       "      <th>unit_sales</th>\n",
       "      <th>onpromotion</th>\n",
       "    </tr>\n",
       "  </thead>\n",
       "  <tbody>\n",
       "    <tr>\n",
       "      <th>0</th>\n",
       "      <td>2015-01-01</td>\n",
       "      <td>location_25</td>\n",
       "      <td>item_103665</td>\n",
       "      <td>7.0</td>\n",
       "      <td>NaN</td>\n",
       "    </tr>\n",
       "    <tr>\n",
       "      <th>1</th>\n",
       "      <td>2015-01-01</td>\n",
       "      <td>location_25</td>\n",
       "      <td>item_105574</td>\n",
       "      <td>1.0</td>\n",
       "      <td>NaN</td>\n",
       "    </tr>\n",
       "    <tr>\n",
       "      <th>2</th>\n",
       "      <td>2015-01-01</td>\n",
       "      <td>location_25</td>\n",
       "      <td>item_105575</td>\n",
       "      <td>2.0</td>\n",
       "      <td>NaN</td>\n",
       "    </tr>\n",
       "    <tr>\n",
       "      <th>3</th>\n",
       "      <td>2015-01-01</td>\n",
       "      <td>location_25</td>\n",
       "      <td>item_108079</td>\n",
       "      <td>1.0</td>\n",
       "      <td>NaN</td>\n",
       "    </tr>\n",
       "    <tr>\n",
       "      <th>4</th>\n",
       "      <td>2015-01-01</td>\n",
       "      <td>location_25</td>\n",
       "      <td>item_108701</td>\n",
       "      <td>1.0</td>\n",
       "      <td>NaN</td>\n",
       "    </tr>\n",
       "  </tbody>\n",
       "</table>\n",
       "</div>"
      ],
      "text/plain": [
       "         date   locationId      item_id  unit_sales onpromotion\n",
       "0  2015-01-01  location_25  item_103665         7.0         NaN\n",
       "1  2015-01-01  location_25  item_105574         1.0         NaN\n",
       "2  2015-01-01  location_25  item_105575         2.0         NaN\n",
       "3  2015-01-01  location_25  item_108079         1.0         NaN\n",
       "4  2015-01-01  location_25  item_108701         1.0         NaN"
      ]
     },
     "execution_count": 27,
     "metadata": {
      "tags": []
     },
     "output_type": "execute_result"
    }
   ],
   "source": [
    "data_train.head()         ## to check the first five records of the data"
   ]
  },
  {
   "cell_type": "code",
   "execution_count": 0,
   "metadata": {
    "colab": {},
    "colab_type": "code",
    "id": "8nB5ZYJLxoWI"
   },
   "outputs": [],
   "source": [
    "### changing the dtypes of train data\n",
    "\n",
    "data_train['date']=pd.to_datetime(data_train['date'],format = \"%Y-%m-%d\" )\n",
    "data_train['item_id']=data_train['item_id'].astype('category')\n",
    "data_train['locationId']= data_train['locationId'].astype('category')\n",
    "data_train['unit_sales']= data_train['unit_sales'].astype('float64')\n",
    "data_train['onpromotion']=data_train['onpromotion'].astype('category')"
   ]
  },
  {
   "cell_type": "code",
   "execution_count": 0,
   "metadata": {
    "colab": {
     "base_uri": "https://localhost:8080/",
     "height": 538
    },
    "colab_type": "code",
    "id": "_R_R6qSyM-fW",
    "outputId": "a8f5be43-5503-4788-9077-236a75129146"
   },
   "outputs": [
    {
     "name": "stdout",
     "output_type": "stream",
     "text": [
      "Index                128\n",
      "date           813510232\n",
      "locationId     101694934\n",
      "item_id        203808427\n",
      "unit_sales     203377558\n",
      "onpromotion    101688927\n",
      "dtype: int64\n",
      "\n",
      "\n",
      "Index                     128\n",
      "date                   571128\n",
      "location_identifier     77546\n",
      "transactions           142782\n",
      "dtype: int64\n",
      "\n",
      "\n",
      "Index           128\n",
      "location_id    6277\n",
      "city           2107\n",
      "state          1558\n",
      "type            544\n",
      "cluster          54\n",
      "dtype: int64\n",
      "\n",
      "\n",
      "Index                  128\n",
      "item_id             453556\n",
      "category_of_item      7525\n",
      "class                41019\n",
      "perishable            4100\n",
      "dtype: int64\n"
     ]
    }
   ],
   "source": [
    "## to see the memory usage of each data\n",
    "\n",
    "print(data_train.memory_usage(deep=True))\n",
    "print('\\n')\n",
    "print(data_trans.memory_usage(deep=True))\n",
    "print('\\n')\n",
    "print(data_location.memory_usage(deep=True))\n",
    "print('\\n')\n",
    "print(data_item.memory_usage(deep=True))"
   ]
  },
  {
   "cell_type": "code",
   "execution_count": 0,
   "metadata": {
    "colab": {
     "base_uri": "https://localhost:8080/",
     "height": 70
    },
    "colab_type": "code",
    "id": "3fTcU87gKDq8",
    "outputId": "bf24add2-2b15-44d4-ffbc-0e78ad134de6"
   },
   "outputs": [
    {
     "data": {
      "text/plain": [
       "False    74970155\n",
       "True      5060973\n",
       "Name: onpromotion, dtype: int64"
      ]
     },
     "execution_count": 15,
     "metadata": {
      "tags": []
     },
     "output_type": "execute_result"
    }
   ],
   "source": [
    "## value counts for onpromotion in train data\n",
    "\n",
    "data_train.onpromotion.value_counts()"
   ]
  },
  {
   "cell_type": "code",
   "execution_count": 0,
   "metadata": {
    "colab": {
     "base_uri": "https://localhost:8080/",
     "height": 34
    },
    "colab_type": "code",
    "id": "P4RDOmNqj-Hg",
    "outputId": "5234e0b3-9a8c-4559-8fa9-96d85a76557e"
   },
   "outputs": [
    {
     "data": {
      "text/plain": [
       "21657651"
      ]
     },
     "execution_count": 32,
     "metadata": {
      "tags": []
     },
     "output_type": "execute_result"
    }
   ],
   "source": [
    "## NaN's in the onpromotions\n",
    "\n",
    "data_train.onpromotion.isnull().sum()"
   ]
  },
  {
   "cell_type": "code",
   "execution_count": 0,
   "metadata": {
    "colab": {
     "base_uri": "https://localhost:8080/",
     "height": 265
    },
    "colab_type": "code",
    "id": "4YkRRJc4kfgg",
    "outputId": "84847945-2232-4072-c8ca-84cd292d7770"
   },
   "outputs": [
    {
     "data": {
      "text/plain": [
       "<matplotlib.axes._subplots.AxesSubplot at 0x7f8c8faebac8>"
      ]
     },
     "execution_count": 33,
     "metadata": {
      "tags": []
     },
     "output_type": "execute_result"
    },
    {
     "data": {
      "image/png": "[encoded data removed]",
      "text/plain": [
       "<Figure size 432x288 with 1 Axes>"
      ]
     },
     "metadata": {
      "tags": []
     },
     "output_type": "display_data"
    }
   ],
   "source": [
    "data_train[\"onpromotion\"].value_counts().plot(kind='pie')"
   ]
  },
  {
   "cell_type": "code",
   "execution_count": 0,
   "metadata": {
    "colab": {
     "base_uri": "https://localhost:8080/",
     "height": 432
    },
    "colab_type": "code",
    "id": "4tmNIPdNJx5p",
    "outputId": "f5683698-de9f-4a45-cdfd-9793265870b9"
   },
   "outputs": [
    {
     "data": {
      "text/html": [
       "<div>\n",
       "<style scoped>\n",
       "    .dataframe tbody tr th:only-of-type {\n",
       "        vertical-align: middle;\n",
       "    }\n",
       "\n",
       "    .dataframe tbody tr th {\n",
       "        vertical-align: top;\n",
       "    }\n",
       "\n",
       "    .dataframe thead th {\n",
       "        text-align: right;\n",
       "    }\n",
       "</style>\n",
       "<table border=\"1\" class=\"dataframe\">\n",
       "  <thead>\n",
       "    <tr style=\"text-align: right;\">\n",
       "      <th></th>\n",
       "      <th>date</th>\n",
       "      <th>locationId</th>\n",
       "      <th>item_id</th>\n",
       "      <th>unit_sales</th>\n",
       "      <th>onpromotion</th>\n",
       "    </tr>\n",
       "  </thead>\n",
       "  <tbody>\n",
       "    <tr>\n",
       "      <th>count</th>\n",
       "      <td>101688779</td>\n",
       "      <td>101688779</td>\n",
       "      <td>101688779</td>\n",
       "      <td>1.016888e+08</td>\n",
       "      <td>80031128</td>\n",
       "    </tr>\n",
       "    <tr>\n",
       "      <th>unique</th>\n",
       "      <td>1456</td>\n",
       "      <td>53</td>\n",
       "      <td>3890</td>\n",
       "      <td>NaN</td>\n",
       "      <td>2</td>\n",
       "    </tr>\n",
       "    <tr>\n",
       "      <th>top</th>\n",
       "      <td>2018-02-28 00:00:00</td>\n",
       "      <td>location_44</td>\n",
       "      <td>item_314384</td>\n",
       "      <td>NaN</td>\n",
       "      <td>False</td>\n",
       "    </tr>\n",
       "    <tr>\n",
       "      <th>freq</th>\n",
       "      <td>193430</td>\n",
       "      <td>2878119</td>\n",
       "      <td>71407</td>\n",
       "      <td>NaN</td>\n",
       "      <td>74970155</td>\n",
       "    </tr>\n",
       "    <tr>\n",
       "      <th>first</th>\n",
       "      <td>2015-01-01 00:00:00</td>\n",
       "      <td>NaN</td>\n",
       "      <td>NaN</td>\n",
       "      <td>NaN</td>\n",
       "      <td>NaN</td>\n",
       "    </tr>\n",
       "    <tr>\n",
       "      <th>last</th>\n",
       "      <td>2018-12-31 00:00:00</td>\n",
       "      <td>NaN</td>\n",
       "      <td>NaN</td>\n",
       "      <td>NaN</td>\n",
       "      <td>NaN</td>\n",
       "    </tr>\n",
       "    <tr>\n",
       "      <th>mean</th>\n",
       "      <td>NaN</td>\n",
       "      <td>NaN</td>\n",
       "      <td>NaN</td>\n",
       "      <td>8.647890e+00</td>\n",
       "      <td>NaN</td>\n",
       "    </tr>\n",
       "    <tr>\n",
       "      <th>std</th>\n",
       "      <td>NaN</td>\n",
       "      <td>NaN</td>\n",
       "      <td>NaN</td>\n",
       "      <td>2.349533e+01</td>\n",
       "      <td>NaN</td>\n",
       "    </tr>\n",
       "    <tr>\n",
       "      <th>min</th>\n",
       "      <td>NaN</td>\n",
       "      <td>NaN</td>\n",
       "      <td>NaN</td>\n",
       "      <td>-1.537200e+04</td>\n",
       "      <td>NaN</td>\n",
       "    </tr>\n",
       "    <tr>\n",
       "      <th>25%</th>\n",
       "      <td>NaN</td>\n",
       "      <td>NaN</td>\n",
       "      <td>NaN</td>\n",
       "      <td>2.000000e+00</td>\n",
       "      <td>NaN</td>\n",
       "    </tr>\n",
       "    <tr>\n",
       "      <th>50%</th>\n",
       "      <td>NaN</td>\n",
       "      <td>NaN</td>\n",
       "      <td>NaN</td>\n",
       "      <td>4.000000e+00</td>\n",
       "      <td>NaN</td>\n",
       "    </tr>\n",
       "    <tr>\n",
       "      <th>75%</th>\n",
       "      <td>NaN</td>\n",
       "      <td>NaN</td>\n",
       "      <td>NaN</td>\n",
       "      <td>9.000000e+00</td>\n",
       "      <td>NaN</td>\n",
       "    </tr>\n",
       "    <tr>\n",
       "      <th>max</th>\n",
       "      <td>NaN</td>\n",
       "      <td>NaN</td>\n",
       "      <td>NaN</td>\n",
       "      <td>8.944000e+04</td>\n",
       "      <td>NaN</td>\n",
       "    </tr>\n",
       "  </tbody>\n",
       "</table>\n",
       "</div>"
      ],
      "text/plain": [
       "                       date   locationId      item_id    unit_sales onpromotion\n",
       "count             101688779    101688779    101688779  1.016888e+08    80031128\n",
       "unique                 1456           53         3890           NaN           2\n",
       "top     2018-02-28 00:00:00  location_44  item_314384           NaN       False\n",
       "freq                 193430      2878119        71407           NaN    74970155\n",
       "first   2015-01-01 00:00:00          NaN          NaN           NaN         NaN\n",
       "last    2018-12-31 00:00:00          NaN          NaN           NaN         NaN\n",
       "mean                    NaN          NaN          NaN  8.647890e+00         NaN\n",
       "std                     NaN          NaN          NaN  2.349533e+01         NaN\n",
       "min                     NaN          NaN          NaN -1.537200e+04         NaN\n",
       "25%                     NaN          NaN          NaN  2.000000e+00         NaN\n",
       "50%                     NaN          NaN          NaN  4.000000e+00         NaN\n",
       "75%                     NaN          NaN          NaN  9.000000e+00         NaN\n",
       "max                     NaN          NaN          NaN  8.944000e+04         NaN"
      ]
     },
     "execution_count": 36,
     "metadata": {
      "tags": []
     },
     "output_type": "execute_result"
    }
   ],
   "source": [
    "## detailed view of the train data\n",
    "\n",
    "data_train.describe(include=\"all\")"
   ]
  },
  {
   "cell_type": "code",
   "execution_count": 0,
   "metadata": {
    "colab": {
     "base_uri": "https://localhost:8080/",
     "height": 373
    },
    "colab_type": "code",
    "id": "24p3JI1cYjPw",
    "outputId": "4805c8ec-69bb-474b-8f8d-e72054cd0749"
   },
   "outputs": [
    {
     "data": {
      "text/html": [
       "<div>\n",
       "<style scoped>\n",
       "    .dataframe tbody tr th:only-of-type {\n",
       "        vertical-align: middle;\n",
       "    }\n",
       "\n",
       "    .dataframe tbody tr th {\n",
       "        vertical-align: top;\n",
       "    }\n",
       "\n",
       "    .dataframe thead th {\n",
       "        text-align: right;\n",
       "    }\n",
       "</style>\n",
       "<table border=\"1\" class=\"dataframe\">\n",
       "  <thead>\n",
       "    <tr style=\"text-align: right;\">\n",
       "      <th></th>\n",
       "      <th>item_id</th>\n",
       "      <th>category_of_item</th>\n",
       "      <th>class</th>\n",
       "      <th>perishable</th>\n",
       "    </tr>\n",
       "  </thead>\n",
       "  <tbody>\n",
       "    <tr>\n",
       "      <th>count</th>\n",
       "      <td>4100</td>\n",
       "      <td>4100</td>\n",
       "      <td>4100</td>\n",
       "      <td>4100.000000</td>\n",
       "    </tr>\n",
       "    <tr>\n",
       "      <th>unique</th>\n",
       "      <td>4100</td>\n",
       "      <td>30</td>\n",
       "      <td>337</td>\n",
       "      <td>NaN</td>\n",
       "    </tr>\n",
       "    <tr>\n",
       "      <th>top</th>\n",
       "      <td>item_999547</td>\n",
       "      <td>grocery_items</td>\n",
       "      <td>class_1016</td>\n",
       "      <td>NaN</td>\n",
       "    </tr>\n",
       "    <tr>\n",
       "      <th>freq</th>\n",
       "      <td>1</td>\n",
       "      <td>1334</td>\n",
       "      <td>133</td>\n",
       "      <td>NaN</td>\n",
       "    </tr>\n",
       "    <tr>\n",
       "      <th>mean</th>\n",
       "      <td>NaN</td>\n",
       "      <td>NaN</td>\n",
       "      <td>NaN</td>\n",
       "      <td>0.240488</td>\n",
       "    </tr>\n",
       "    <tr>\n",
       "      <th>std</th>\n",
       "      <td>NaN</td>\n",
       "      <td>NaN</td>\n",
       "      <td>NaN</td>\n",
       "      <td>0.427432</td>\n",
       "    </tr>\n",
       "    <tr>\n",
       "      <th>min</th>\n",
       "      <td>NaN</td>\n",
       "      <td>NaN</td>\n",
       "      <td>NaN</td>\n",
       "      <td>0.000000</td>\n",
       "    </tr>\n",
       "    <tr>\n",
       "      <th>25%</th>\n",
       "      <td>NaN</td>\n",
       "      <td>NaN</td>\n",
       "      <td>NaN</td>\n",
       "      <td>0.000000</td>\n",
       "    </tr>\n",
       "    <tr>\n",
       "      <th>50%</th>\n",
       "      <td>NaN</td>\n",
       "      <td>NaN</td>\n",
       "      <td>NaN</td>\n",
       "      <td>0.000000</td>\n",
       "    </tr>\n",
       "    <tr>\n",
       "      <th>75%</th>\n",
       "      <td>NaN</td>\n",
       "      <td>NaN</td>\n",
       "      <td>NaN</td>\n",
       "      <td>0.000000</td>\n",
       "    </tr>\n",
       "    <tr>\n",
       "      <th>max</th>\n",
       "      <td>NaN</td>\n",
       "      <td>NaN</td>\n",
       "      <td>NaN</td>\n",
       "      <td>1.000000</td>\n",
       "    </tr>\n",
       "  </tbody>\n",
       "</table>\n",
       "</div>"
      ],
      "text/plain": [
       "            item_id category_of_item       class   perishable\n",
       "count          4100             4100        4100  4100.000000\n",
       "unique         4100               30         337          NaN\n",
       "top     item_999547    grocery_items  class_1016          NaN\n",
       "freq              1             1334         133          NaN\n",
       "mean            NaN              NaN         NaN     0.240488\n",
       "std             NaN              NaN         NaN     0.427432\n",
       "min             NaN              NaN         NaN     0.000000\n",
       "25%             NaN              NaN         NaN     0.000000\n",
       "50%             NaN              NaN         NaN     0.000000\n",
       "75%             NaN              NaN         NaN     0.000000\n",
       "max             NaN              NaN         NaN     1.000000"
      ]
     },
     "execution_count": 37,
     "metadata": {
      "tags": []
     },
     "output_type": "execute_result"
    }
   ],
   "source": [
    "data_item.describe(include='all')\n"
   ]
  },
  {
   "cell_type": "code",
   "execution_count": 0,
   "metadata": {
    "colab": {
     "base_uri": "https://localhost:8080/",
     "height": 373
    },
    "colab_type": "code",
    "id": "Oit2Hy24YjEi",
    "outputId": "51b3dae5-2c28-4262-c2a5-1c1d525e8642"
   },
   "outputs": [
    {
     "data": {
      "text/html": [
       "<div>\n",
       "<style scoped>\n",
       "    .dataframe tbody tr th:only-of-type {\n",
       "        vertical-align: middle;\n",
       "    }\n",
       "\n",
       "    .dataframe tbody tr th {\n",
       "        vertical-align: top;\n",
       "    }\n",
       "\n",
       "    .dataframe thead th {\n",
       "        text-align: right;\n",
       "    }\n",
       "</style>\n",
       "<table border=\"1\" class=\"dataframe\">\n",
       "  <thead>\n",
       "    <tr style=\"text-align: right;\">\n",
       "      <th></th>\n",
       "      <th>location_id</th>\n",
       "      <th>city</th>\n",
       "      <th>state</th>\n",
       "      <th>type</th>\n",
       "      <th>cluster</th>\n",
       "    </tr>\n",
       "  </thead>\n",
       "  <tbody>\n",
       "    <tr>\n",
       "      <th>count</th>\n",
       "      <td>54</td>\n",
       "      <td>54</td>\n",
       "      <td>54</td>\n",
       "      <td>54</td>\n",
       "      <td>54.000000</td>\n",
       "    </tr>\n",
       "    <tr>\n",
       "      <th>unique</th>\n",
       "      <td>54</td>\n",
       "      <td>22</td>\n",
       "      <td>13</td>\n",
       "      <td>5</td>\n",
       "      <td>NaN</td>\n",
       "    </tr>\n",
       "    <tr>\n",
       "      <th>top</th>\n",
       "      <td>location_9</td>\n",
       "      <td>Bengaluru</td>\n",
       "      <td>Karnataka</td>\n",
       "      <td>D</td>\n",
       "      <td>NaN</td>\n",
       "    </tr>\n",
       "    <tr>\n",
       "      <th>freq</th>\n",
       "      <td>1</td>\n",
       "      <td>18</td>\n",
       "      <td>19</td>\n",
       "      <td>18</td>\n",
       "      <td>NaN</td>\n",
       "    </tr>\n",
       "    <tr>\n",
       "      <th>mean</th>\n",
       "      <td>NaN</td>\n",
       "      <td>NaN</td>\n",
       "      <td>NaN</td>\n",
       "      <td>NaN</td>\n",
       "      <td>8.481481</td>\n",
       "    </tr>\n",
       "    <tr>\n",
       "      <th>std</th>\n",
       "      <td>NaN</td>\n",
       "      <td>NaN</td>\n",
       "      <td>NaN</td>\n",
       "      <td>NaN</td>\n",
       "      <td>4.693395</td>\n",
       "    </tr>\n",
       "    <tr>\n",
       "      <th>min</th>\n",
       "      <td>NaN</td>\n",
       "      <td>NaN</td>\n",
       "      <td>NaN</td>\n",
       "      <td>NaN</td>\n",
       "      <td>1.000000</td>\n",
       "    </tr>\n",
       "    <tr>\n",
       "      <th>25%</th>\n",
       "      <td>NaN</td>\n",
       "      <td>NaN</td>\n",
       "      <td>NaN</td>\n",
       "      <td>NaN</td>\n",
       "      <td>4.000000</td>\n",
       "    </tr>\n",
       "    <tr>\n",
       "      <th>50%</th>\n",
       "      <td>NaN</td>\n",
       "      <td>NaN</td>\n",
       "      <td>NaN</td>\n",
       "      <td>NaN</td>\n",
       "      <td>8.500000</td>\n",
       "    </tr>\n",
       "    <tr>\n",
       "      <th>75%</th>\n",
       "      <td>NaN</td>\n",
       "      <td>NaN</td>\n",
       "      <td>NaN</td>\n",
       "      <td>NaN</td>\n",
       "      <td>13.000000</td>\n",
       "    </tr>\n",
       "    <tr>\n",
       "      <th>max</th>\n",
       "      <td>NaN</td>\n",
       "      <td>NaN</td>\n",
       "      <td>NaN</td>\n",
       "      <td>NaN</td>\n",
       "      <td>17.000000</td>\n",
       "    </tr>\n",
       "  </tbody>\n",
       "</table>\n",
       "</div>"
      ],
      "text/plain": [
       "       location_id       city      state type    cluster\n",
       "count           54         54         54   54  54.000000\n",
       "unique          54         22         13    5        NaN\n",
       "top     location_9  Bengaluru  Karnataka    D        NaN\n",
       "freq             1         18         19   18        NaN\n",
       "mean           NaN        NaN        NaN  NaN   8.481481\n",
       "std            NaN        NaN        NaN  NaN   4.693395\n",
       "min            NaN        NaN        NaN  NaN   1.000000\n",
       "25%            NaN        NaN        NaN  NaN   4.000000\n",
       "50%            NaN        NaN        NaN  NaN   8.500000\n",
       "75%            NaN        NaN        NaN  NaN  13.000000\n",
       "max            NaN        NaN        NaN  NaN  17.000000"
      ]
     },
     "execution_count": 38,
     "metadata": {
      "tags": []
     },
     "output_type": "execute_result"
    }
   ],
   "source": [
    "data_location.describe(include='all')\n"
   ]
  },
  {
   "cell_type": "code",
   "execution_count": 0,
   "metadata": {
    "colab": {
     "base_uri": "https://localhost:8080/",
     "height": 432
    },
    "colab_type": "code",
    "id": "R3YkZWB8Yi5o",
    "outputId": "ef76ebec-e5ab-4112-b825-9a372ee2ebd9"
   },
   "outputs": [
    {
     "data": {
      "text/html": [
       "<div>\n",
       "<style scoped>\n",
       "    .dataframe tbody tr th:only-of-type {\n",
       "        vertical-align: middle;\n",
       "    }\n",
       "\n",
       "    .dataframe tbody tr th {\n",
       "        vertical-align: top;\n",
       "    }\n",
       "\n",
       "    .dataframe thead th {\n",
       "        text-align: right;\n",
       "    }\n",
       "</style>\n",
       "<table border=\"1\" class=\"dataframe\">\n",
       "  <thead>\n",
       "    <tr style=\"text-align: right;\">\n",
       "      <th></th>\n",
       "      <th>date</th>\n",
       "      <th>location_identifier</th>\n",
       "      <th>transactions</th>\n",
       "    </tr>\n",
       "  </thead>\n",
       "  <tbody>\n",
       "    <tr>\n",
       "      <th>count</th>\n",
       "      <td>71391</td>\n",
       "      <td>71391</td>\n",
       "      <td>71391.000000</td>\n",
       "    </tr>\n",
       "    <tr>\n",
       "      <th>unique</th>\n",
       "      <td>1454</td>\n",
       "      <td>53</td>\n",
       "      <td>NaN</td>\n",
       "    </tr>\n",
       "    <tr>\n",
       "      <th>top</th>\n",
       "      <td>2018-02-28 00:00:00</td>\n",
       "      <td>33</td>\n",
       "      <td>NaN</td>\n",
       "    </tr>\n",
       "    <tr>\n",
       "      <th>freq</th>\n",
       "      <td>106</td>\n",
       "      <td>1452</td>\n",
       "      <td>NaN</td>\n",
       "    </tr>\n",
       "    <tr>\n",
       "      <th>first</th>\n",
       "      <td>2015-01-01 00:00:00</td>\n",
       "      <td>NaN</td>\n",
       "      <td>NaN</td>\n",
       "    </tr>\n",
       "    <tr>\n",
       "      <th>last</th>\n",
       "      <td>2018-12-31 00:00:00</td>\n",
       "      <td>NaN</td>\n",
       "      <td>NaN</td>\n",
       "    </tr>\n",
       "    <tr>\n",
       "      <th>mean</th>\n",
       "      <td>NaN</td>\n",
       "      <td>NaN</td>\n",
       "      <td>1701.598367</td>\n",
       "    </tr>\n",
       "    <tr>\n",
       "      <th>std</th>\n",
       "      <td>NaN</td>\n",
       "      <td>NaN</td>\n",
       "      <td>968.125835</td>\n",
       "    </tr>\n",
       "    <tr>\n",
       "      <th>min</th>\n",
       "      <td>NaN</td>\n",
       "      <td>NaN</td>\n",
       "      <td>5.000000</td>\n",
       "    </tr>\n",
       "    <tr>\n",
       "      <th>25%</th>\n",
       "      <td>NaN</td>\n",
       "      <td>NaN</td>\n",
       "      <td>1049.000000</td>\n",
       "    </tr>\n",
       "    <tr>\n",
       "      <th>50%</th>\n",
       "      <td>NaN</td>\n",
       "      <td>NaN</td>\n",
       "      <td>1397.000000</td>\n",
       "    </tr>\n",
       "    <tr>\n",
       "      <th>75%</th>\n",
       "      <td>NaN</td>\n",
       "      <td>NaN</td>\n",
       "      <td>2100.000000</td>\n",
       "    </tr>\n",
       "    <tr>\n",
       "      <th>max</th>\n",
       "      <td>NaN</td>\n",
       "      <td>NaN</td>\n",
       "      <td>8359.000000</td>\n",
       "    </tr>\n",
       "  </tbody>\n",
       "</table>\n",
       "</div>"
      ],
      "text/plain": [
       "                       date location_identifier  transactions\n",
       "count                 71391               71391  71391.000000\n",
       "unique                 1454                  53           NaN\n",
       "top     2018-02-28 00:00:00                  33           NaN\n",
       "freq                    106                1452           NaN\n",
       "first   2015-01-01 00:00:00                 NaN           NaN\n",
       "last    2018-12-31 00:00:00                 NaN           NaN\n",
       "mean                    NaN                 NaN   1701.598367\n",
       "std                     NaN                 NaN    968.125835\n",
       "min                     NaN                 NaN      5.000000\n",
       "25%                     NaN                 NaN   1049.000000\n",
       "50%                     NaN                 NaN   1397.000000\n",
       "75%                     NaN                 NaN   2100.000000\n",
       "max                     NaN                 NaN   8359.000000"
      ]
     },
     "execution_count": 39,
     "metadata": {
      "tags": []
     },
     "output_type": "execute_result"
    }
   ],
   "source": [
    "data_trans.describe(include='all')"
   ]
  },
  {
   "cell_type": "code",
   "execution_count": 0,
   "metadata": {
    "colab": {
     "base_uri": "https://localhost:8080/",
     "height": 399
    },
    "colab_type": "code",
    "id": "e23xe5bgQ9Xr",
    "outputId": "8d2a8323-522e-4c80-9d7b-0728e44f5641"
   },
   "outputs": [
    {
     "data": {
      "text/html": [
       "<div>\n",
       "<style scoped>\n",
       "    .dataframe tbody tr th:only-of-type {\n",
       "        vertical-align: middle;\n",
       "    }\n",
       "\n",
       "    .dataframe tbody tr th {\n",
       "        vertical-align: top;\n",
       "    }\n",
       "\n",
       "    .dataframe thead th {\n",
       "        text-align: right;\n",
       "    }\n",
       "</style>\n",
       "<table border=\"1\" class=\"dataframe\">\n",
       "  <thead>\n",
       "    <tr style=\"text-align: right;\">\n",
       "      <th></th>\n",
       "      <th>date</th>\n",
       "      <th>locationId</th>\n",
       "      <th>item_id</th>\n",
       "      <th>unit_sales</th>\n",
       "      <th>onpromotion</th>\n",
       "    </tr>\n",
       "  </thead>\n",
       "  <tbody>\n",
       "    <tr>\n",
       "      <th>71921607</th>\n",
       "      <td>2018-02-28</td>\n",
       "      <td>location_1</td>\n",
       "      <td>item_105737</td>\n",
       "      <td>1.0</td>\n",
       "      <td>False</td>\n",
       "    </tr>\n",
       "    <tr>\n",
       "      <th>71921619</th>\n",
       "      <td>2018-02-28</td>\n",
       "      <td>location_1</td>\n",
       "      <td>item_114778</td>\n",
       "      <td>2.0</td>\n",
       "      <td>False</td>\n",
       "    </tr>\n",
       "    <tr>\n",
       "      <th>71921627</th>\n",
       "      <td>2018-02-28</td>\n",
       "      <td>location_1</td>\n",
       "      <td>item_115891</td>\n",
       "      <td>1.0</td>\n",
       "      <td>False</td>\n",
       "    </tr>\n",
       "    <tr>\n",
       "      <th>71921628</th>\n",
       "      <td>2018-02-28</td>\n",
       "      <td>location_1</td>\n",
       "      <td>item_115892</td>\n",
       "      <td>1.0</td>\n",
       "      <td>False</td>\n",
       "    </tr>\n",
       "    <tr>\n",
       "      <th>71921638</th>\n",
       "      <td>2018-02-28</td>\n",
       "      <td>location_1</td>\n",
       "      <td>item_119624</td>\n",
       "      <td>3.0</td>\n",
       "      <td>True</td>\n",
       "    </tr>\n",
       "    <tr>\n",
       "      <th>...</th>\n",
       "      <td>...</td>\n",
       "      <td>...</td>\n",
       "      <td>...</td>\n",
       "      <td>...</td>\n",
       "      <td>...</td>\n",
       "    </tr>\n",
       "    <tr>\n",
       "      <th>72015712</th>\n",
       "      <td>2018-02-28</td>\n",
       "      <td>location_54</td>\n",
       "      <td>item_2010743</td>\n",
       "      <td>7.0</td>\n",
       "      <td>False</td>\n",
       "    </tr>\n",
       "    <tr>\n",
       "      <th>72015722</th>\n",
       "      <td>2018-02-28</td>\n",
       "      <td>location_54</td>\n",
       "      <td>item_2011110</td>\n",
       "      <td>1.0</td>\n",
       "      <td>False</td>\n",
       "    </tr>\n",
       "    <tr>\n",
       "      <th>72015725</th>\n",
       "      <td>2018-02-28</td>\n",
       "      <td>location_54</td>\n",
       "      <td>item_2011200</td>\n",
       "      <td>1.0</td>\n",
       "      <td>False</td>\n",
       "    </tr>\n",
       "    <tr>\n",
       "      <th>72015727</th>\n",
       "      <td>2018-02-28</td>\n",
       "      <td>location_54</td>\n",
       "      <td>item_2011218</td>\n",
       "      <td>2.0</td>\n",
       "      <td>False</td>\n",
       "    </tr>\n",
       "    <tr>\n",
       "      <th>72015734</th>\n",
       "      <td>2018-02-28</td>\n",
       "      <td>location_54</td>\n",
       "      <td>item_2011463</td>\n",
       "      <td>2.0</td>\n",
       "      <td>False</td>\n",
       "    </tr>\n",
       "  </tbody>\n",
       "</table>\n",
       "<p>10044 rows × 5 columns</p>\n",
       "</div>"
      ],
      "text/plain": [
       "               date   locationId       item_id  unit_sales onpromotion\n",
       "71921607 2018-02-28   location_1   item_105737         1.0       False\n",
       "71921619 2018-02-28   location_1   item_114778         2.0       False\n",
       "71921627 2018-02-28   location_1   item_115891         1.0       False\n",
       "71921628 2018-02-28   location_1   item_115892         1.0       False\n",
       "71921638 2018-02-28   location_1   item_119624         3.0        True\n",
       "...             ...          ...           ...         ...         ...\n",
       "72015712 2018-02-28  location_54  item_2010743         7.0       False\n",
       "72015722 2018-02-28  location_54  item_2011110         1.0       False\n",
       "72015725 2018-02-28  location_54  item_2011200         1.0       False\n",
       "72015727 2018-02-28  location_54  item_2011218         2.0       False\n",
       "72015734 2018-02-28  location_54  item_2011463         2.0       False\n",
       "\n",
       "[10044 rows x 5 columns]"
      ]
     },
     "execution_count": 28,
     "metadata": {
      "tags": []
     },
     "output_type": "execute_result"
    }
   ],
   "source": [
    "## to check the duplicate values present the train data\n",
    "\n",
    "data_train[data_train.duplicated()]"
   ]
  },
  {
   "cell_type": "code",
   "execution_count": 0,
   "metadata": {
    "colab": {},
    "colab_type": "code",
    "id": "WxNxVGqSzW-b"
   },
   "outputs": [],
   "source": [
    "## dropping the duplicate rows present in the train data\n",
    "\n",
    "data_train=data_train.drop_duplicates()"
   ]
  },
  {
   "cell_type": "code",
   "execution_count": 0,
   "metadata": {
    "colab": {
     "base_uri": "https://localhost:8080/",
     "height": 34
    },
    "colab_type": "code",
    "id": "GK6k1IH4w-vN",
    "outputId": "60f67504-9d0c-4173-a852-eb0b685fe15d"
   },
   "outputs": [
    {
     "data": {
      "text/plain": [
       "(101678735, 5)"
      ]
     },
     "execution_count": 41,
     "metadata": {
      "tags": []
     },
     "output_type": "execute_result"
    }
   ],
   "source": [
    "data_train.shape"
   ]
  },
  {
   "cell_type": "code",
   "execution_count": 0,
   "metadata": {
    "colab": {},
    "colab_type": "code",
    "id": "dD35u8wjFVPk"
   },
   "outputs": [],
   "source": [
    "## renaming the column names\n",
    "\n",
    "data_location=data_location.rename(columns={'location_id':'locationId'})"
   ]
  },
  {
   "cell_type": "code",
   "execution_count": 0,
   "metadata": {
    "colab": {},
    "colab_type": "code",
    "id": "17H1mDsZRbx-"
   },
   "outputs": [],
   "source": [
    "data_trans=data_trans.rename(columns={'location_identifier':'locationId'})"
   ]
  },
  {
   "cell_type": "code",
   "execution_count": 0,
   "metadata": {
    "colab": {
     "base_uri": "https://localhost:8080/",
     "height": 34
    },
    "colab_type": "code",
    "id": "WVD50f1LzFrB",
    "outputId": "af55bb79-4c1d-45f5-b16f-28b23774bb29"
   },
   "outputs": [
    {
     "data": {
      "text/plain": [
       "{'location_52'}"
      ]
     },
     "execution_count": 44,
     "metadata": {
      "tags": []
     },
     "output_type": "execute_result"
    }
   ],
   "source": [
    "## to check missing location in the train data\n",
    "\n",
    "train_uni=data_train.locationId.unique()\n",
    "location_uni= data_location.locationId.unique()\n",
    "set(location_uni)-set(train_uni)"
   ]
  },
  {
   "cell_type": "markdown",
   "metadata": {
    "colab_type": "text",
    "id": "1ju0m2quD6hM"
   },
   "source": [
    " ### location 52 is missing in the train data but given in location data so,it can be a warehouse type where is stock is stored"
   ]
  },
  {
   "cell_type": "code",
   "execution_count": 0,
   "metadata": {
    "colab": {
     "base_uri": "https://localhost:8080/",
     "height": 77
    },
    "colab_type": "code",
    "id": "V4ASzvGlsYBf",
    "outputId": "d6528d65-f689-4319-cf88-9c39fba6ce51"
   },
   "outputs": [
    {
     "data": {
      "text/html": [
       "<div>\n",
       "<style scoped>\n",
       "    .dataframe tbody tr th:only-of-type {\n",
       "        vertical-align: middle;\n",
       "    }\n",
       "\n",
       "    .dataframe tbody tr th {\n",
       "        vertical-align: top;\n",
       "    }\n",
       "\n",
       "    .dataframe thead th {\n",
       "        text-align: right;\n",
       "    }\n",
       "</style>\n",
       "<table border=\"1\" class=\"dataframe\">\n",
       "  <thead>\n",
       "    <tr style=\"text-align: right;\">\n",
       "      <th></th>\n",
       "      <th>locationId</th>\n",
       "      <th>city</th>\n",
       "      <th>state</th>\n",
       "      <th>type</th>\n",
       "      <th>cluster</th>\n",
       "    </tr>\n",
       "  </thead>\n",
       "  <tbody>\n",
       "    <tr>\n",
       "      <th>51</th>\n",
       "      <td>location_52</td>\n",
       "      <td>Chennai</td>\n",
       "      <td>Tamil Nadu</td>\n",
       "      <td>A</td>\n",
       "      <td>11</td>\n",
       "    </tr>\n",
       "  </tbody>\n",
       "</table>\n",
       "</div>"
      ],
      "text/plain": [
       "     locationId     city       state type  cluster\n",
       "51  location_52  Chennai  Tamil Nadu    A       11"
      ]
     },
     "execution_count": 46,
     "metadata": {
      "tags": []
     },
     "output_type": "execute_result"
    }
   ],
   "source": [
    "data_location[(data_location['locationId']=='location_52')].head()      "
   ]
  },
  {
   "cell_type": "code",
   "execution_count": 0,
   "metadata": {
    "colab": {
     "base_uri": "https://localhost:8080/",
     "height": 1000
    },
    "colab_type": "code",
    "id": "l0mbrruNMXyW",
    "outputId": "ee8ec36b-c0b8-485f-a76d-59943d5e8def"
   },
   "outputs": [
    {
     "data": {
      "text/plain": [
       "{'item_1464607',\n",
       " 'item_1467088',\n",
       " 'item_1467093',\n",
       " 'item_1921118',\n",
       " 'item_2011437',\n",
       " 'item_2011448',\n",
       " 'item_2011450',\n",
       " 'item_2011451',\n",
       " 'item_2011457',\n",
       " 'item_2011459',\n",
       " 'item_2011468',\n",
       " 'item_2011470',\n",
       " 'item_2011471',\n",
       " 'item_2015646',\n",
       " 'item_2015898',\n",
       " 'item_2027559',\n",
       " 'item_2033554',\n",
       " 'item_2035576',\n",
       " 'item_2042614',\n",
       " 'item_2043261',\n",
       " 'item_2043559',\n",
       " 'item_2043795',\n",
       " 'item_2043849',\n",
       " 'item_2045162',\n",
       " 'item_2045545',\n",
       " 'item_2046260',\n",
       " 'item_2046805',\n",
       " 'item_2046903',\n",
       " 'item_2046916',\n",
       " 'item_2047495',\n",
       " 'item_2047496',\n",
       " 'item_2047506',\n",
       " 'item_2047508',\n",
       " 'item_2047752',\n",
       " 'item_2048164',\n",
       " 'item_2048358',\n",
       " 'item_2048399',\n",
       " 'item_2048546',\n",
       " 'item_2048596',\n",
       " 'item_2048954',\n",
       " 'item_2049003',\n",
       " 'item_2049026',\n",
       " 'item_2049081',\n",
       " 'item_2049304',\n",
       " 'item_2049778',\n",
       " 'item_2051064',\n",
       " 'item_2052563',\n",
       " 'item_2053415',\n",
       " 'item_2053564',\n",
       " 'item_2053590',\n",
       " 'item_2053610',\n",
       " 'item_2053614',\n",
       " 'item_2053630',\n",
       " 'item_2053751',\n",
       " 'item_2053874',\n",
       " 'item_2054300',\n",
       " 'item_2054580',\n",
       " 'item_2054605',\n",
       " 'item_2054635',\n",
       " 'item_2054903',\n",
       " 'item_2056557',\n",
       " 'item_2056764',\n",
       " 'item_2056876',\n",
       " 'item_2057033',\n",
       " 'item_2057387',\n",
       " 'item_2057442',\n",
       " 'item_2057762',\n",
       " 'item_2058362',\n",
       " 'item_2058758',\n",
       " 'item_2058764',\n",
       " 'item_2058895',\n",
       " 'item_2059122',\n",
       " 'item_2059277',\n",
       " 'item_2059342',\n",
       " 'item_2059647',\n",
       " 'item_2059799',\n",
       " 'item_2060787',\n",
       " 'item_2060793',\n",
       " 'item_2060910',\n",
       " 'item_2061025',\n",
       " 'item_2061033',\n",
       " 'item_2061121',\n",
       " 'item_2061214',\n",
       " 'item_2061404',\n",
       " 'item_2061781',\n",
       " 'item_2062477',\n",
       " 'item_2062912',\n",
       " 'item_2067056',\n",
       " 'item_2067123',\n",
       " 'item_2067333',\n",
       " 'item_2072545',\n",
       " 'item_2075374',\n",
       " 'item_2083837',\n",
       " 'item_2083859',\n",
       " 'item_2084278',\n",
       " 'item_2084557',\n",
       " 'item_2084706',\n",
       " 'item_2086882',\n",
       " 'item_2087374',\n",
       " 'item_2087409',\n",
       " 'item_2087543',\n",
       " 'item_2087567',\n",
       " 'item_2087933',\n",
       " 'item_2087978',\n",
       " 'item_2088922',\n",
       " 'item_2088946',\n",
       " 'item_2089036',\n",
       " 'item_2089224',\n",
       " 'item_2089250',\n",
       " 'item_2089789',\n",
       " 'item_2106464',\n",
       " 'item_2109909',\n",
       " 'item_2109969',\n",
       " 'item_2110456',\n",
       " 'item_2111684',\n",
       " 'item_2112280',\n",
       " 'item_2112303',\n",
       " 'item_2112461',\n",
       " 'item_2112462',\n",
       " 'item_2112607',\n",
       " 'item_2113343',\n",
       " 'item_2113914',\n",
       " 'item_2114566',\n",
       " 'item_2114752',\n",
       " 'item_2114812',\n",
       " 'item_2116132',\n",
       " 'item_2116139',\n",
       " 'item_2116238',\n",
       " 'item_2116416',\n",
       " 'item_2116470',\n",
       " 'item_2117783',\n",
       " 'item_2118397',\n",
       " 'item_2118662',\n",
       " 'item_2120180',\n",
       " 'item_2120216',\n",
       " 'item_2120506',\n",
       " 'item_2120681',\n",
       " 'item_2120723',\n",
       " 'item_2120768',\n",
       " 'item_2121319',\n",
       " 'item_2121610',\n",
       " 'item_2121690',\n",
       " 'item_2122188',\n",
       " 'item_2122676',\n",
       " 'item_2122818',\n",
       " 'item_2122868',\n",
       " 'item_2122947',\n",
       " 'item_2123036',\n",
       " 'item_2123209',\n",
       " 'item_2123410',\n",
       " 'item_2123463',\n",
       " 'item_2123468',\n",
       " 'item_2123711',\n",
       " 'item_2123727',\n",
       " 'item_2123747',\n",
       " 'item_2123750',\n",
       " 'item_2123775',\n",
       " 'item_2123790',\n",
       " 'item_2123791',\n",
       " 'item_2123839',\n",
       " 'item_2123859',\n",
       " 'item_2123863',\n",
       " 'item_2124705',\n",
       " 'item_2125814',\n",
       " 'item_2126696',\n",
       " 'item_2126842',\n",
       " 'item_2126944',\n",
       " 'item_2127024',\n",
       " 'item_2127069',\n",
       " 'item_2127114',\n",
       " 'item_2127175',\n",
       " 'item_2127206',\n",
       " 'item_2127544',\n",
       " 'item_2127651',\n",
       " 'item_2127733',\n",
       " 'item_2127825',\n",
       " 'item_2127921',\n",
       " 'item_2127992',\n",
       " 'item_2128628',\n",
       " 'item_2128799',\n",
       " 'item_2129334',\n",
       " 'item_2129350',\n",
       " 'item_2129387',\n",
       " 'item_2129515',\n",
       " 'item_2129616',\n",
       " 'item_2129678',\n",
       " 'item_2129786',\n",
       " 'item_2129790',\n",
       " 'item_2129892',\n",
       " 'item_2129994',\n",
       " 'item_2130131',\n",
       " 'item_2130219',\n",
       " 'item_2130265',\n",
       " 'item_2130352',\n",
       " 'item_2130474',\n",
       " 'item_2130521',\n",
       " 'item_2130526',\n",
       " 'item_2130553',\n",
       " 'item_2131010',\n",
       " 'item_2131572',\n",
       " 'item_2131699',\n",
       " 'item_2132163',\n",
       " 'item_2132318',\n",
       " 'item_2132945',\n",
       " 'item_2132957',\n",
       " 'item_2134058',\n",
       " 'item_2134244',\n",
       " 'item_313094',\n",
       " 'item_766493',\n",
       " 'item_906981'}"
      ]
     },
     "execution_count": 47,
     "metadata": {
      "tags": []
     },
     "output_type": "execute_result"
    }
   ],
   "source": [
    "## to check the missing items in the train data\n",
    "\n",
    "train_items=data_train.item_id.unique()\n",
    "item_items= data_item.item_id.unique()\n",
    "set(item_items)-set(train_items)"
   ]
  },
  {
   "cell_type": "markdown",
   "metadata": {
    "colab_type": "text",
    "id": "X48O60ggNqW-"
   },
   "source": [
    "### There are 221 items where is no unit sales for these items. As a suggestion that small basket can mention low investments of these items."
   ]
  },
  {
   "cell_type": "code",
   "execution_count": 0,
   "metadata": {
    "colab": {
     "base_uri": "https://localhost:8080/",
     "height": 50
    },
    "colab_type": "code",
    "id": "YViT_D0HOPUe",
    "outputId": "6bf08d11-df8d-4e27-cc2f-d56b3d18c079"
   },
   "outputs": [
    {
     "data": {
      "text/plain": [
       "{numpy.datetime64('2018-01-01T00:00:00.000000000'),\n",
       " numpy.datetime64('2018-01-03T00:00:00.000000000')}"
      ]
     },
     "execution_count": 48,
     "metadata": {
      "tags": []
     },
     "output_type": "execute_result"
    }
   ],
   "source": [
    "## to check which date has no transactions in the train data\n",
    "\n",
    "train_date=data_train.date.unique()\n",
    "trans_date= data_trans.date.unique()\n",
    "set(train_date)-set(trans_date)"
   ]
  },
  {
   "cell_type": "markdown",
   "metadata": {
    "colab_type": "text",
    "id": "f5-EwOsDPnJf"
   },
   "source": [
    "### The above two days has no transactions so these can be ignored."
   ]
  },
  {
   "cell_type": "code",
   "execution_count": 0,
   "metadata": {
    "colab": {},
    "colab_type": "code",
    "id": "dHVocFUzKi9S"
   },
   "outputs": [],
   "source": [
    "## inspect data is function to check the dtypes,levels and NaN's in the data\n",
    "\n",
    "def inspect_data(data):\n",
    "    return pd.DataFrame({\"Data Type\":data.dtypes,\"No of Levels\":data.apply(lambda x: x.nunique(),axis=0),\n",
    "                         \"Levels\":data.apply(lambda x:str(x.unique()),axis=0), \n",
    "                         \"NaN\":round(data.isnull().sum(),1),\n",
    "                         \"NaN%\":round(data.isnull().sum()/100,1)})"
   ]
  },
  {
   "cell_type": "code",
   "execution_count": 0,
   "metadata": {
    "colab": {
     "base_uri": "https://localhost:8080/",
     "height": 195
    },
    "colab_type": "code",
    "id": "H9b5lzlIBnu0",
    "outputId": "b3649b3a-2803-437a-b149-e8be74784712"
   },
   "outputs": [
    {
     "data": {
      "text/html": [
       "<div>\n",
       "<style scoped>\n",
       "    .dataframe tbody tr th:only-of-type {\n",
       "        vertical-align: middle;\n",
       "    }\n",
       "\n",
       "    .dataframe tbody tr th {\n",
       "        vertical-align: top;\n",
       "    }\n",
       "\n",
       "    .dataframe thead th {\n",
       "        text-align: right;\n",
       "    }\n",
       "</style>\n",
       "<table border=\"1\" class=\"dataframe\">\n",
       "  <thead>\n",
       "    <tr style=\"text-align: right;\">\n",
       "      <th></th>\n",
       "      <th>Data Type</th>\n",
       "      <th>No of Levels</th>\n",
       "      <th>Levels</th>\n",
       "      <th>NaN</th>\n",
       "      <th>NaN%</th>\n",
       "    </tr>\n",
       "  </thead>\n",
       "  <tbody>\n",
       "    <tr>\n",
       "      <th>date</th>\n",
       "      <td>datetime64[ns]</td>\n",
       "      <td>1456</td>\n",
       "      <td>['2015-01-01T00:00:00.000000000' '2015-01-02T0...</td>\n",
       "      <td>0</td>\n",
       "      <td>0.0</td>\n",
       "    </tr>\n",
       "    <tr>\n",
       "      <th>locationId</th>\n",
       "      <td>category</td>\n",
       "      <td>53</td>\n",
       "      <td>[location_25, location_1, location_2, location...</td>\n",
       "      <td>0</td>\n",
       "      <td>0.0</td>\n",
       "    </tr>\n",
       "    <tr>\n",
       "      <th>item_id</th>\n",
       "      <td>category</td>\n",
       "      <td>3890</td>\n",
       "      <td>[item_103665, item_105574, item_105575, item_1...</td>\n",
       "      <td>0</td>\n",
       "      <td>0.0</td>\n",
       "    </tr>\n",
       "    <tr>\n",
       "      <th>unit_sales</th>\n",
       "      <td>float64</td>\n",
       "      <td>244090</td>\n",
       "      <td>[  7.      1.      2.    ... 279.395 145.603 1...</td>\n",
       "      <td>0</td>\n",
       "      <td>0.0</td>\n",
       "    </tr>\n",
       "    <tr>\n",
       "      <th>onpromotion</th>\n",
       "      <td>category</td>\n",
       "      <td>2</td>\n",
       "      <td>[NaN, False, True]\\nCategories (2, object): [F...</td>\n",
       "      <td>21657651</td>\n",
       "      <td>216576.5</td>\n",
       "    </tr>\n",
       "  </tbody>\n",
       "</table>\n",
       "</div>"
      ],
      "text/plain": [
       "                  Data Type  No of Levels  ...       NaN      NaN%\n",
       "date         datetime64[ns]          1456  ...         0       0.0\n",
       "locationId         category            53  ...         0       0.0\n",
       "item_id            category          3890  ...         0       0.0\n",
       "unit_sales          float64        244090  ...         0       0.0\n",
       "onpromotion        category             2  ...  21657651  216576.5\n",
       "\n",
       "[5 rows x 5 columns]"
      ]
     },
     "execution_count": 50,
     "metadata": {
      "tags": []
     },
     "output_type": "execute_result"
    }
   ],
   "source": [
    "inspect_data(data_train)"
   ]
  },
  {
   "cell_type": "code",
   "execution_count": 0,
   "metadata": {
    "colab": {
     "base_uri": "https://localhost:8080/",
     "height": 136
    },
    "colab_type": "code",
    "id": "9OzYFEzjBnmt",
    "outputId": "fd973280-49c7-4a2f-9889-256b4fb0853e"
   },
   "outputs": [
    {
     "data": {
      "text/html": [
       "<div>\n",
       "<style scoped>\n",
       "    .dataframe tbody tr th:only-of-type {\n",
       "        vertical-align: middle;\n",
       "    }\n",
       "\n",
       "    .dataframe tbody tr th {\n",
       "        vertical-align: top;\n",
       "    }\n",
       "\n",
       "    .dataframe thead th {\n",
       "        text-align: right;\n",
       "    }\n",
       "</style>\n",
       "<table border=\"1\" class=\"dataframe\">\n",
       "  <thead>\n",
       "    <tr style=\"text-align: right;\">\n",
       "      <th></th>\n",
       "      <th>Data Type</th>\n",
       "      <th>No of Levels</th>\n",
       "      <th>Levels</th>\n",
       "      <th>NaN</th>\n",
       "      <th>NaN%</th>\n",
       "    </tr>\n",
       "  </thead>\n",
       "  <tbody>\n",
       "    <tr>\n",
       "      <th>date</th>\n",
       "      <td>datetime64[ns]</td>\n",
       "      <td>1454</td>\n",
       "      <td>['2015-01-01T00:00:00.000000000' '2015-01-02T0...</td>\n",
       "      <td>0</td>\n",
       "      <td>0.0</td>\n",
       "    </tr>\n",
       "    <tr>\n",
       "      <th>locationId</th>\n",
       "      <td>category</td>\n",
       "      <td>53</td>\n",
       "      <td>[25, 1, 2, 3, 4, ..., 20, 29, 21, 42, 22]\\nLen...</td>\n",
       "      <td>0</td>\n",
       "      <td>0.0</td>\n",
       "    </tr>\n",
       "    <tr>\n",
       "      <th>transactions</th>\n",
       "      <td>int16</td>\n",
       "      <td>4912</td>\n",
       "      <td>[ 770 2111 2358 ... 5598 5304 5259]</td>\n",
       "      <td>0</td>\n",
       "      <td>0.0</td>\n",
       "    </tr>\n",
       "  </tbody>\n",
       "</table>\n",
       "</div>"
      ],
      "text/plain": [
       "                   Data Type  No of Levels  ... NaN  NaN%\n",
       "date          datetime64[ns]          1454  ...   0   0.0\n",
       "locationId          category            53  ...   0   0.0\n",
       "transactions           int16          4912  ...   0   0.0\n",
       "\n",
       "[3 rows x 5 columns]"
      ]
     },
     "execution_count": 51,
     "metadata": {
      "tags": []
     },
     "output_type": "execute_result"
    }
   ],
   "source": [
    "inspect_data(data_trans)"
   ]
  },
  {
   "cell_type": "code",
   "execution_count": 0,
   "metadata": {
    "colab": {
     "base_uri": "https://localhost:8080/",
     "height": 166
    },
    "colab_type": "code",
    "id": "4G9SKBkIBnVR",
    "outputId": "db87097a-a8db-4c3a-c6b4-ba62d0b7f1e2"
   },
   "outputs": [
    {
     "data": {
      "text/html": [
       "<div>\n",
       "<style scoped>\n",
       "    .dataframe tbody tr th:only-of-type {\n",
       "        vertical-align: middle;\n",
       "    }\n",
       "\n",
       "    .dataframe tbody tr th {\n",
       "        vertical-align: top;\n",
       "    }\n",
       "\n",
       "    .dataframe thead th {\n",
       "        text-align: right;\n",
       "    }\n",
       "</style>\n",
       "<table border=\"1\" class=\"dataframe\">\n",
       "  <thead>\n",
       "    <tr style=\"text-align: right;\">\n",
       "      <th></th>\n",
       "      <th>Data Type</th>\n",
       "      <th>No of Levels</th>\n",
       "      <th>Levels</th>\n",
       "      <th>NaN</th>\n",
       "      <th>NaN%</th>\n",
       "    </tr>\n",
       "  </thead>\n",
       "  <tbody>\n",
       "    <tr>\n",
       "      <th>item_id</th>\n",
       "      <td>category</td>\n",
       "      <td>4100</td>\n",
       "      <td>[item_96995, item_99197, item_103501, item_103...</td>\n",
       "      <td>0</td>\n",
       "      <td>0.0</td>\n",
       "    </tr>\n",
       "    <tr>\n",
       "      <th>category_of_item</th>\n",
       "      <td>category</td>\n",
       "      <td>30</td>\n",
       "      <td>[grocery_items, cleaning_utilities, baked_item...</td>\n",
       "      <td>0</td>\n",
       "      <td>0.0</td>\n",
       "    </tr>\n",
       "    <tr>\n",
       "      <th>class</th>\n",
       "      <td>category</td>\n",
       "      <td>337</td>\n",
       "      <td>[class_1093, class_1067, class_3008, class_102...</td>\n",
       "      <td>0</td>\n",
       "      <td>0.0</td>\n",
       "    </tr>\n",
       "    <tr>\n",
       "      <th>perishable</th>\n",
       "      <td>int8</td>\n",
       "      <td>2</td>\n",
       "      <td>[0 1]</td>\n",
       "      <td>0</td>\n",
       "      <td>0.0</td>\n",
       "    </tr>\n",
       "  </tbody>\n",
       "</table>\n",
       "</div>"
      ],
      "text/plain": [
       "                 Data Type  No of Levels  ... NaN  NaN%\n",
       "item_id           category          4100  ...   0   0.0\n",
       "category_of_item  category            30  ...   0   0.0\n",
       "class             category           337  ...   0   0.0\n",
       "perishable            int8             2  ...   0   0.0\n",
       "\n",
       "[4 rows x 5 columns]"
      ]
     },
     "execution_count": 52,
     "metadata": {
      "tags": []
     },
     "output_type": "execute_result"
    }
   ],
   "source": [
    "inspect_data(data_item)"
   ]
  },
  {
   "cell_type": "code",
   "execution_count": 0,
   "metadata": {
    "colab": {
     "base_uri": "https://localhost:8080/",
     "height": 195
    },
    "colab_type": "code",
    "id": "IamZS2T8DIhQ",
    "outputId": "0f8c7498-e394-45a8-b632-8e1c3412d01e"
   },
   "outputs": [
    {
     "data": {
      "text/html": [
       "<div>\n",
       "<style scoped>\n",
       "    .dataframe tbody tr th:only-of-type {\n",
       "        vertical-align: middle;\n",
       "    }\n",
       "\n",
       "    .dataframe tbody tr th {\n",
       "        vertical-align: top;\n",
       "    }\n",
       "\n",
       "    .dataframe thead th {\n",
       "        text-align: right;\n",
       "    }\n",
       "</style>\n",
       "<table border=\"1\" class=\"dataframe\">\n",
       "  <thead>\n",
       "    <tr style=\"text-align: right;\">\n",
       "      <th></th>\n",
       "      <th>Data Type</th>\n",
       "      <th>No of Levels</th>\n",
       "      <th>Levels</th>\n",
       "      <th>NaN</th>\n",
       "      <th>NaN%</th>\n",
       "    </tr>\n",
       "  </thead>\n",
       "  <tbody>\n",
       "    <tr>\n",
       "      <th>locationId</th>\n",
       "      <td>category</td>\n",
       "      <td>54</td>\n",
       "      <td>[location_1, location_2, location_3, location_...</td>\n",
       "      <td>0</td>\n",
       "      <td>0.0</td>\n",
       "    </tr>\n",
       "    <tr>\n",
       "      <th>city</th>\n",
       "      <td>category</td>\n",
       "      <td>22</td>\n",
       "      <td>[Bengaluru, Delhi, Kolkata, Noida, Vijayawada,...</td>\n",
       "      <td>0</td>\n",
       "      <td>0.0</td>\n",
       "    </tr>\n",
       "    <tr>\n",
       "      <th>state</th>\n",
       "      <td>category</td>\n",
       "      <td>13</td>\n",
       "      <td>[Karnataka, NCR, West Bengal, Uttar Pradesh, C...</td>\n",
       "      <td>0</td>\n",
       "      <td>0.0</td>\n",
       "    </tr>\n",
       "    <tr>\n",
       "      <th>type</th>\n",
       "      <td>category</td>\n",
       "      <td>5</td>\n",
       "      <td>[D, B, C, E, A]\\nCategories (5, object): [D, B...</td>\n",
       "      <td>0</td>\n",
       "      <td>0.0</td>\n",
       "    </tr>\n",
       "    <tr>\n",
       "      <th>cluster</th>\n",
       "      <td>int8</td>\n",
       "      <td>17</td>\n",
       "      <td>[13  8  9  4  6 15  7  3 12 16  1 10  2  5 11 ...</td>\n",
       "      <td>0</td>\n",
       "      <td>0.0</td>\n",
       "    </tr>\n",
       "  </tbody>\n",
       "</table>\n",
       "</div>"
      ],
      "text/plain": [
       "           Data Type  No of Levels  ... NaN  NaN%\n",
       "locationId  category            54  ...   0   0.0\n",
       "city        category            22  ...   0   0.0\n",
       "state       category            13  ...   0   0.0\n",
       "type        category             5  ...   0   0.0\n",
       "cluster         int8            17  ...   0   0.0\n",
       "\n",
       "[5 rows x 5 columns]"
      ]
     },
     "execution_count": 53,
     "metadata": {
      "tags": []
     },
     "output_type": "execute_result"
    }
   ],
   "source": [
    "inspect_data(data_location)"
   ]
  },
  {
   "cell_type": "code",
   "execution_count": 0,
   "metadata": {
    "colab": {},
    "colab_type": "code",
    "id": "lZmv9r0AFVpY"
   },
   "outputs": [],
   "source": [
    "## merging the train data with item data with item id \n",
    "\n",
    "data= pd.merge(data_train,data_item,how='inner',on='item_id')"
   ]
  },
  {
   "cell_type": "code",
   "execution_count": 0,
   "metadata": {
    "colab": {
     "base_uri": "https://localhost:8080/",
     "height": 194
    },
    "colab_type": "code",
    "id": "qiXK8a2GGHbp",
    "outputId": "8b1f81b1-f846-4195-fce9-08d082792eb9"
   },
   "outputs": [
    {
     "data": {
      "text/html": [
       "<div>\n",
       "<style scoped>\n",
       "    .dataframe tbody tr th:only-of-type {\n",
       "        vertical-align: middle;\n",
       "    }\n",
       "\n",
       "    .dataframe tbody tr th {\n",
       "        vertical-align: top;\n",
       "    }\n",
       "\n",
       "    .dataframe thead th {\n",
       "        text-align: right;\n",
       "    }\n",
       "</style>\n",
       "<table border=\"1\" class=\"dataframe\">\n",
       "  <thead>\n",
       "    <tr style=\"text-align: right;\">\n",
       "      <th></th>\n",
       "      <th>date</th>\n",
       "      <th>locationId</th>\n",
       "      <th>item_id</th>\n",
       "      <th>unit_sales</th>\n",
       "      <th>onpromotion</th>\n",
       "      <th>category_of_item</th>\n",
       "      <th>class</th>\n",
       "      <th>perishable</th>\n",
       "    </tr>\n",
       "  </thead>\n",
       "  <tbody>\n",
       "    <tr>\n",
       "      <th>0</th>\n",
       "      <td>2015-01-01 00:01:00</td>\n",
       "      <td>location_25</td>\n",
       "      <td>item_103665</td>\n",
       "      <td>7.0</td>\n",
       "      <td>False</td>\n",
       "      <td>baked_items / bread_based</td>\n",
       "      <td>class_2712</td>\n",
       "      <td>1</td>\n",
       "    </tr>\n",
       "    <tr>\n",
       "      <th>1</th>\n",
       "      <td>2015-01-02 00:01:00</td>\n",
       "      <td>location_1</td>\n",
       "      <td>item_103665</td>\n",
       "      <td>2.0</td>\n",
       "      <td>False</td>\n",
       "      <td>baked_items / bread_based</td>\n",
       "      <td>class_2712</td>\n",
       "      <td>1</td>\n",
       "    </tr>\n",
       "    <tr>\n",
       "      <th>2</th>\n",
       "      <td>2015-01-02 00:01:00</td>\n",
       "      <td>location_2</td>\n",
       "      <td>item_103665</td>\n",
       "      <td>5.0</td>\n",
       "      <td>False</td>\n",
       "      <td>baked_items / bread_based</td>\n",
       "      <td>class_2712</td>\n",
       "      <td>1</td>\n",
       "    </tr>\n",
       "    <tr>\n",
       "      <th>3</th>\n",
       "      <td>2015-01-02 00:01:00</td>\n",
       "      <td>location_3</td>\n",
       "      <td>item_103665</td>\n",
       "      <td>6.0</td>\n",
       "      <td>False</td>\n",
       "      <td>baked_items / bread_based</td>\n",
       "      <td>class_2712</td>\n",
       "      <td>1</td>\n",
       "    </tr>\n",
       "    <tr>\n",
       "      <th>4</th>\n",
       "      <td>2015-01-02 00:01:00</td>\n",
       "      <td>location_4</td>\n",
       "      <td>item_103665</td>\n",
       "      <td>2.0</td>\n",
       "      <td>False</td>\n",
       "      <td>baked_items / bread_based</td>\n",
       "      <td>class_2712</td>\n",
       "      <td>1</td>\n",
       "    </tr>\n",
       "  </tbody>\n",
       "</table>\n",
       "</div>"
      ],
      "text/plain": [
       "                 date   locationId  ...       class  perishable\n",
       "0 2015-01-01 00:01:00  location_25  ...  class_2712           1\n",
       "1 2015-01-02 00:01:00   location_1  ...  class_2712           1\n",
       "2 2015-01-02 00:01:00   location_2  ...  class_2712           1\n",
       "3 2015-01-02 00:01:00   location_3  ...  class_2712           1\n",
       "4 2015-01-02 00:01:00   location_4  ...  class_2712           1\n",
       "\n",
       "[5 rows x 8 columns]"
      ]
     },
     "execution_count": 61,
     "metadata": {
      "tags": []
     },
     "output_type": "execute_result"
    }
   ],
   "source": [
    "data.head()"
   ]
  },
  {
   "cell_type": "code",
   "execution_count": 0,
   "metadata": {
    "colab": {
     "base_uri": "https://localhost:8080/",
     "height": 35
    },
    "colab_type": "code",
    "id": "4qNbwFjJFVkK",
    "outputId": "1ba34aee-bd9c-46b9-ee1f-5a17d6a43b48"
   },
   "outputs": [
    {
     "data": {
      "text/plain": [
       "(101678735, 8)"
      ]
     },
     "execution_count": 63,
     "metadata": {
      "tags": []
     },
     "output_type": "execute_result"
    }
   ],
   "source": [
    "data.shape"
   ]
  },
  {
   "cell_type": "code",
   "execution_count": 0,
   "metadata": {
    "colab": {},
    "colab_type": "code",
    "id": "I1Bm7jRzI75n"
   },
   "outputs": [],
   "source": [
    "## merging the train data with location data using location id\n",
    "\n",
    "data= pd.merge(data,data_location,how='inner',on=['locationId'])"
   ]
  },
  {
   "cell_type": "code",
   "execution_count": 0,
   "metadata": {
    "colab": {
     "base_uri": "https://localhost:8080/",
     "height": 194
    },
    "colab_type": "code",
    "id": "WtDgYTryFkcn",
    "outputId": "d6a3030f-1f6b-4305-897f-ff1f4618ad27"
   },
   "outputs": [
    {
     "data": {
      "text/html": [
       "<div>\n",
       "<style scoped>\n",
       "    .dataframe tbody tr th:only-of-type {\n",
       "        vertical-align: middle;\n",
       "    }\n",
       "\n",
       "    .dataframe tbody tr th {\n",
       "        vertical-align: top;\n",
       "    }\n",
       "\n",
       "    .dataframe thead th {\n",
       "        text-align: right;\n",
       "    }\n",
       "</style>\n",
       "<table border=\"1\" class=\"dataframe\">\n",
       "  <thead>\n",
       "    <tr style=\"text-align: right;\">\n",
       "      <th></th>\n",
       "      <th>date</th>\n",
       "      <th>locationId</th>\n",
       "      <th>item_id</th>\n",
       "      <th>unit_sales</th>\n",
       "      <th>onpromotion</th>\n",
       "      <th>category_of_item</th>\n",
       "      <th>class</th>\n",
       "      <th>perishable</th>\n",
       "      <th>city</th>\n",
       "      <th>state</th>\n",
       "      <th>type</th>\n",
       "      <th>cluster</th>\n",
       "    </tr>\n",
       "  </thead>\n",
       "  <tbody>\n",
       "    <tr>\n",
       "      <th>0</th>\n",
       "      <td>2015-01-01 00:01:00</td>\n",
       "      <td>location_25</td>\n",
       "      <td>item_103665</td>\n",
       "      <td>7.0</td>\n",
       "      <td>False</td>\n",
       "      <td>baked_items / bread_based</td>\n",
       "      <td>class_2712</td>\n",
       "      <td>1</td>\n",
       "      <td>Kanpur</td>\n",
       "      <td>Uttar Pradesh</td>\n",
       "      <td>D</td>\n",
       "      <td>1</td>\n",
       "    </tr>\n",
       "    <tr>\n",
       "      <th>1</th>\n",
       "      <td>2015-01-02 00:01:00</td>\n",
       "      <td>location_25</td>\n",
       "      <td>item_103665</td>\n",
       "      <td>5.0</td>\n",
       "      <td>False</td>\n",
       "      <td>baked_items / bread_based</td>\n",
       "      <td>class_2712</td>\n",
       "      <td>1</td>\n",
       "      <td>Kanpur</td>\n",
       "      <td>Uttar Pradesh</td>\n",
       "      <td>D</td>\n",
       "      <td>1</td>\n",
       "    </tr>\n",
       "    <tr>\n",
       "      <th>2</th>\n",
       "      <td>2015-01-04 00:01:00</td>\n",
       "      <td>location_25</td>\n",
       "      <td>item_103665</td>\n",
       "      <td>5.0</td>\n",
       "      <td>False</td>\n",
       "      <td>baked_items / bread_based</td>\n",
       "      <td>class_2712</td>\n",
       "      <td>1</td>\n",
       "      <td>Kanpur</td>\n",
       "      <td>Uttar Pradesh</td>\n",
       "      <td>D</td>\n",
       "      <td>1</td>\n",
       "    </tr>\n",
       "    <tr>\n",
       "      <th>3</th>\n",
       "      <td>2015-01-05 00:01:00</td>\n",
       "      <td>location_25</td>\n",
       "      <td>item_103665</td>\n",
       "      <td>5.0</td>\n",
       "      <td>False</td>\n",
       "      <td>baked_items / bread_based</td>\n",
       "      <td>class_2712</td>\n",
       "      <td>1</td>\n",
       "      <td>Kanpur</td>\n",
       "      <td>Uttar Pradesh</td>\n",
       "      <td>D</td>\n",
       "      <td>1</td>\n",
       "    </tr>\n",
       "    <tr>\n",
       "      <th>4</th>\n",
       "      <td>2015-01-06 00:01:00</td>\n",
       "      <td>location_25</td>\n",
       "      <td>item_103665</td>\n",
       "      <td>7.0</td>\n",
       "      <td>False</td>\n",
       "      <td>baked_items / bread_based</td>\n",
       "      <td>class_2712</td>\n",
       "      <td>1</td>\n",
       "      <td>Kanpur</td>\n",
       "      <td>Uttar Pradesh</td>\n",
       "      <td>D</td>\n",
       "      <td>1</td>\n",
       "    </tr>\n",
       "  </tbody>\n",
       "</table>\n",
       "</div>"
      ],
      "text/plain": [
       "                 date   locationId      item_id  ...          state type cluster\n",
       "0 2015-01-01 00:01:00  location_25  item_103665  ...  Uttar Pradesh    D       1\n",
       "1 2015-01-02 00:01:00  location_25  item_103665  ...  Uttar Pradesh    D       1\n",
       "2 2015-01-04 00:01:00  location_25  item_103665  ...  Uttar Pradesh    D       1\n",
       "3 2015-01-05 00:01:00  location_25  item_103665  ...  Uttar Pradesh    D       1\n",
       "4 2015-01-06 00:01:00  location_25  item_103665  ...  Uttar Pradesh    D       1\n",
       "\n",
       "[5 rows x 12 columns]"
      ]
     },
     "execution_count": 65,
     "metadata": {
      "tags": []
     },
     "output_type": "execute_result"
    }
   ],
   "source": [
    "data.head()"
   ]
  },
  {
   "cell_type": "code",
   "execution_count": 0,
   "metadata": {
    "colab": {
     "base_uri": "https://localhost:8080/",
     "height": 35
    },
    "colab_type": "code",
    "id": "rMVC6eeVFnzf",
    "outputId": "5aadbbf2-df3e-4d1a-d0a4-81c73e5f47ba"
   },
   "outputs": [
    {
     "data": {
      "text/plain": [
       "(101678735, 12)"
      ]
     },
     "execution_count": 66,
     "metadata": {
      "tags": []
     },
     "output_type": "execute_result"
    }
   ],
   "source": [
    "data.shape"
   ]
  },
  {
   "cell_type": "markdown",
   "metadata": {
    "colab_type": "text",
    "id": "LAETGqTGwO1B"
   },
   "source": [
    "### extracting the day,week,month and year from date in train data"
   ]
  },
  {
   "cell_type": "code",
   "execution_count": 0,
   "metadata": {
    "colab": {},
    "colab_type": "code",
    "id": "-sVYR_MJXjV_"
   },
   "outputs": [],
   "source": [
    "data['month']= data['date'].dt.month"
   ]
  },
  {
   "cell_type": "code",
   "execution_count": 0,
   "metadata": {
    "colab": {},
    "colab_type": "code",
    "id": "lv5FuvXIYrD2"
   },
   "outputs": [],
   "source": [
    "data['day']=data['date'].dt.day"
   ]
  },
  {
   "cell_type": "code",
   "execution_count": 0,
   "metadata": {
    "colab": {},
    "colab_type": "code",
    "id": "DHQK6bq8ZA--"
   },
   "outputs": [],
   "source": [
    "data['year']=data['date'].dt.year"
   ]
  },
  {
   "cell_type": "code",
   "execution_count": 0,
   "metadata": {
    "colab": {
     "base_uri": "https://localhost:8080/",
     "height": 278
    },
    "colab_type": "code",
    "id": "a_EtZcddXu-l",
    "outputId": "d5104d83-1bdf-4f50-c65a-5383e7858f37"
   },
   "outputs": [
    {
     "data": {
      "text/html": [
       "<div>\n",
       "<style scoped>\n",
       "    .dataframe tbody tr th:only-of-type {\n",
       "        vertical-align: middle;\n",
       "    }\n",
       "\n",
       "    .dataframe tbody tr th {\n",
       "        vertical-align: top;\n",
       "    }\n",
       "\n",
       "    .dataframe thead th {\n",
       "        text-align: right;\n",
       "    }\n",
       "</style>\n",
       "<table border=\"1\" class=\"dataframe\">\n",
       "  <thead>\n",
       "    <tr style=\"text-align: right;\">\n",
       "      <th></th>\n",
       "      <th>date</th>\n",
       "      <th>locationId</th>\n",
       "      <th>item_id</th>\n",
       "      <th>unit_sales</th>\n",
       "      <th>onpromotion</th>\n",
       "      <th>category_of_item</th>\n",
       "      <th>class</th>\n",
       "      <th>perishable</th>\n",
       "      <th>city</th>\n",
       "      <th>state</th>\n",
       "      <th>type</th>\n",
       "      <th>cluster</th>\n",
       "      <th>month</th>\n",
       "      <th>day</th>\n",
       "      <th>year</th>\n",
       "      <th>week</th>\n",
       "    </tr>\n",
       "  </thead>\n",
       "  <tbody>\n",
       "    <tr>\n",
       "      <th>0</th>\n",
       "      <td>2015-01-01 00:01:00</td>\n",
       "      <td>location_25</td>\n",
       "      <td>item_103665</td>\n",
       "      <td>7.0</td>\n",
       "      <td>False</td>\n",
       "      <td>baked_items / bread_based</td>\n",
       "      <td>class_2712</td>\n",
       "      <td>1</td>\n",
       "      <td>Kanpur</td>\n",
       "      <td>Uttar Pradesh</td>\n",
       "      <td>D</td>\n",
       "      <td>1</td>\n",
       "      <td>1</td>\n",
       "      <td>1</td>\n",
       "      <td>2015</td>\n",
       "      <td>1</td>\n",
       "    </tr>\n",
       "    <tr>\n",
       "      <th>1</th>\n",
       "      <td>2015-01-02 00:01:00</td>\n",
       "      <td>location_25</td>\n",
       "      <td>item_103665</td>\n",
       "      <td>5.0</td>\n",
       "      <td>False</td>\n",
       "      <td>baked_items / bread_based</td>\n",
       "      <td>class_2712</td>\n",
       "      <td>1</td>\n",
       "      <td>Kanpur</td>\n",
       "      <td>Uttar Pradesh</td>\n",
       "      <td>D</td>\n",
       "      <td>1</td>\n",
       "      <td>1</td>\n",
       "      <td>2</td>\n",
       "      <td>2015</td>\n",
       "      <td>1</td>\n",
       "    </tr>\n",
       "    <tr>\n",
       "      <th>2</th>\n",
       "      <td>2015-01-04 00:01:00</td>\n",
       "      <td>location_25</td>\n",
       "      <td>item_103665</td>\n",
       "      <td>5.0</td>\n",
       "      <td>False</td>\n",
       "      <td>baked_items / bread_based</td>\n",
       "      <td>class_2712</td>\n",
       "      <td>1</td>\n",
       "      <td>Kanpur</td>\n",
       "      <td>Uttar Pradesh</td>\n",
       "      <td>D</td>\n",
       "      <td>1</td>\n",
       "      <td>1</td>\n",
       "      <td>4</td>\n",
       "      <td>2015</td>\n",
       "      <td>1</td>\n",
       "    </tr>\n",
       "    <tr>\n",
       "      <th>3</th>\n",
       "      <td>2015-01-05 00:01:00</td>\n",
       "      <td>location_25</td>\n",
       "      <td>item_103665</td>\n",
       "      <td>5.0</td>\n",
       "      <td>False</td>\n",
       "      <td>baked_items / bread_based</td>\n",
       "      <td>class_2712</td>\n",
       "      <td>1</td>\n",
       "      <td>Kanpur</td>\n",
       "      <td>Uttar Pradesh</td>\n",
       "      <td>D</td>\n",
       "      <td>1</td>\n",
       "      <td>1</td>\n",
       "      <td>5</td>\n",
       "      <td>2015</td>\n",
       "      <td>2</td>\n",
       "    </tr>\n",
       "    <tr>\n",
       "      <th>4</th>\n",
       "      <td>2015-01-06 00:01:00</td>\n",
       "      <td>location_25</td>\n",
       "      <td>item_103665</td>\n",
       "      <td>7.0</td>\n",
       "      <td>False</td>\n",
       "      <td>baked_items / bread_based</td>\n",
       "      <td>class_2712</td>\n",
       "      <td>1</td>\n",
       "      <td>Kanpur</td>\n",
       "      <td>Uttar Pradesh</td>\n",
       "      <td>D</td>\n",
       "      <td>1</td>\n",
       "      <td>1</td>\n",
       "      <td>6</td>\n",
       "      <td>2015</td>\n",
       "      <td>2</td>\n",
       "    </tr>\n",
       "  </tbody>\n",
       "</table>\n",
       "</div>"
      ],
      "text/plain": [
       "                 date   locationId      item_id  ...  day  year week\n",
       "0 2015-01-01 00:01:00  location_25  item_103665  ...    1  2015    1\n",
       "1 2015-01-02 00:01:00  location_25  item_103665  ...    2  2015    1\n",
       "2 2015-01-04 00:01:00  location_25  item_103665  ...    4  2015    1\n",
       "3 2015-01-05 00:01:00  location_25  item_103665  ...    5  2015    2\n",
       "4 2015-01-06 00:01:00  location_25  item_103665  ...    6  2015    2\n",
       "\n",
       "[5 rows x 16 columns]"
      ]
     },
     "execution_count": 43,
     "metadata": {
      "tags": []
     },
     "output_type": "execute_result"
    }
   ],
   "source": [
    "data.head()\n"
   ]
  },
  {
   "cell_type": "code",
   "execution_count": 0,
   "metadata": {
    "colab": {},
    "colab_type": "code",
    "id": "VTFEmeCCySJ0"
   },
   "outputs": [],
   "source": [
    "## pickling the data which is used retain the last worked data \n",
    "\n",
    "pickle_out= open('merge.pickle','wb')\n",
    "pickle.dump(data,pickle_out)\n",
    "pickle_out.close()"
   ]
  },
  {
   "cell_type": "code",
   "execution_count": 0,
   "metadata": {
    "colab": {},
    "colab_type": "code",
    "id": "H9-_24yMu7Ym"
   },
   "outputs": [],
   "source": [
    "## loaded the pickle data\n",
    "\n",
    "pickle_in= open('merge.pickle','rb')\n",
    "data= pickle.load(pickle_in)"
   ]
  },
  {
   "cell_type": "markdown",
   "metadata": {
    "colab_type": "text",
    "id": "ANugwXrrygdW"
   },
   "source": [
    "### subsetting the first 15 days of years data from the whole data as the predictions should been shown to the required 15 days of the data"
   ]
  },
  {
   "cell_type": "code",
   "execution_count": 0,
   "metadata": {
    "colab": {},
    "colab_type": "code",
    "id": "7wJ2beeHYeD-"
   },
   "outputs": [],
   "source": [
    "data_imp= data.loc[(data['month']==1)&(data['day']<=15),:]"
   ]
  },
  {
   "cell_type": "code",
   "execution_count": 0,
   "metadata": {
    "colab": {
     "base_uri": "https://localhost:8080/",
     "height": 278
    },
    "colab_type": "code",
    "id": "j-or1T2LaYYF",
    "outputId": "41f5bbd7-6cf2-41a7-ceb6-34ff3e990ba5"
   },
   "outputs": [
    {
     "data": {
      "text/html": [
       "<div>\n",
       "<style scoped>\n",
       "    .dataframe tbody tr th:only-of-type {\n",
       "        vertical-align: middle;\n",
       "    }\n",
       "\n",
       "    .dataframe tbody tr th {\n",
       "        vertical-align: top;\n",
       "    }\n",
       "\n",
       "    .dataframe thead th {\n",
       "        text-align: right;\n",
       "    }\n",
       "</style>\n",
       "<table border=\"1\" class=\"dataframe\">\n",
       "  <thead>\n",
       "    <tr style=\"text-align: right;\">\n",
       "      <th></th>\n",
       "      <th>date</th>\n",
       "      <th>locationId</th>\n",
       "      <th>item_id</th>\n",
       "      <th>unit_sales</th>\n",
       "      <th>onpromotion</th>\n",
       "      <th>category_of_item</th>\n",
       "      <th>class</th>\n",
       "      <th>perishable</th>\n",
       "      <th>city</th>\n",
       "      <th>state</th>\n",
       "      <th>type</th>\n",
       "      <th>cluster</th>\n",
       "      <th>month</th>\n",
       "      <th>day</th>\n",
       "      <th>year</th>\n",
       "      <th>week</th>\n",
       "    </tr>\n",
       "  </thead>\n",
       "  <tbody>\n",
       "    <tr>\n",
       "      <th>0</th>\n",
       "      <td>2015-01-01 00:01:00</td>\n",
       "      <td>location_25</td>\n",
       "      <td>item_103665</td>\n",
       "      <td>7.0</td>\n",
       "      <td>False</td>\n",
       "      <td>baked_items / bread_based</td>\n",
       "      <td>class_2712</td>\n",
       "      <td>1</td>\n",
       "      <td>Kanpur</td>\n",
       "      <td>Uttar Pradesh</td>\n",
       "      <td>D</td>\n",
       "      <td>1</td>\n",
       "      <td>1</td>\n",
       "      <td>1</td>\n",
       "      <td>2015</td>\n",
       "      <td>1</td>\n",
       "    </tr>\n",
       "    <tr>\n",
       "      <th>1</th>\n",
       "      <td>2015-01-02 00:01:00</td>\n",
       "      <td>location_25</td>\n",
       "      <td>item_103665</td>\n",
       "      <td>5.0</td>\n",
       "      <td>False</td>\n",
       "      <td>baked_items / bread_based</td>\n",
       "      <td>class_2712</td>\n",
       "      <td>1</td>\n",
       "      <td>Kanpur</td>\n",
       "      <td>Uttar Pradesh</td>\n",
       "      <td>D</td>\n",
       "      <td>1</td>\n",
       "      <td>1</td>\n",
       "      <td>2</td>\n",
       "      <td>2015</td>\n",
       "      <td>1</td>\n",
       "    </tr>\n",
       "    <tr>\n",
       "      <th>2</th>\n",
       "      <td>2015-01-04 00:01:00</td>\n",
       "      <td>location_25</td>\n",
       "      <td>item_103665</td>\n",
       "      <td>5.0</td>\n",
       "      <td>False</td>\n",
       "      <td>baked_items / bread_based</td>\n",
       "      <td>class_2712</td>\n",
       "      <td>1</td>\n",
       "      <td>Kanpur</td>\n",
       "      <td>Uttar Pradesh</td>\n",
       "      <td>D</td>\n",
       "      <td>1</td>\n",
       "      <td>1</td>\n",
       "      <td>4</td>\n",
       "      <td>2015</td>\n",
       "      <td>1</td>\n",
       "    </tr>\n",
       "    <tr>\n",
       "      <th>3</th>\n",
       "      <td>2015-01-05 00:01:00</td>\n",
       "      <td>location_25</td>\n",
       "      <td>item_103665</td>\n",
       "      <td>5.0</td>\n",
       "      <td>False</td>\n",
       "      <td>baked_items / bread_based</td>\n",
       "      <td>class_2712</td>\n",
       "      <td>1</td>\n",
       "      <td>Kanpur</td>\n",
       "      <td>Uttar Pradesh</td>\n",
       "      <td>D</td>\n",
       "      <td>1</td>\n",
       "      <td>1</td>\n",
       "      <td>5</td>\n",
       "      <td>2015</td>\n",
       "      <td>2</td>\n",
       "    </tr>\n",
       "    <tr>\n",
       "      <th>4</th>\n",
       "      <td>2015-01-06 00:01:00</td>\n",
       "      <td>location_25</td>\n",
       "      <td>item_103665</td>\n",
       "      <td>7.0</td>\n",
       "      <td>False</td>\n",
       "      <td>baked_items / bread_based</td>\n",
       "      <td>class_2712</td>\n",
       "      <td>1</td>\n",
       "      <td>Kanpur</td>\n",
       "      <td>Uttar Pradesh</td>\n",
       "      <td>D</td>\n",
       "      <td>1</td>\n",
       "      <td>1</td>\n",
       "      <td>6</td>\n",
       "      <td>2015</td>\n",
       "      <td>2</td>\n",
       "    </tr>\n",
       "  </tbody>\n",
       "</table>\n",
       "</div>"
      ],
      "text/plain": [
       "                 date   locationId      item_id  ...  day  year week\n",
       "0 2015-01-01 00:01:00  location_25  item_103665  ...    1  2015    1\n",
       "1 2015-01-02 00:01:00  location_25  item_103665  ...    2  2015    1\n",
       "2 2015-01-04 00:01:00  location_25  item_103665  ...    4  2015    1\n",
       "3 2015-01-05 00:01:00  location_25  item_103665  ...    5  2015    2\n",
       "4 2015-01-06 00:01:00  location_25  item_103665  ...    6  2015    2\n",
       "\n",
       "[5 rows x 16 columns]"
      ]
     },
     "execution_count": 12,
     "metadata": {
      "tags": []
     },
     "output_type": "execute_result"
    }
   ],
   "source": [
    "data_imp.head()"
   ]
  },
  {
   "cell_type": "code",
   "execution_count": 0,
   "metadata": {
    "colab": {},
    "colab_type": "code",
    "id": "c332tr9Eaczx"
   },
   "outputs": [],
   "source": [
    "## pickled data of first 15 days of all years in the merged data\n",
    "\n",
    "pickle_out= open('first_15.pickle','wb')\n",
    "pickle.dump(data_imp,pickle_out)\n",
    "pickle_out.close()"
   ]
  },
  {
   "cell_type": "code",
   "execution_count": 0,
   "metadata": {
    "colab": {},
    "colab_type": "code",
    "id": "FgHY_p92acu2"
   },
   "outputs": [],
   "source": [
    "pickle_in= open('first_15.pickle','rb')\n",
    "data_imp= pickle.load(pickle_in)\n"
   ]
  },
  {
   "cell_type": "markdown",
   "metadata": {
    "colab_type": "text",
    "id": "64UO2dq9r15c"
   },
   "source": [
    "## Business insights of items and clusters from 2015 to 2018"
   ]
  },
  {
   "cell_type": "code",
   "execution_count": 0,
   "metadata": {
    "colab": {},
    "colab_type": "code",
    "id": "jcWkXb21Wp8Q"
   },
   "outputs": [],
   "source": [
    "data_imp['week']=data_imp['date'].dt.week"
   ]
  },
  {
   "cell_type": "code",
   "execution_count": 0,
   "metadata": {
    "colab": {
     "base_uri": "https://localhost:8080/",
     "height": 195
    },
    "colab_type": "code",
    "id": "j91aX1k6DZP7",
    "outputId": "db78aa4e-7de6-49f5-b631-6e0d3d736096"
   },
   "outputs": [
    {
     "data": {
      "text/html": [
       "<div>\n",
       "<style scoped>\n",
       "    .dataframe tbody tr th:only-of-type {\n",
       "        vertical-align: middle;\n",
       "    }\n",
       "\n",
       "    .dataframe tbody tr th {\n",
       "        vertical-align: top;\n",
       "    }\n",
       "\n",
       "    .dataframe thead th {\n",
       "        text-align: right;\n",
       "    }\n",
       "</style>\n",
       "<table border=\"1\" class=\"dataframe\">\n",
       "  <thead>\n",
       "    <tr style=\"text-align: right;\">\n",
       "      <th></th>\n",
       "      <th>date</th>\n",
       "      <th>locationId</th>\n",
       "      <th>item_id</th>\n",
       "      <th>unit_sales</th>\n",
       "      <th>onpromotion</th>\n",
       "      <th>month</th>\n",
       "      <th>day</th>\n",
       "      <th>year</th>\n",
       "      <th>city</th>\n",
       "      <th>state</th>\n",
       "      <th>type</th>\n",
       "      <th>cluster</th>\n",
       "      <th>week</th>\n",
       "    </tr>\n",
       "  </thead>\n",
       "  <tbody>\n",
       "    <tr>\n",
       "      <th>0</th>\n",
       "      <td>2015-01-01</td>\n",
       "      <td>location_25</td>\n",
       "      <td>item_103665</td>\n",
       "      <td>7.0</td>\n",
       "      <td>False</td>\n",
       "      <td>1</td>\n",
       "      <td>1</td>\n",
       "      <td>2015</td>\n",
       "      <td>Kanpur</td>\n",
       "      <td>Uttar Pradesh</td>\n",
       "      <td>D</td>\n",
       "      <td>1</td>\n",
       "      <td>1</td>\n",
       "    </tr>\n",
       "    <tr>\n",
       "      <th>1</th>\n",
       "      <td>2015-01-01</td>\n",
       "      <td>location_25</td>\n",
       "      <td>item_105574</td>\n",
       "      <td>1.0</td>\n",
       "      <td>False</td>\n",
       "      <td>1</td>\n",
       "      <td>1</td>\n",
       "      <td>2015</td>\n",
       "      <td>Kanpur</td>\n",
       "      <td>Uttar Pradesh</td>\n",
       "      <td>D</td>\n",
       "      <td>1</td>\n",
       "      <td>1</td>\n",
       "    </tr>\n",
       "    <tr>\n",
       "      <th>2</th>\n",
       "      <td>2015-01-01</td>\n",
       "      <td>location_25</td>\n",
       "      <td>item_105575</td>\n",
       "      <td>2.0</td>\n",
       "      <td>False</td>\n",
       "      <td>1</td>\n",
       "      <td>1</td>\n",
       "      <td>2015</td>\n",
       "      <td>Kanpur</td>\n",
       "      <td>Uttar Pradesh</td>\n",
       "      <td>D</td>\n",
       "      <td>1</td>\n",
       "      <td>1</td>\n",
       "    </tr>\n",
       "    <tr>\n",
       "      <th>3</th>\n",
       "      <td>2015-01-01</td>\n",
       "      <td>location_25</td>\n",
       "      <td>item_108079</td>\n",
       "      <td>1.0</td>\n",
       "      <td>False</td>\n",
       "      <td>1</td>\n",
       "      <td>1</td>\n",
       "      <td>2015</td>\n",
       "      <td>Kanpur</td>\n",
       "      <td>Uttar Pradesh</td>\n",
       "      <td>D</td>\n",
       "      <td>1</td>\n",
       "      <td>1</td>\n",
       "    </tr>\n",
       "    <tr>\n",
       "      <th>4</th>\n",
       "      <td>2015-01-01</td>\n",
       "      <td>location_25</td>\n",
       "      <td>item_108701</td>\n",
       "      <td>1.0</td>\n",
       "      <td>False</td>\n",
       "      <td>1</td>\n",
       "      <td>1</td>\n",
       "      <td>2015</td>\n",
       "      <td>Kanpur</td>\n",
       "      <td>Uttar Pradesh</td>\n",
       "      <td>D</td>\n",
       "      <td>1</td>\n",
       "      <td>1</td>\n",
       "    </tr>\n",
       "  </tbody>\n",
       "</table>\n",
       "</div>"
      ],
      "text/plain": [
       "        date   locationId      item_id  ...  type  cluster  week\n",
       "0 2015-01-01  location_25  item_103665  ...     D        1     1\n",
       "1 2015-01-01  location_25  item_105574  ...     D        1     1\n",
       "2 2015-01-01  location_25  item_105575  ...     D        1     1\n",
       "3 2015-01-01  location_25  item_108079  ...     D        1     1\n",
       "4 2015-01-01  location_25  item_108701  ...     D        1     1\n",
       "\n",
       "[5 rows x 13 columns]"
      ]
     },
     "execution_count": 18,
     "metadata": {
      "tags": []
     },
     "output_type": "execute_result"
    }
   ],
   "source": [
    "data_imp.head()"
   ]
  },
  {
   "cell_type": "markdown",
   "metadata": {
    "colab_type": "text",
    "id": "gIzhAVQI0ax7"
   },
   "source": [
    "## subsetting the cluster and unit sales from the first 15 days data"
   ]
  },
  {
   "cell_type": "code",
   "execution_count": 0,
   "metadata": {
    "colab": {},
    "colab_type": "code",
    "id": "vNPmdGE1N02b"
   },
   "outputs": [],
   "source": [
    "data1= data_imp.loc[:,['cluster','unit_sales']]"
   ]
  },
  {
   "cell_type": "code",
   "execution_count": 0,
   "metadata": {
    "colab": {
     "base_uri": "https://localhost:8080/",
     "height": 34
    },
    "colab_type": "code",
    "id": "-diHgQjVODED",
    "outputId": "f09de7f2-9162-4661-b60f-85929a0062e5"
   },
   "outputs": [
    {
     "data": {
      "text/plain": [
       "(3614582, 2)"
      ]
     },
     "execution_count": 65,
     "metadata": {
      "tags": []
     },
     "output_type": "execute_result"
    }
   ],
   "source": [
    "data1.shape"
   ]
  },
  {
   "cell_type": "code",
   "execution_count": 0,
   "metadata": {
    "colab": {},
    "colab_type": "code",
    "id": "AOQUath0acgx"
   },
   "outputs": [],
   "source": [
    "## converting to total sales from the subset data with respect to cluster and converting it data frame\n",
    "\n",
    "q1 = \"\"\"SELECT cluster,sum(unit_sales) as tot_sales FROM data1 GROUP BY cluster\"\"\"\n",
    "\n",
    "df1= pd.DataFrame(ps.sqldf(q1, locals()))"
   ]
  },
  {
   "cell_type": "code",
   "execution_count": 0,
   "metadata": {
    "colab": {
     "base_uri": "https://localhost:8080/",
     "height": 550
    },
    "colab_type": "code",
    "id": "RcShRBQ1RHRp",
    "outputId": "1d021ef7-5741-4824-9e33-fdc7eed36f52"
   },
   "outputs": [
    {
     "data": {
      "text/html": [
       "<div>\n",
       "<style scoped>\n",
       "    .dataframe tbody tr th:only-of-type {\n",
       "        vertical-align: middle;\n",
       "    }\n",
       "\n",
       "    .dataframe tbody tr th {\n",
       "        vertical-align: top;\n",
       "    }\n",
       "\n",
       "    .dataframe thead th {\n",
       "        text-align: right;\n",
       "    }\n",
       "</style>\n",
       "<table border=\"1\" class=\"dataframe\">\n",
       "  <thead>\n",
       "    <tr style=\"text-align: right;\">\n",
       "      <th></th>\n",
       "      <th>cluster</th>\n",
       "      <th>tot_sales</th>\n",
       "    </tr>\n",
       "  </thead>\n",
       "  <tbody>\n",
       "    <tr>\n",
       "      <th>13</th>\n",
       "      <td>14</td>\n",
       "      <td>5.292238e+06</td>\n",
       "    </tr>\n",
       "    <tr>\n",
       "      <th>7</th>\n",
       "      <td>8</td>\n",
       "      <td>3.503461e+06</td>\n",
       "    </tr>\n",
       "    <tr>\n",
       "      <th>5</th>\n",
       "      <td>6</td>\n",
       "      <td>3.269585e+06</td>\n",
       "    </tr>\n",
       "    <tr>\n",
       "      <th>10</th>\n",
       "      <td>11</td>\n",
       "      <td>3.112135e+06</td>\n",
       "    </tr>\n",
       "    <tr>\n",
       "      <th>9</th>\n",
       "      <td>10</td>\n",
       "      <td>2.380939e+06</td>\n",
       "    </tr>\n",
       "    <tr>\n",
       "      <th>2</th>\n",
       "      <td>3</td>\n",
       "      <td>2.291174e+06</td>\n",
       "    </tr>\n",
       "    <tr>\n",
       "      <th>12</th>\n",
       "      <td>13</td>\n",
       "      <td>2.171348e+06</td>\n",
       "    </tr>\n",
       "    <tr>\n",
       "      <th>4</th>\n",
       "      <td>5</td>\n",
       "      <td>2.036079e+06</td>\n",
       "    </tr>\n",
       "    <tr>\n",
       "      <th>14</th>\n",
       "      <td>15</td>\n",
       "      <td>1.801046e+06</td>\n",
       "    </tr>\n",
       "    <tr>\n",
       "      <th>0</th>\n",
       "      <td>1</td>\n",
       "      <td>1.756875e+06</td>\n",
       "    </tr>\n",
       "    <tr>\n",
       "      <th>3</th>\n",
       "      <td>4</td>\n",
       "      <td>1.611779e+06</td>\n",
       "    </tr>\n",
       "    <tr>\n",
       "      <th>16</th>\n",
       "      <td>17</td>\n",
       "      <td>1.059844e+06</td>\n",
       "    </tr>\n",
       "    <tr>\n",
       "      <th>8</th>\n",
       "      <td>9</td>\n",
       "      <td>1.020985e+06</td>\n",
       "    </tr>\n",
       "    <tr>\n",
       "      <th>1</th>\n",
       "      <td>2</td>\n",
       "      <td>8.610506e+05</td>\n",
       "    </tr>\n",
       "    <tr>\n",
       "      <th>11</th>\n",
       "      <td>12</td>\n",
       "      <td>5.212436e+05</td>\n",
       "    </tr>\n",
       "    <tr>\n",
       "      <th>6</th>\n",
       "      <td>7</td>\n",
       "      <td>4.658436e+05</td>\n",
       "    </tr>\n",
       "    <tr>\n",
       "      <th>15</th>\n",
       "      <td>16</td>\n",
       "      <td>4.406042e+05</td>\n",
       "    </tr>\n",
       "  </tbody>\n",
       "</table>\n",
       "</div>"
      ],
      "text/plain": [
       "    cluster     tot_sales\n",
       "13       14  5.292238e+06\n",
       "7         8  3.503461e+06\n",
       "5         6  3.269585e+06\n",
       "10       11  3.112135e+06\n",
       "9        10  2.380939e+06\n",
       "2         3  2.291174e+06\n",
       "12       13  2.171348e+06\n",
       "4         5  2.036079e+06\n",
       "14       15  1.801046e+06\n",
       "0         1  1.756875e+06\n",
       "3         4  1.611779e+06\n",
       "16       17  1.059844e+06\n",
       "8         9  1.020985e+06\n",
       "1         2  8.610506e+05\n",
       "11       12  5.212436e+05\n",
       "6         7  4.658436e+05\n",
       "15       16  4.406042e+05"
      ]
     },
     "execution_count": 22,
     "metadata": {
      "tags": []
     },
     "output_type": "execute_result"
    }
   ],
   "source": [
    "df1.head(20).sort_values('tot_sales',ascending=False)"
   ]
  },
  {
   "cell_type": "code",
   "execution_count": 0,
   "metadata": {
    "colab": {
     "base_uri": "https://localhost:8080/",
     "height": 534
    },
    "colab_type": "code",
    "id": "mks4FGZvIO2H",
    "outputId": "f352d66d-1224-4d0a-c636-a59ca0cf198d"
   },
   "outputs": [
    {
     "data": {
      "text/plain": [
       "<matplotlib.axes._subplots.AxesSubplot at 0x7fc239d6e630>"
      ]
     },
     "execution_count": 68,
     "metadata": {
      "tags": []
     },
     "output_type": "execute_result"
    },
    {
     "data": {
      "text/plain": [
       "<Figure size 1008x1152 with 0 Axes>"
      ]
     },
     "metadata": {
      "tags": []
     },
     "output_type": "display_data"
    },
    {
     "data": {
      "image/png": "[encoded data removed]",
      "text/plain": [
       "<Figure size 720x576 with 1 Axes>"
      ]
     },
     "metadata": {
      "tags": []
     },
     "output_type": "display_data"
    }
   ],
   "source": [
    "## bar graph to see highest unit sales with respect to cluster\n",
    "\n",
    "plt.figure(figsize=(14,16))\n",
    "df1.sort_values('tot_sales',ascending=False,inplace=True)\n",
    "df1.plot(kind='bar',y='tot_sales',x='cluster',color='b',figsize=(10,8))\n",
    "\n"
   ]
  },
  {
   "cell_type": "markdown",
   "metadata": {
    "colab_type": "text",
    "id": "pXcNcKwv2BGC"
   },
   "source": [
    "### cluster 14 has highest unit sales in the data, where cluster 14 is related to BENGULURU region.\n",
    " "
   ]
  },
  {
   "cell_type": "markdown",
   "metadata": {
    "colab_type": "text",
    "id": "671V7pBS15O7"
   },
   "source": [
    "## Now subset the itemid,unit sales and cluster equal to 14 to check the top selling items in this cluster with respect to all four years data."
   ]
  },
  {
   "cell_type": "code",
   "execution_count": 0,
   "metadata": {
    "colab": {},
    "colab_type": "code",
    "id": "TKhNfzYDRYNG"
   },
   "outputs": [],
   "source": [
    "data2= data_imp.loc[data_imp['cluster']==14,['cluster','item_id','unit_sales']]"
   ]
  },
  {
   "cell_type": "code",
   "execution_count": 0,
   "metadata": {
    "colab": {
     "base_uri": "https://localhost:8080/",
     "height": 195
    },
    "colab_type": "code",
    "id": "4iz4Tb66RYJd",
    "outputId": "a0c94de6-d079-4d88-e918-c6526cf3b948"
   },
   "outputs": [
    {
     "data": {
      "text/html": [
       "<div>\n",
       "<style scoped>\n",
       "    .dataframe tbody tr th:only-of-type {\n",
       "        vertical-align: middle;\n",
       "    }\n",
       "\n",
       "    .dataframe tbody tr th {\n",
       "        vertical-align: top;\n",
       "    }\n",
       "\n",
       "    .dataframe thead th {\n",
       "        text-align: right;\n",
       "    }\n",
       "</style>\n",
       "<table border=\"1\" class=\"dataframe\">\n",
       "  <thead>\n",
       "    <tr style=\"text-align: right;\">\n",
       "      <th></th>\n",
       "      <th>cluster</th>\n",
       "      <th>item_id</th>\n",
       "      <th>unit_sales</th>\n",
       "    </tr>\n",
       "  </thead>\n",
       "  <tbody>\n",
       "    <tr>\n",
       "      <th>76231657</th>\n",
       "      <td>14</td>\n",
       "      <td>item_103665</td>\n",
       "      <td>7.0</td>\n",
       "    </tr>\n",
       "    <tr>\n",
       "      <th>76231658</th>\n",
       "      <td>14</td>\n",
       "      <td>item_105574</td>\n",
       "      <td>27.0</td>\n",
       "    </tr>\n",
       "    <tr>\n",
       "      <th>76231659</th>\n",
       "      <td>14</td>\n",
       "      <td>item_105575</td>\n",
       "      <td>60.0</td>\n",
       "    </tr>\n",
       "    <tr>\n",
       "      <th>76231660</th>\n",
       "      <td>14</td>\n",
       "      <td>item_105577</td>\n",
       "      <td>23.0</td>\n",
       "    </tr>\n",
       "    <tr>\n",
       "      <th>76231661</th>\n",
       "      <td>14</td>\n",
       "      <td>item_105693</td>\n",
       "      <td>2.0</td>\n",
       "    </tr>\n",
       "  </tbody>\n",
       "</table>\n",
       "</div>"
      ],
      "text/plain": [
       "          cluster      item_id  unit_sales\n",
       "76231657       14  item_103665         7.0\n",
       "76231658       14  item_105574        27.0\n",
       "76231659       14  item_105575        60.0\n",
       "76231660       14  item_105577        23.0\n",
       "76231661       14  item_105693         2.0"
      ]
     },
     "execution_count": 70,
     "metadata": {
      "tags": []
     },
     "output_type": "execute_result"
    }
   ],
   "source": [
    "data2.head()"
   ]
  },
  {
   "cell_type": "code",
   "execution_count": 0,
   "metadata": {
    "colab": {},
    "colab_type": "code",
    "id": "heZKtrefRYFT"
   },
   "outputs": [],
   "source": [
    "## calculating the sum of unit sales of cluster 14 with respect to items to know the top selling items\n",
    "\n",
    "q2 = \"\"\"SELECT cluster,item_id,sum(unit_sales) as tot_sales FROM data2 GROUP BY item_id\"\"\"\n",
    "\n",
    "df2= pd.DataFrame(ps.sqldf(q2, locals()))"
   ]
  },
  {
   "cell_type": "code",
   "execution_count": 0,
   "metadata": {
    "colab": {},
    "colab_type": "code",
    "id": "rgvjO-S_RYB-"
   },
   "outputs": [],
   "source": [
    "## sorting the top 10 selling items in cluster 14\n",
    "\n",
    "item_10=df2.sort_values('tot_sales',ascending=False).head(10)"
   ]
  },
  {
   "cell_type": "code",
   "execution_count": 0,
   "metadata": {
    "colab": {
     "base_uri": "https://localhost:8080/",
     "height": 577
    },
    "colab_type": "code",
    "id": "Od245r87USiF",
    "outputId": "417b6205-eab5-4375-9bca-87776957eba0"
   },
   "outputs": [
    {
     "data": {
      "text/plain": [
       "<matplotlib.axes._subplots.AxesSubplot at 0x7fc2052fe2b0>"
      ]
     },
     "execution_count": 87,
     "metadata": {
      "tags": []
     },
     "output_type": "execute_result"
    },
    {
     "data": {
      "image/png": "[encoded data removed]",
      "text/plain": [
       "<Figure size 720x576 with 1 Axes>"
      ]
     },
     "metadata": {
      "tags": []
     },
     "output_type": "display_data"
    }
   ],
   "source": [
    "## plot for top 10 selling items in cluster 14\n",
    "\n",
    "item_10.plot(kind='bar',x='item_id',y='tot_sales',color='r',figsize=(10,8))"
   ]
  },
  {
   "cell_type": "markdown",
   "metadata": {
    "colab_type": "text",
    "id": "p3m_wVhpq7Nt"
   },
   "source": [
    "### This is subsetting is to calculate the rate of purchase per week of the above items."
   ]
  },
  {
   "cell_type": "code",
   "execution_count": 0,
   "metadata": {
    "colab": {},
    "colab_type": "code",
    "id": "PB2MQdSqCOMx"
   },
   "outputs": [],
   "source": [
    "\n",
    "data3= data_imp.loc[(data_imp['cluster']==14) & (data_imp['week']==2),['week','item_id','unit_sales']]"
   ]
  },
  {
   "cell_type": "code",
   "execution_count": 0,
   "metadata": {
    "colab": {
     "base_uri": "https://localhost:8080/",
     "height": 50
    },
    "colab_type": "code",
    "id": "tWerHkN6Myj0",
    "outputId": "5ec16b3c-7850-4abe-86e7-f9ea96e6418e"
   },
   "outputs": [
    {
     "data": {
      "text/plain": [
       "2    178860\n",
       "Name: week, dtype: int64"
      ]
     },
     "execution_count": 134,
     "metadata": {
      "tags": []
     },
     "output_type": "execute_result"
    }
   ],
   "source": [
    "data3.week.value_counts()"
   ]
  },
  {
   "cell_type": "code",
   "execution_count": 0,
   "metadata": {
    "colab": {},
    "colab_type": "code",
    "id": "FcLrCuUQFKKZ"
   },
   "outputs": [],
   "source": [
    "## calculating the rate of purchase by grouping the week and item_id \n",
    "\n",
    "q3 = \"\"\"SELECT week,item_id,sum(unit_sales)/2 as avg_sales FROM data3 GROUP BY week,item_id\"\"\"\n",
    "\n",
    "df3= pd.DataFrame(ps.sqldf(q3, locals()))"
   ]
  },
  {
   "cell_type": "code",
   "execution_count": 0,
   "metadata": {
    "colab": {
     "base_uri": "https://localhost:8080/",
     "height": 50
    },
    "colab_type": "code",
    "id": "a6yez1SsGPNe",
    "outputId": "2aa41dbc-a335-4a3e-ce49-a8fdbc1f4ea2"
   },
   "outputs": [
    {
     "data": {
      "text/plain": [
       "2    3081\n",
       "Name: week, dtype: int64"
      ]
     },
     "execution_count": 136,
     "metadata": {
      "tags": []
     },
     "output_type": "execute_result"
    }
   ],
   "source": [
    "df3.week.value_counts()"
   ]
  },
  {
   "cell_type": "code",
   "execution_count": 0,
   "metadata": {
    "colab": {},
    "colab_type": "code",
    "id": "zzENvp3lD8AB"
   },
   "outputs": [],
   "source": [
    "## sorting the top 10 items rate of purchase\n",
    "\n",
    "item_10_rate=df3.sort_values('avg_sales',ascending=False).head(10)"
   ]
  },
  {
   "cell_type": "code",
   "execution_count": 0,
   "metadata": {
    "colab": {
     "base_uri": "https://localhost:8080/",
     "height": 576
    },
    "colab_type": "code",
    "id": "4ZhxKLgQLyjg",
    "outputId": "1ec44fef-9ee3-4d78-c4ee-529e96fabd21"
   },
   "outputs": [
    {
     "data": {
      "text/plain": [
       "Text(0.5, 0, 'week')"
      ]
     },
     "execution_count": 150,
     "metadata": {
      "tags": []
     },
     "output_type": "execute_result"
    },
    {
     "data": {
      "image/png": "[encoded data removed]",
      "text/plain": [
       "<Figure size 720x576 with 1 Axes>"
      ]
     },
     "metadata": {
      "tags": []
     },
     "output_type": "display_data"
    }
   ],
   "source": [
    "item_10_rate.plot(kind='bar',x='item_id',y='avg_sales',color='g',figsize=(10,8))\n",
    "plt.xlabel('week')"
   ]
  },
  {
   "cell_type": "markdown",
   "metadata": {
    "colab_type": "text",
    "id": "SWBer_QpPjhb"
   },
   "source": [
    "### PREPROCESSING"
   ]
  },
  {
   "cell_type": "code",
   "execution_count": 0,
   "metadata": {
    "colab": {},
    "colab_type": "code",
    "id": "2joA4H2YpHlG"
   },
   "outputs": [],
   "source": [
    "train= pd.read_csv('train.csv')   ## considering the main data "
   ]
  },
  {
   "cell_type": "code",
   "execution_count": 0,
   "metadata": {
    "colab": {},
    "colab_type": "code",
    "id": "GVTeec3fpHgq"
   },
   "outputs": [],
   "source": [
    "train['date']=pd.to_datetime(train['date'],format = '%Y-%m-%d')            ## changing the date to date-time format\n",
    "# train['item_id']=train['item_id'].astype('category')\n",
    "# train['locationId']= train['locationId'].astype('category')\n",
    "# train['unit_sales']= train['unit_sales'].astype('float64')\n",
    "# train['onpromotion']=train['onpromotion'].astype('category')"
   ]
  },
  {
   "cell_type": "code",
   "execution_count": 0,
   "metadata": {
    "colab": {},
    "colab_type": "code",
    "id": "Ets7KPj5pHeu"
   },
   "outputs": [],
   "source": [
    "train_15 = train[(train['date'] >= '2015-01-01') & (train['date'] <= '2015-01-15')         ## subsetting the first 15 days of january month in all 4 yrs.\n",
    "                   | (train['date'] >= '2016-01-01') & (train['date'] <= '2016-01-15')\n",
    "                  | (train['date'] >= '2017-01-01') & (train['date'] <= '2017-01-15') \n",
    "                   | (train['date'] >= '2018-01-01') & (train['date'] <= '2018-01-15')]"
   ]
  },
  {
   "cell_type": "code",
   "execution_count": 0,
   "metadata": {
    "colab": {
     "base_uri": "https://localhost:8080/",
     "height": 35
    },
    "colab_type": "code",
    "id": "p-SVk0L2pHXo",
    "outputId": "56d8f649-003e-4e37-beff-6fed96c9b3a3"
   },
   "outputs": [
    {
     "data": {
      "text/plain": [
       "(3614828, 5)"
      ]
     },
     "execution_count": 11,
     "metadata": {
      "tags": []
     },
     "output_type": "execute_result"
    }
   ],
   "source": [
    "train_15.shape         ## checking the shape of subsetted data"
   ]
  },
  {
   "cell_type": "code",
   "execution_count": 0,
   "metadata": {
    "colab": {
     "base_uri": "https://localhost:8080/",
     "height": 194
    },
    "colab_type": "code",
    "id": "nCFbeEc-vgG3",
    "outputId": "87784a5f-2ee6-400a-bb7e-762e171f2130"
   },
   "outputs": [
    {
     "data": {
      "text/html": [
       "<div>\n",
       "<style scoped>\n",
       "    .dataframe tbody tr th:only-of-type {\n",
       "        vertical-align: middle;\n",
       "    }\n",
       "\n",
       "    .dataframe tbody tr th {\n",
       "        vertical-align: top;\n",
       "    }\n",
       "\n",
       "    .dataframe thead th {\n",
       "        text-align: right;\n",
       "    }\n",
       "</style>\n",
       "<table border=\"1\" class=\"dataframe\">\n",
       "  <thead>\n",
       "    <tr style=\"text-align: right;\">\n",
       "      <th></th>\n",
       "      <th>date</th>\n",
       "      <th>locationId</th>\n",
       "      <th>item_id</th>\n",
       "      <th>unit_sales</th>\n",
       "      <th>onpromotion</th>\n",
       "    </tr>\n",
       "  </thead>\n",
       "  <tbody>\n",
       "    <tr>\n",
       "      <th>0</th>\n",
       "      <td>2015-01-01</td>\n",
       "      <td>location_25</td>\n",
       "      <td>item_103665</td>\n",
       "      <td>7.0</td>\n",
       "      <td>NaN</td>\n",
       "    </tr>\n",
       "    <tr>\n",
       "      <th>1</th>\n",
       "      <td>2015-01-01</td>\n",
       "      <td>location_25</td>\n",
       "      <td>item_105574</td>\n",
       "      <td>1.0</td>\n",
       "      <td>NaN</td>\n",
       "    </tr>\n",
       "    <tr>\n",
       "      <th>2</th>\n",
       "      <td>2015-01-01</td>\n",
       "      <td>location_25</td>\n",
       "      <td>item_105575</td>\n",
       "      <td>2.0</td>\n",
       "      <td>NaN</td>\n",
       "    </tr>\n",
       "    <tr>\n",
       "      <th>3</th>\n",
       "      <td>2015-01-01</td>\n",
       "      <td>location_25</td>\n",
       "      <td>item_108079</td>\n",
       "      <td>1.0</td>\n",
       "      <td>NaN</td>\n",
       "    </tr>\n",
       "    <tr>\n",
       "      <th>4</th>\n",
       "      <td>2015-01-01</td>\n",
       "      <td>location_25</td>\n",
       "      <td>item_108701</td>\n",
       "      <td>1.0</td>\n",
       "      <td>NaN</td>\n",
       "    </tr>\n",
       "  </tbody>\n",
       "</table>\n",
       "</div>"
      ],
      "text/plain": [
       "        date   locationId      item_id  unit_sales onpromotion\n",
       "0 2015-01-01  location_25  item_103665         7.0         NaN\n",
       "1 2015-01-01  location_25  item_105574         1.0         NaN\n",
       "2 2015-01-01  location_25  item_105575         2.0         NaN\n",
       "3 2015-01-01  location_25  item_108079         1.0         NaN\n",
       "4 2015-01-01  location_25  item_108701         1.0         NaN"
      ]
     },
     "execution_count": 12,
     "metadata": {
      "tags": []
     },
     "output_type": "execute_result"
    }
   ],
   "source": [
    "train_15.head()     ## first 5 records of the data"
   ]
  },
  {
   "cell_type": "code",
   "execution_count": 0,
   "metadata": {
    "colab": {},
    "colab_type": "code",
    "id": "E7yxJxFnviXS"
   },
   "outputs": [],
   "source": [
    "train_15['locationId']=train_15['locationId'].apply(lambda x: x.strip('location_'))    ## removing the string part from location and item column\n",
    "train_15['item_id']= train_15['item_id'].apply(lambda x: x.strip('item_'))"
   ]
  },
  {
   "cell_type": "code",
   "execution_count": 0,
   "metadata": {
    "colab": {},
    "colab_type": "code",
    "id": "PgQrQRyHpHLE"
   },
   "outputs": [],
   "source": [
    "train_15['day']= train_15['date'].dt.day                   ## extracting day,month,year from the date as feature engineering step.\n",
    "train_15['month']= train_15['date'].dt.month\n",
    "train_15['year']=train_15['date'].dt.year"
   ]
  },
  {
   "cell_type": "code",
   "execution_count": 0,
   "metadata": {
    "colab": {
     "base_uri": "https://localhost:8080/",
     "height": 195
    },
    "colab_type": "code",
    "id": "1VDJic7Qvul2",
    "outputId": "bf49bc7e-871d-4091-fd23-676c418896c6"
   },
   "outputs": [
    {
     "data": {
      "text/html": [
       "<div>\n",
       "<style scoped>\n",
       "    .dataframe tbody tr th:only-of-type {\n",
       "        vertical-align: middle;\n",
       "    }\n",
       "\n",
       "    .dataframe tbody tr th {\n",
       "        vertical-align: top;\n",
       "    }\n",
       "\n",
       "    .dataframe thead th {\n",
       "        text-align: right;\n",
       "    }\n",
       "</style>\n",
       "<table border=\"1\" class=\"dataframe\">\n",
       "  <thead>\n",
       "    <tr style=\"text-align: right;\">\n",
       "      <th></th>\n",
       "      <th>date</th>\n",
       "      <th>locationId</th>\n",
       "      <th>item_id</th>\n",
       "      <th>unit_sales</th>\n",
       "      <th>onpromotion</th>\n",
       "      <th>day</th>\n",
       "      <th>month</th>\n",
       "      <th>year</th>\n",
       "    </tr>\n",
       "  </thead>\n",
       "  <tbody>\n",
       "    <tr>\n",
       "      <th>0</th>\n",
       "      <td>2015-01-01</td>\n",
       "      <td>25</td>\n",
       "      <td>103665</td>\n",
       "      <td>7.0</td>\n",
       "      <td>NaN</td>\n",
       "      <td>1</td>\n",
       "      <td>1</td>\n",
       "      <td>2015</td>\n",
       "    </tr>\n",
       "    <tr>\n",
       "      <th>1</th>\n",
       "      <td>2015-01-01</td>\n",
       "      <td>25</td>\n",
       "      <td>105574</td>\n",
       "      <td>1.0</td>\n",
       "      <td>NaN</td>\n",
       "      <td>1</td>\n",
       "      <td>1</td>\n",
       "      <td>2015</td>\n",
       "    </tr>\n",
       "    <tr>\n",
       "      <th>2</th>\n",
       "      <td>2015-01-01</td>\n",
       "      <td>25</td>\n",
       "      <td>105575</td>\n",
       "      <td>2.0</td>\n",
       "      <td>NaN</td>\n",
       "      <td>1</td>\n",
       "      <td>1</td>\n",
       "      <td>2015</td>\n",
       "    </tr>\n",
       "    <tr>\n",
       "      <th>3</th>\n",
       "      <td>2015-01-01</td>\n",
       "      <td>25</td>\n",
       "      <td>108079</td>\n",
       "      <td>1.0</td>\n",
       "      <td>NaN</td>\n",
       "      <td>1</td>\n",
       "      <td>1</td>\n",
       "      <td>2015</td>\n",
       "    </tr>\n",
       "    <tr>\n",
       "      <th>4</th>\n",
       "      <td>2015-01-01</td>\n",
       "      <td>25</td>\n",
       "      <td>108701</td>\n",
       "      <td>1.0</td>\n",
       "      <td>NaN</td>\n",
       "      <td>1</td>\n",
       "      <td>1</td>\n",
       "      <td>2015</td>\n",
       "    </tr>\n",
       "  </tbody>\n",
       "</table>\n",
       "</div>"
      ],
      "text/plain": [
       "        date locationId item_id  unit_sales onpromotion  day  month  year\n",
       "0 2015-01-01         25  103665         7.0         NaN    1      1  2015\n",
       "1 2015-01-01         25  105574         1.0         NaN    1      1  2015\n",
       "2 2015-01-01         25  105575         2.0         NaN    1      1  2015\n",
       "3 2015-01-01         25  108079         1.0         NaN    1      1  2015\n",
       "4 2015-01-01         25  108701         1.0         NaN    1      1  2015"
      ]
     },
     "execution_count": 57,
     "metadata": {
      "tags": []
     },
     "output_type": "execute_result"
    }
   ],
   "source": [
    "train_15.head()     ## data after feature engineering the date column"
   ]
  },
  {
   "cell_type": "code",
   "execution_count": 0,
   "metadata": {
    "colab": {},
    "colab_type": "code",
    "id": "cs2s2643pHUT"
   },
   "outputs": [],
   "source": [
    "true = train_15[train_15['onpromotion'] == True].sort_values(by = ['date']).reset_index()  ## sorting out the promotions present in 4 yrs data"
   ]
  },
  {
   "cell_type": "code",
   "execution_count": 0,
   "metadata": {
    "colab": {},
    "colab_type": "code",
    "id": "kn5H4ZkzpHSX"
   },
   "outputs": [],
   "source": [
    "false = train_15[train_15['onpromotion'] == False].sort_values(by = ['date']).reset_index() ## sorting out 4 yrs data which has no promotions"
   ]
  },
  {
   "cell_type": "code",
   "execution_count": 0,
   "metadata": {
    "colab": {
     "base_uri": "https://localhost:8080/",
     "height": 34
    },
    "colab_type": "code",
    "id": "2VEWFeK1pHQC",
    "outputId": "f80b7308-59c3-4ad9-8f04-367083df489d"
   },
   "outputs": [
    {
     "data": {
      "text/plain": [
       "{2017, 2018}"
      ]
     },
     "execution_count": 51,
     "metadata": {
      "tags": []
     },
     "output_type": "execute_result"
    }
   ],
   "source": [
    "set(false['date'].dt.year)      ## to check which year has false in onpromotion column"
   ]
  },
  {
   "cell_type": "code",
   "execution_count": 0,
   "metadata": {
    "colab": {
     "base_uri": "https://localhost:8080/",
     "height": 34
    },
    "colab_type": "code",
    "id": "Fg_v8wW2pHNt",
    "outputId": "6052e231-acd5-4ecd-d6c6-1009b2ccaf49"
   },
   "outputs": [
    {
     "data": {
      "text/plain": [
       "{2017, 2018}"
      ]
     },
     "execution_count": 52,
     "metadata": {
      "tags": []
     },
     "output_type": "execute_result"
    }
   ],
   "source": [
    "set(true['date'].dt.year)      ## to check which year has true in onpromotion column"
   ]
  },
  {
   "cell_type": "code",
   "execution_count": 0,
   "metadata": {
    "colab": {},
    "colab_type": "code",
    "id": "ilTWGvUVpHHl"
   },
   "outputs": [],
   "source": [
    "train_17_18= train_15[(train['date'] >= '2017-01-01') & (train['date'] <= '2017-01-15')       ## so, now considering the first 15 days of 2017 and 2018 data which is sufficient for my predictions.\n",
    "                   | (train['date'] >= '2018-01-01') & (train['date'] <= '2018-01-15')]"
   ]
  },
  {
   "cell_type": "code",
   "execution_count": 0,
   "metadata": {
    "colab": {
     "base_uri": "https://localhost:8080/",
     "height": 195
    },
    "colab_type": "code",
    "id": "YXlsREwUpHFU",
    "outputId": "44055ece-4d89-4f73-92e2-672cee60aa2e"
   },
   "outputs": [
    {
     "data": {
      "text/html": [
       "<div>\n",
       "<style scoped>\n",
       "    .dataframe tbody tr th:only-of-type {\n",
       "        vertical-align: middle;\n",
       "    }\n",
       "\n",
       "    .dataframe tbody tr th {\n",
       "        vertical-align: top;\n",
       "    }\n",
       "\n",
       "    .dataframe thead th {\n",
       "        text-align: right;\n",
       "    }\n",
       "</style>\n",
       "<table border=\"1\" class=\"dataframe\">\n",
       "  <thead>\n",
       "    <tr style=\"text-align: right;\">\n",
       "      <th></th>\n",
       "      <th>date</th>\n",
       "      <th>locationId</th>\n",
       "      <th>item_id</th>\n",
       "      <th>unit_sales</th>\n",
       "      <th>onpromotion</th>\n",
       "      <th>day</th>\n",
       "      <th>month</th>\n",
       "      <th>year</th>\n",
       "    </tr>\n",
       "  </thead>\n",
       "  <tbody>\n",
       "    <tr>\n",
       "      <th>38594264</th>\n",
       "      <td>2017-01-01</td>\n",
       "      <td>25</td>\n",
       "      <td>103665</td>\n",
       "      <td>12.0</td>\n",
       "      <td>False</td>\n",
       "      <td>1</td>\n",
       "      <td>1</td>\n",
       "      <td>2017</td>\n",
       "    </tr>\n",
       "    <tr>\n",
       "      <th>38594265</th>\n",
       "      <td>2017-01-01</td>\n",
       "      <td>25</td>\n",
       "      <td>105575</td>\n",
       "      <td>23.0</td>\n",
       "      <td>False</td>\n",
       "      <td>1</td>\n",
       "      <td>1</td>\n",
       "      <td>2017</td>\n",
       "    </tr>\n",
       "    <tr>\n",
       "      <th>38594266</th>\n",
       "      <td>2017-01-01</td>\n",
       "      <td>25</td>\n",
       "      <td>108634</td>\n",
       "      <td>1.0</td>\n",
       "      <td>False</td>\n",
       "      <td>1</td>\n",
       "      <td>1</td>\n",
       "      <td>2017</td>\n",
       "    </tr>\n",
       "    <tr>\n",
       "      <th>38594267</th>\n",
       "      <td>2017-01-01</td>\n",
       "      <td>25</td>\n",
       "      <td>108698</td>\n",
       "      <td>6.0</td>\n",
       "      <td>False</td>\n",
       "      <td>1</td>\n",
       "      <td>1</td>\n",
       "      <td>2017</td>\n",
       "    </tr>\n",
       "    <tr>\n",
       "      <th>38594268</th>\n",
       "      <td>2017-01-01</td>\n",
       "      <td>25</td>\n",
       "      <td>108786</td>\n",
       "      <td>6.0</td>\n",
       "      <td>False</td>\n",
       "      <td>1</td>\n",
       "      <td>1</td>\n",
       "      <td>2017</td>\n",
       "    </tr>\n",
       "  </tbody>\n",
       "</table>\n",
       "</div>"
      ],
      "text/plain": [
       "               date locationId item_id  ...  day month  year\n",
       "38594264 2017-01-01         25  103665  ...    1     1  2017\n",
       "38594265 2017-01-01         25  105575  ...    1     1  2017\n",
       "38594266 2017-01-01         25  108634  ...    1     1  2017\n",
       "38594267 2017-01-01         25  108698  ...    1     1  2017\n",
       "38594268 2017-01-01         25  108786  ...    1     1  2017\n",
       "\n",
       "[5 rows x 8 columns]"
      ]
     },
     "execution_count": 61,
     "metadata": {
      "tags": []
     },
     "output_type": "execute_result"
    }
   ],
   "source": [
    "train_17_18.head()   ## after subsetting the data the first five records of it"
   ]
  },
  {
   "cell_type": "code",
   "execution_count": 0,
   "metadata": {
    "colab": {},
    "colab_type": "code",
    "id": "DNOQWIX3pHCy"
   },
   "outputs": [],
   "source": [
    "pickle_out= open('train_17_18.pickle','wb')                ## pickle to save the data in a file\n",
    "pickle.dump(train_data,pickle_out)\n",
    "pickle_out.close()"
   ]
  },
  {
   "cell_type": "code",
   "execution_count": 0,
   "metadata": {
    "colab": {},
    "colab_type": "code",
    "id": "C44VCA5KpHAc"
   },
   "outputs": [],
   "source": [
    "pickle_in= open('train_17_18.pickle','rb')          ## read the pickle file to work on previously saved file.\n",
    "train_data= pickle.load(pickle_in)"
   ]
  },
  {
   "cell_type": "code",
   "execution_count": 0,
   "metadata": {
    "colab": {},
    "colab_type": "code",
    "id": "c-CGaDk33fKE"
   },
   "outputs": [],
   "source": [
    "pickle_in= open('/content/drive/My Drive/PHD/location.pickle','rb')    ## read the pickle file to work on previously saved file.\n",
    "location_data= pickle.load(pickle_in)"
   ]
  },
  {
   "cell_type": "code",
   "execution_count": 0,
   "metadata": {
    "colab": {},
    "colab_type": "code",
    "id": "YGumbyO0Ho6r"
   },
   "outputs": [],
   "source": [
    "pickle_in= open('/content/drive/My Drive/PHD/test.pickle','rb')    ## read the pickle file to work on previously saved file.\n",
    "test_data= pickle.load(pickle_in)"
   ]
  },
  {
   "cell_type": "code",
   "execution_count": 0,
   "metadata": {
    "colab": {
     "base_uri": "https://localhost:8080/",
     "height": 195
    },
    "colab_type": "code",
    "id": "bGtUEClV3bJa",
    "outputId": "d359fb5d-64e0-4559-e75a-e18780ec6a4f"
   },
   "outputs": [
    {
     "data": {
      "text/html": [
       "<div>\n",
       "<style scoped>\n",
       "    .dataframe tbody tr th:only-of-type {\n",
       "        vertical-align: middle;\n",
       "    }\n",
       "\n",
       "    .dataframe tbody tr th {\n",
       "        vertical-align: top;\n",
       "    }\n",
       "\n",
       "    .dataframe thead th {\n",
       "        text-align: right;\n",
       "    }\n",
       "</style>\n",
       "<table border=\"1\" class=\"dataframe\">\n",
       "  <thead>\n",
       "    <tr style=\"text-align: right;\">\n",
       "      <th></th>\n",
       "      <th>date</th>\n",
       "      <th>locationId</th>\n",
       "      <th>item_id</th>\n",
       "      <th>unit_sales</th>\n",
       "      <th>onpromotion</th>\n",
       "      <th>day</th>\n",
       "      <th>month</th>\n",
       "      <th>year</th>\n",
       "    </tr>\n",
       "  </thead>\n",
       "  <tbody>\n",
       "    <tr>\n",
       "      <th>38594264</th>\n",
       "      <td>2017-01-01</td>\n",
       "      <td>25</td>\n",
       "      <td>103665</td>\n",
       "      <td>12.0</td>\n",
       "      <td>False</td>\n",
       "      <td>1</td>\n",
       "      <td>1</td>\n",
       "      <td>2017</td>\n",
       "    </tr>\n",
       "    <tr>\n",
       "      <th>38594265</th>\n",
       "      <td>2017-01-01</td>\n",
       "      <td>25</td>\n",
       "      <td>105575</td>\n",
       "      <td>23.0</td>\n",
       "      <td>False</td>\n",
       "      <td>1</td>\n",
       "      <td>1</td>\n",
       "      <td>2017</td>\n",
       "    </tr>\n",
       "    <tr>\n",
       "      <th>38594266</th>\n",
       "      <td>2017-01-01</td>\n",
       "      <td>25</td>\n",
       "      <td>108634</td>\n",
       "      <td>1.0</td>\n",
       "      <td>False</td>\n",
       "      <td>1</td>\n",
       "      <td>1</td>\n",
       "      <td>2017</td>\n",
       "    </tr>\n",
       "    <tr>\n",
       "      <th>38594267</th>\n",
       "      <td>2017-01-01</td>\n",
       "      <td>25</td>\n",
       "      <td>108698</td>\n",
       "      <td>6.0</td>\n",
       "      <td>False</td>\n",
       "      <td>1</td>\n",
       "      <td>1</td>\n",
       "      <td>2017</td>\n",
       "    </tr>\n",
       "    <tr>\n",
       "      <th>38594268</th>\n",
       "      <td>2017-01-01</td>\n",
       "      <td>25</td>\n",
       "      <td>108786</td>\n",
       "      <td>6.0</td>\n",
       "      <td>False</td>\n",
       "      <td>1</td>\n",
       "      <td>1</td>\n",
       "      <td>2017</td>\n",
       "    </tr>\n",
       "  </tbody>\n",
       "</table>\n",
       "</div>"
      ],
      "text/plain": [
       "               date locationId item_id  ...  day month  year\n",
       "38594264 2017-01-01         25  103665  ...    1     1  2017\n",
       "38594265 2017-01-01         25  105575  ...    1     1  2017\n",
       "38594266 2017-01-01         25  108634  ...    1     1  2017\n",
       "38594267 2017-01-01         25  108698  ...    1     1  2017\n",
       "38594268 2017-01-01         25  108786  ...    1     1  2017\n",
       "\n",
       "[5 rows x 8 columns]"
      ]
     },
     "execution_count": 12,
     "metadata": {
      "tags": []
     },
     "output_type": "execute_result"
    }
   ],
   "source": [
    "train_data.head()     ## read the first five records of data"
   ]
  },
  {
   "cell_type": "code",
   "execution_count": 0,
   "metadata": {
    "colab": {
     "base_uri": "https://localhost:8080/",
     "height": 195
    },
    "colab_type": "code",
    "id": "gYDRr1MHHvGI",
    "outputId": "e0775b72-a46b-4880-fcba-bb64219ea595"
   },
   "outputs": [
    {
     "data": {
      "text/html": [
       "<div>\n",
       "<style scoped>\n",
       "    .dataframe tbody tr th:only-of-type {\n",
       "        vertical-align: middle;\n",
       "    }\n",
       "\n",
       "    .dataframe tbody tr th {\n",
       "        vertical-align: top;\n",
       "    }\n",
       "\n",
       "    .dataframe thead th {\n",
       "        text-align: right;\n",
       "    }\n",
       "</style>\n",
       "<table border=\"1\" class=\"dataframe\">\n",
       "  <thead>\n",
       "    <tr style=\"text-align: right;\">\n",
       "      <th></th>\n",
       "      <th>id</th>\n",
       "      <th>date</th>\n",
       "      <th>locationId</th>\n",
       "      <th>item_id</th>\n",
       "      <th>onpromotion</th>\n",
       "      <th>day</th>\n",
       "      <th>month</th>\n",
       "      <th>year</th>\n",
       "    </tr>\n",
       "  </thead>\n",
       "  <tbody>\n",
       "    <tr>\n",
       "      <th>0</th>\n",
       "      <td>0</td>\n",
       "      <td>2019-01-01</td>\n",
       "      <td>25</td>\n",
       "      <td>99197</td>\n",
       "      <td>False</td>\n",
       "      <td>1</td>\n",
       "      <td>1</td>\n",
       "      <td>2019</td>\n",
       "    </tr>\n",
       "    <tr>\n",
       "      <th>1</th>\n",
       "      <td>1</td>\n",
       "      <td>2019-01-01</td>\n",
       "      <td>25</td>\n",
       "      <td>103665</td>\n",
       "      <td>False</td>\n",
       "      <td>1</td>\n",
       "      <td>1</td>\n",
       "      <td>2019</td>\n",
       "    </tr>\n",
       "    <tr>\n",
       "      <th>2</th>\n",
       "      <td>2</td>\n",
       "      <td>2019-01-01</td>\n",
       "      <td>25</td>\n",
       "      <td>105574</td>\n",
       "      <td>False</td>\n",
       "      <td>1</td>\n",
       "      <td>1</td>\n",
       "      <td>2019</td>\n",
       "    </tr>\n",
       "    <tr>\n",
       "      <th>3</th>\n",
       "      <td>3</td>\n",
       "      <td>2019-01-01</td>\n",
       "      <td>25</td>\n",
       "      <td>105857</td>\n",
       "      <td>False</td>\n",
       "      <td>1</td>\n",
       "      <td>1</td>\n",
       "      <td>2019</td>\n",
       "    </tr>\n",
       "    <tr>\n",
       "      <th>4</th>\n",
       "      <td>4</td>\n",
       "      <td>2019-01-01</td>\n",
       "      <td>25</td>\n",
       "      <td>106716</td>\n",
       "      <td>False</td>\n",
       "      <td>1</td>\n",
       "      <td>1</td>\n",
       "      <td>2019</td>\n",
       "    </tr>\n",
       "  </tbody>\n",
       "</table>\n",
       "</div>"
      ],
      "text/plain": [
       "   id       date locationId item_id onpromotion  day  month  year\n",
       "0   0 2019-01-01         25   99197       False    1      1  2019\n",
       "1   1 2019-01-01         25  103665       False    1      1  2019\n",
       "2   2 2019-01-01         25  105574       False    1      1  2019\n",
       "3   3 2019-01-01         25  105857       False    1      1  2019\n",
       "4   4 2019-01-01         25  106716       False    1      1  2019"
      ]
     },
     "execution_count": 14,
     "metadata": {
      "tags": []
     },
     "output_type": "execute_result"
    }
   ],
   "source": [
    "test_data.head()          ## read the first five records of test data"
   ]
  },
  {
   "cell_type": "code",
   "execution_count": 0,
   "metadata": {
    "colab": {
     "base_uri": "https://localhost:8080/",
     "height": 195
    },
    "colab_type": "code",
    "id": "_KSisG8m3bHz",
    "outputId": "536cae43-370c-4ce8-80ea-6a5434948647"
   },
   "outputs": [
    {
     "data": {
      "text/html": [
       "<div>\n",
       "<style scoped>\n",
       "    .dataframe tbody tr th:only-of-type {\n",
       "        vertical-align: middle;\n",
       "    }\n",
       "\n",
       "    .dataframe tbody tr th {\n",
       "        vertical-align: top;\n",
       "    }\n",
       "\n",
       "    .dataframe thead th {\n",
       "        text-align: right;\n",
       "    }\n",
       "</style>\n",
       "<table border=\"1\" class=\"dataframe\">\n",
       "  <thead>\n",
       "    <tr style=\"text-align: right;\">\n",
       "      <th></th>\n",
       "      <th>locationId</th>\n",
       "      <th>city</th>\n",
       "      <th>state</th>\n",
       "      <th>type</th>\n",
       "      <th>cluster</th>\n",
       "    </tr>\n",
       "  </thead>\n",
       "  <tbody>\n",
       "    <tr>\n",
       "      <th>0</th>\n",
       "      <td>1</td>\n",
       "      <td>Bengaluru</td>\n",
       "      <td>Karnataka</td>\n",
       "      <td>D</td>\n",
       "      <td>13</td>\n",
       "    </tr>\n",
       "    <tr>\n",
       "      <th>1</th>\n",
       "      <td>2</td>\n",
       "      <td>Bengaluru</td>\n",
       "      <td>Karnataka</td>\n",
       "      <td>D</td>\n",
       "      <td>13</td>\n",
       "    </tr>\n",
       "    <tr>\n",
       "      <th>2</th>\n",
       "      <td>3</td>\n",
       "      <td>Bengaluru</td>\n",
       "      <td>Karnataka</td>\n",
       "      <td>D</td>\n",
       "      <td>8</td>\n",
       "    </tr>\n",
       "    <tr>\n",
       "      <th>3</th>\n",
       "      <td>4</td>\n",
       "      <td>Bengaluru</td>\n",
       "      <td>Karnataka</td>\n",
       "      <td>D</td>\n",
       "      <td>9</td>\n",
       "    </tr>\n",
       "    <tr>\n",
       "      <th>4</th>\n",
       "      <td>5</td>\n",
       "      <td>Delhi</td>\n",
       "      <td>NCR</td>\n",
       "      <td>D</td>\n",
       "      <td>4</td>\n",
       "    </tr>\n",
       "  </tbody>\n",
       "</table>\n",
       "</div>"
      ],
      "text/plain": [
       "  locationId       city      state type  cluster\n",
       "0          1  Bengaluru  Karnataka    D       13\n",
       "1          2  Bengaluru  Karnataka    D       13\n",
       "2          3  Bengaluru  Karnataka    D        8\n",
       "3          4  Bengaluru  Karnataka    D        9\n",
       "4          5      Delhi        NCR    D        4"
      ]
     },
     "execution_count": 15,
     "metadata": {
      "tags": []
     },
     "output_type": "execute_result"
    }
   ],
   "source": [
    "location_data.head()    ## read the first five records of location data"
   ]
  },
  {
   "cell_type": "code",
   "execution_count": 0,
   "metadata": {
    "colab": {},
    "colab_type": "code",
    "id": "L1Vxkdn03bFv"
   },
   "outputs": [],
   "source": [
    "train= train_data.merge(location_data,how='inner',on='locationId')        ## merging the location details to train data for infering from the cluster and type of business units."
   ]
  },
  {
   "cell_type": "code",
   "execution_count": 0,
   "metadata": {
    "colab": {},
    "colab_type": "code",
    "id": "dHDAtpZ4H7Fg"
   },
   "outputs": [],
   "source": [
    "test= test_data.merge(location_data,how='inner',on='locationId')          ## merging the location details to test data for infering from the cluster and business type."
   ]
  },
  {
   "cell_type": "code",
   "execution_count": 0,
   "metadata": {
    "colab": {
     "base_uri": "https://localhost:8080/",
     "height": 195
    },
    "colab_type": "code",
    "id": "jfZhahYD3bDu",
    "outputId": "77707495-d460-41bb-8b12-c52c44bf710b"
   },
   "outputs": [
    {
     "data": {
      "text/html": [
       "<div>\n",
       "<style scoped>\n",
       "    .dataframe tbody tr th:only-of-type {\n",
       "        vertical-align: middle;\n",
       "    }\n",
       "\n",
       "    .dataframe tbody tr th {\n",
       "        vertical-align: top;\n",
       "    }\n",
       "\n",
       "    .dataframe thead th {\n",
       "        text-align: right;\n",
       "    }\n",
       "</style>\n",
       "<table border=\"1\" class=\"dataframe\">\n",
       "  <thead>\n",
       "    <tr style=\"text-align: right;\">\n",
       "      <th></th>\n",
       "      <th>date</th>\n",
       "      <th>locationId</th>\n",
       "      <th>item_id</th>\n",
       "      <th>unit_sales</th>\n",
       "      <th>onpromotion</th>\n",
       "      <th>day</th>\n",
       "      <th>month</th>\n",
       "      <th>year</th>\n",
       "      <th>city</th>\n",
       "      <th>state</th>\n",
       "      <th>type</th>\n",
       "      <th>cluster</th>\n",
       "    </tr>\n",
       "  </thead>\n",
       "  <tbody>\n",
       "    <tr>\n",
       "      <th>0</th>\n",
       "      <td>2017-01-01</td>\n",
       "      <td>25</td>\n",
       "      <td>103665</td>\n",
       "      <td>12.0</td>\n",
       "      <td>False</td>\n",
       "      <td>1</td>\n",
       "      <td>1</td>\n",
       "      <td>2017</td>\n",
       "      <td>Kanpur</td>\n",
       "      <td>Uttar Pradesh</td>\n",
       "      <td>D</td>\n",
       "      <td>1</td>\n",
       "    </tr>\n",
       "    <tr>\n",
       "      <th>1</th>\n",
       "      <td>2017-01-01</td>\n",
       "      <td>25</td>\n",
       "      <td>105575</td>\n",
       "      <td>23.0</td>\n",
       "      <td>False</td>\n",
       "      <td>1</td>\n",
       "      <td>1</td>\n",
       "      <td>2017</td>\n",
       "      <td>Kanpur</td>\n",
       "      <td>Uttar Pradesh</td>\n",
       "      <td>D</td>\n",
       "      <td>1</td>\n",
       "    </tr>\n",
       "    <tr>\n",
       "      <th>2</th>\n",
       "      <td>2017-01-01</td>\n",
       "      <td>25</td>\n",
       "      <td>108634</td>\n",
       "      <td>1.0</td>\n",
       "      <td>False</td>\n",
       "      <td>1</td>\n",
       "      <td>1</td>\n",
       "      <td>2017</td>\n",
       "      <td>Kanpur</td>\n",
       "      <td>Uttar Pradesh</td>\n",
       "      <td>D</td>\n",
       "      <td>1</td>\n",
       "    </tr>\n",
       "    <tr>\n",
       "      <th>3</th>\n",
       "      <td>2017-01-01</td>\n",
       "      <td>25</td>\n",
       "      <td>108698</td>\n",
       "      <td>6.0</td>\n",
       "      <td>False</td>\n",
       "      <td>1</td>\n",
       "      <td>1</td>\n",
       "      <td>2017</td>\n",
       "      <td>Kanpur</td>\n",
       "      <td>Uttar Pradesh</td>\n",
       "      <td>D</td>\n",
       "      <td>1</td>\n",
       "    </tr>\n",
       "    <tr>\n",
       "      <th>4</th>\n",
       "      <td>2017-01-01</td>\n",
       "      <td>25</td>\n",
       "      <td>108786</td>\n",
       "      <td>6.0</td>\n",
       "      <td>False</td>\n",
       "      <td>1</td>\n",
       "      <td>1</td>\n",
       "      <td>2017</td>\n",
       "      <td>Kanpur</td>\n",
       "      <td>Uttar Pradesh</td>\n",
       "      <td>D</td>\n",
       "      <td>1</td>\n",
       "    </tr>\n",
       "  </tbody>\n",
       "</table>\n",
       "</div>"
      ],
      "text/plain": [
       "        date locationId item_id  ...          state type  cluster\n",
       "0 2017-01-01         25  103665  ...  Uttar Pradesh    D        1\n",
       "1 2017-01-01         25  105575  ...  Uttar Pradesh    D        1\n",
       "2 2017-01-01         25  108634  ...  Uttar Pradesh    D        1\n",
       "3 2017-01-01         25  108698  ...  Uttar Pradesh    D        1\n",
       "4 2017-01-01         25  108786  ...  Uttar Pradesh    D        1\n",
       "\n",
       "[5 rows x 12 columns]"
      ]
     },
     "execution_count": 18,
     "metadata": {
      "tags": []
     },
     "output_type": "execute_result"
    }
   ],
   "source": [
    "train.head()      ## after merging the data read the first five records of train data"
   ]
  },
  {
   "cell_type": "code",
   "execution_count": 0,
   "metadata": {
    "colab": {
     "base_uri": "https://localhost:8080/",
     "height": 195
    },
    "colab_type": "code",
    "id": "GXJCTPsrIB1K",
    "outputId": "f0c242a4-544b-4444-ff40-6048fd671d5a"
   },
   "outputs": [
    {
     "data": {
      "text/html": [
       "<div>\n",
       "<style scoped>\n",
       "    .dataframe tbody tr th:only-of-type {\n",
       "        vertical-align: middle;\n",
       "    }\n",
       "\n",
       "    .dataframe tbody tr th {\n",
       "        vertical-align: top;\n",
       "    }\n",
       "\n",
       "    .dataframe thead th {\n",
       "        text-align: right;\n",
       "    }\n",
       "</style>\n",
       "<table border=\"1\" class=\"dataframe\">\n",
       "  <thead>\n",
       "    <tr style=\"text-align: right;\">\n",
       "      <th></th>\n",
       "      <th>id</th>\n",
       "      <th>date</th>\n",
       "      <th>locationId</th>\n",
       "      <th>item_id</th>\n",
       "      <th>onpromotion</th>\n",
       "      <th>day</th>\n",
       "      <th>month</th>\n",
       "      <th>year</th>\n",
       "      <th>city</th>\n",
       "      <th>state</th>\n",
       "      <th>type</th>\n",
       "      <th>cluster</th>\n",
       "    </tr>\n",
       "  </thead>\n",
       "  <tbody>\n",
       "    <tr>\n",
       "      <th>0</th>\n",
       "      <td>0</td>\n",
       "      <td>2019-01-01</td>\n",
       "      <td>25</td>\n",
       "      <td>99197</td>\n",
       "      <td>False</td>\n",
       "      <td>1</td>\n",
       "      <td>1</td>\n",
       "      <td>2019</td>\n",
       "      <td>Kanpur</td>\n",
       "      <td>Uttar Pradesh</td>\n",
       "      <td>D</td>\n",
       "      <td>1</td>\n",
       "    </tr>\n",
       "    <tr>\n",
       "      <th>1</th>\n",
       "      <td>1</td>\n",
       "      <td>2019-01-01</td>\n",
       "      <td>25</td>\n",
       "      <td>103665</td>\n",
       "      <td>False</td>\n",
       "      <td>1</td>\n",
       "      <td>1</td>\n",
       "      <td>2019</td>\n",
       "      <td>Kanpur</td>\n",
       "      <td>Uttar Pradesh</td>\n",
       "      <td>D</td>\n",
       "      <td>1</td>\n",
       "    </tr>\n",
       "    <tr>\n",
       "      <th>2</th>\n",
       "      <td>2</td>\n",
       "      <td>2019-01-01</td>\n",
       "      <td>25</td>\n",
       "      <td>105574</td>\n",
       "      <td>False</td>\n",
       "      <td>1</td>\n",
       "      <td>1</td>\n",
       "      <td>2019</td>\n",
       "      <td>Kanpur</td>\n",
       "      <td>Uttar Pradesh</td>\n",
       "      <td>D</td>\n",
       "      <td>1</td>\n",
       "    </tr>\n",
       "    <tr>\n",
       "      <th>3</th>\n",
       "      <td>3</td>\n",
       "      <td>2019-01-01</td>\n",
       "      <td>25</td>\n",
       "      <td>105857</td>\n",
       "      <td>False</td>\n",
       "      <td>1</td>\n",
       "      <td>1</td>\n",
       "      <td>2019</td>\n",
       "      <td>Kanpur</td>\n",
       "      <td>Uttar Pradesh</td>\n",
       "      <td>D</td>\n",
       "      <td>1</td>\n",
       "    </tr>\n",
       "    <tr>\n",
       "      <th>4</th>\n",
       "      <td>4</td>\n",
       "      <td>2019-01-01</td>\n",
       "      <td>25</td>\n",
       "      <td>106716</td>\n",
       "      <td>False</td>\n",
       "      <td>1</td>\n",
       "      <td>1</td>\n",
       "      <td>2019</td>\n",
       "      <td>Kanpur</td>\n",
       "      <td>Uttar Pradesh</td>\n",
       "      <td>D</td>\n",
       "      <td>1</td>\n",
       "    </tr>\n",
       "  </tbody>\n",
       "</table>\n",
       "</div>"
      ],
      "text/plain": [
       "   id       date locationId item_id  ...    city          state  type  cluster\n",
       "0   0 2019-01-01         25   99197  ...  Kanpur  Uttar Pradesh     D        1\n",
       "1   1 2019-01-01         25  103665  ...  Kanpur  Uttar Pradesh     D        1\n",
       "2   2 2019-01-01         25  105574  ...  Kanpur  Uttar Pradesh     D        1\n",
       "3   3 2019-01-01         25  105857  ...  Kanpur  Uttar Pradesh     D        1\n",
       "4   4 2019-01-01         25  106716  ...  Kanpur  Uttar Pradesh     D        1\n",
       "\n",
       "[5 rows x 12 columns]"
      ]
     },
     "execution_count": 19,
     "metadata": {
      "tags": []
     },
     "output_type": "execute_result"
    }
   ],
   "source": [
    "test.head()         ## after merging the data read the first five records of test data"
   ]
  },
  {
   "cell_type": "code",
   "execution_count": 0,
   "metadata": {
    "colab": {},
    "colab_type": "code",
    "id": "LksEYk0r3bBt"
   },
   "outputs": [],
   "source": [
    "train= train.drop(['date','city','state','type'],axis=1)      ## drop the unnecessary columns from the train data"
   ]
  },
  {
   "cell_type": "code",
   "execution_count": 0,
   "metadata": {
    "colab": {},
    "colab_type": "code",
    "id": "ut1rXw4SIGj1"
   },
   "outputs": [],
   "source": [
    "test= test.drop(['date','city','state','type','id'],axis=1)     ## drop the unnecessary columns from the test data"
   ]
  },
  {
   "cell_type": "code",
   "execution_count": 0,
   "metadata": {
    "colab": {
     "base_uri": "https://localhost:8080/",
     "height": 195
    },
    "colab_type": "code",
    "id": "h4ln0nhh3a-o",
    "outputId": "090e3492-dc9a-400c-bfd6-4a911710a8e8"
   },
   "outputs": [
    {
     "data": {
      "text/html": [
       "<div>\n",
       "<style scoped>\n",
       "    .dataframe tbody tr th:only-of-type {\n",
       "        vertical-align: middle;\n",
       "    }\n",
       "\n",
       "    .dataframe tbody tr th {\n",
       "        vertical-align: top;\n",
       "    }\n",
       "\n",
       "    .dataframe thead th {\n",
       "        text-align: right;\n",
       "    }\n",
       "</style>\n",
       "<table border=\"1\" class=\"dataframe\">\n",
       "  <thead>\n",
       "    <tr style=\"text-align: right;\">\n",
       "      <th></th>\n",
       "      <th>locationId</th>\n",
       "      <th>item_id</th>\n",
       "      <th>unit_sales</th>\n",
       "      <th>onpromotion</th>\n",
       "      <th>day</th>\n",
       "      <th>month</th>\n",
       "      <th>year</th>\n",
       "      <th>cluster</th>\n",
       "    </tr>\n",
       "  </thead>\n",
       "  <tbody>\n",
       "    <tr>\n",
       "      <th>0</th>\n",
       "      <td>25</td>\n",
       "      <td>103665</td>\n",
       "      <td>12.0</td>\n",
       "      <td>False</td>\n",
       "      <td>1</td>\n",
       "      <td>1</td>\n",
       "      <td>2017</td>\n",
       "      <td>1</td>\n",
       "    </tr>\n",
       "    <tr>\n",
       "      <th>1</th>\n",
       "      <td>25</td>\n",
       "      <td>105575</td>\n",
       "      <td>23.0</td>\n",
       "      <td>False</td>\n",
       "      <td>1</td>\n",
       "      <td>1</td>\n",
       "      <td>2017</td>\n",
       "      <td>1</td>\n",
       "    </tr>\n",
       "    <tr>\n",
       "      <th>2</th>\n",
       "      <td>25</td>\n",
       "      <td>108634</td>\n",
       "      <td>1.0</td>\n",
       "      <td>False</td>\n",
       "      <td>1</td>\n",
       "      <td>1</td>\n",
       "      <td>2017</td>\n",
       "      <td>1</td>\n",
       "    </tr>\n",
       "    <tr>\n",
       "      <th>3</th>\n",
       "      <td>25</td>\n",
       "      <td>108698</td>\n",
       "      <td>6.0</td>\n",
       "      <td>False</td>\n",
       "      <td>1</td>\n",
       "      <td>1</td>\n",
       "      <td>2017</td>\n",
       "      <td>1</td>\n",
       "    </tr>\n",
       "    <tr>\n",
       "      <th>4</th>\n",
       "      <td>25</td>\n",
       "      <td>108786</td>\n",
       "      <td>6.0</td>\n",
       "      <td>False</td>\n",
       "      <td>1</td>\n",
       "      <td>1</td>\n",
       "      <td>2017</td>\n",
       "      <td>1</td>\n",
       "    </tr>\n",
       "  </tbody>\n",
       "</table>\n",
       "</div>"
      ],
      "text/plain": [
       "  locationId item_id  unit_sales onpromotion  day  month  year  cluster\n",
       "0         25  103665        12.0       False    1      1  2017        1\n",
       "1         25  105575        23.0       False    1      1  2017        1\n",
       "2         25  108634         1.0       False    1      1  2017        1\n",
       "3         25  108698         6.0       False    1      1  2017        1\n",
       "4         25  108786         6.0       False    1      1  2017        1"
      ]
     },
     "execution_count": 22,
     "metadata": {
      "tags": []
     },
     "output_type": "execute_result"
    }
   ],
   "source": [
    "train.head()      ## after dropping the columns train data"
   ]
  },
  {
   "cell_type": "code",
   "execution_count": 0,
   "metadata": {
    "colab": {
     "base_uri": "https://localhost:8080/",
     "height": 195
    },
    "colab_type": "code",
    "id": "EG2BmQKmIRKO",
    "outputId": "f05e06f2-b411-4c2d-daa4-af15722c7d77"
   },
   "outputs": [
    {
     "data": {
      "text/html": [
       "<div>\n",
       "<style scoped>\n",
       "    .dataframe tbody tr th:only-of-type {\n",
       "        vertical-align: middle;\n",
       "    }\n",
       "\n",
       "    .dataframe tbody tr th {\n",
       "        vertical-align: top;\n",
       "    }\n",
       "\n",
       "    .dataframe thead th {\n",
       "        text-align: right;\n",
       "    }\n",
       "</style>\n",
       "<table border=\"1\" class=\"dataframe\">\n",
       "  <thead>\n",
       "    <tr style=\"text-align: right;\">\n",
       "      <th></th>\n",
       "      <th>locationId</th>\n",
       "      <th>item_id</th>\n",
       "      <th>onpromotion</th>\n",
       "      <th>day</th>\n",
       "      <th>month</th>\n",
       "      <th>year</th>\n",
       "      <th>cluster</th>\n",
       "    </tr>\n",
       "  </thead>\n",
       "  <tbody>\n",
       "    <tr>\n",
       "      <th>0</th>\n",
       "      <td>25</td>\n",
       "      <td>99197</td>\n",
       "      <td>False</td>\n",
       "      <td>1</td>\n",
       "      <td>1</td>\n",
       "      <td>2019</td>\n",
       "      <td>1</td>\n",
       "    </tr>\n",
       "    <tr>\n",
       "      <th>1</th>\n",
       "      <td>25</td>\n",
       "      <td>103665</td>\n",
       "      <td>False</td>\n",
       "      <td>1</td>\n",
       "      <td>1</td>\n",
       "      <td>2019</td>\n",
       "      <td>1</td>\n",
       "    </tr>\n",
       "    <tr>\n",
       "      <th>2</th>\n",
       "      <td>25</td>\n",
       "      <td>105574</td>\n",
       "      <td>False</td>\n",
       "      <td>1</td>\n",
       "      <td>1</td>\n",
       "      <td>2019</td>\n",
       "      <td>1</td>\n",
       "    </tr>\n",
       "    <tr>\n",
       "      <th>3</th>\n",
       "      <td>25</td>\n",
       "      <td>105857</td>\n",
       "      <td>False</td>\n",
       "      <td>1</td>\n",
       "      <td>1</td>\n",
       "      <td>2019</td>\n",
       "      <td>1</td>\n",
       "    </tr>\n",
       "    <tr>\n",
       "      <th>4</th>\n",
       "      <td>25</td>\n",
       "      <td>106716</td>\n",
       "      <td>False</td>\n",
       "      <td>1</td>\n",
       "      <td>1</td>\n",
       "      <td>2019</td>\n",
       "      <td>1</td>\n",
       "    </tr>\n",
       "  </tbody>\n",
       "</table>\n",
       "</div>"
      ],
      "text/plain": [
       "  locationId item_id onpromotion  day  month  year  cluster\n",
       "0         25   99197       False    1      1  2019        1\n",
       "1         25  103665       False    1      1  2019        1\n",
       "2         25  105574       False    1      1  2019        1\n",
       "3         25  105857       False    1      1  2019        1\n",
       "4         25  106716       False    1      1  2019        1"
      ]
     },
     "execution_count": 23,
     "metadata": {
      "tags": []
     },
     "output_type": "execute_result"
    }
   ],
   "source": [
    "test.head()     ## after dropping the columns test data"
   ]
  },
  {
   "cell_type": "code",
   "execution_count": 0,
   "metadata": {
    "colab": {
     "base_uri": "https://localhost:8080/",
     "height": 168
    },
    "colab_type": "code",
    "id": "Az8ndiK-3a7p",
    "outputId": "c5291d54-6442-4dca-9faf-c785b2901025"
   },
   "outputs": [
    {
     "data": {
      "text/plain": [
       "locationId       object\n",
       "item_id        category\n",
       "unit_sales      float64\n",
       "onpromotion    category\n",
       "day               int64\n",
       "month             int64\n",
       "year              int64\n",
       "cluster            int8\n",
       "dtype: object"
      ]
     },
     "execution_count": 24,
     "metadata": {
      "tags": []
     },
     "output_type": "execute_result"
    }
   ],
   "source": [
    "train.dtypes     ## dtypes of train data"
   ]
  },
  {
   "cell_type": "code",
   "execution_count": 0,
   "metadata": {
    "colab": {
     "base_uri": "https://localhost:8080/",
     "height": 151
    },
    "colab_type": "code",
    "id": "Ig3GBiA9IVAH",
    "outputId": "a32acad3-bca7-49f8-89f8-9555d5edd47c"
   },
   "outputs": [
    {
     "data": {
      "text/plain": [
       "locationId       object\n",
       "item_id        category\n",
       "onpromotion    category\n",
       "day               int64\n",
       "month             int64\n",
       "year              int64\n",
       "cluster            int8\n",
       "dtype: object"
      ]
     },
     "execution_count": 25,
     "metadata": {
      "tags": []
     },
     "output_type": "execute_result"
    }
   ],
   "source": [
    "test.dtypes        ## dtypes of test data"
   ]
  },
  {
   "cell_type": "code",
   "execution_count": 0,
   "metadata": {
    "colab": {
     "base_uri": "https://localhost:8080/",
     "height": 34
    },
    "colab_type": "code",
    "id": "HEu1ZfqciRAd",
    "outputId": "1b5c3ea3-0eca-429f-e9ae-411712ee4c5d"
   },
   "outputs": [
    {
     "data": {
      "text/plain": [
       "3443"
      ]
     },
     "execution_count": 18,
     "metadata": {
      "tags": []
     },
     "output_type": "execute_result"
    }
   ],
   "source": [
    "train.item_id.nunique()       ## number of unique item id's in train data"
   ]
  },
  {
   "cell_type": "code",
   "execution_count": 0,
   "metadata": {
    "colab": {
     "base_uri": "https://localhost:8080/",
     "height": 34
    },
    "colab_type": "code",
    "id": "KDCDntT1iXIq",
    "outputId": "3736044e-bf0f-4ee7-aaec-587c0836dda7"
   },
   "outputs": [
    {
     "data": {
      "text/plain": [
       "3828"
      ]
     },
     "execution_count": 19,
     "metadata": {
      "tags": []
     },
     "output_type": "execute_result"
    }
   ],
   "source": [
    "test.item_id.nunique()      ## number of unique item id's in test data"
   ]
  },
  {
   "cell_type": "code",
   "execution_count": 0,
   "metadata": {
    "colab": {},
    "colab_type": "code",
    "id": "cFkKVKKgaxV5"
   },
   "outputs": [],
   "source": [
    "import numpy as np\n",
    "def setdiff_sorted(array1,array2,assume_unique=False):               ## function to detect the items that are not present in the train data\n",
    "    ans = np.setdiff1d(array1,array2,assume_unique).tolist()\n",
    "    if assume_unique:\n",
    "        return sorted(ans)\n",
    "    return ans"
   ]
  },
  {
   "cell_type": "code",
   "execution_count": 0,
   "metadata": {
    "colab": {},
    "colab_type": "code",
    "id": "hhlO8CTua_6X"
   },
   "outputs": [],
   "source": [
    "train_items=train['item_id'].cat.categories.tolist()       ## creating a list of item id's from train and test data\n",
    "test_items=test['item_id'].cat.categories.tolist()          "
   ]
  },
  {
   "cell_type": "code",
   "execution_count": 0,
   "metadata": {
    "colab": {
     "base_uri": "https://localhost:8080/",
     "height": 34
    },
    "colab_type": "code",
    "id": "vNBNswDr_Acx",
    "outputId": "4e4153dd-179e-4bcc-f99c-381b33bfb415"
   },
   "outputs": [
    {
     "name": "stdout",
     "output_type": "stream",
     "text": [
      "items ['2027559', '2043795', '2043849', '2045545']\n"
     ]
    }
   ],
   "source": [
    "items_not_train= setdiff_sorted(test_items,train_items)    ## sorted item id's by using the above function\n",
    "print('items',items_not_train)"
   ]
  },
  {
   "cell_type": "code",
   "execution_count": 0,
   "metadata": {
    "colab": {},
    "colab_type": "code",
    "id": "erhMQDfh_Aak"
   },
   "outputs": [],
   "source": [
    "items_labels=train_items+items_not_train      ## adding the item id's which are not present in the train data."
   ]
  },
  {
   "cell_type": "code",
   "execution_count": 0,
   "metadata": {
    "colab": {},
    "colab_type": "code",
    "id": "U53vm0O8_AW1"
   },
   "outputs": [],
   "source": [
    "encode= list(range(len(items_labels)))        ## by encoding manually items id's are encoded to train items\n",
    "dic_items=dict(zip(items_labels,encode))"
   ]
  },
  {
   "cell_type": "code",
   "execution_count": 0,
   "metadata": {
    "colab": {},
    "colab_type": "code",
    "id": "gYRry1R7_ASd"
   },
   "outputs": [],
   "source": [
    "train['item_id']=train['item_id'].map(dic_items) ## by using map function, mapping the train item id's by dic_items and changing the dtype \n",
    "train['item_id']=train['item_id'].astype('int32')"
   ]
  },
  {
   "cell_type": "code",
   "execution_count": 0,
   "metadata": {
    "colab": {},
    "colab_type": "code",
    "id": "YYjtFchsVFF_"
   },
   "outputs": [],
   "source": [
    "test['item_id']=test['item_id'].map(dic_items)  ## by using the same map function, mapping the test items to dic_items and changing the dtype\n",
    "test['item_id']=test['item_id'].astype('int32')"
   ]
  },
  {
   "cell_type": "code",
   "execution_count": 0,
   "metadata": {
    "colab": {},
    "colab_type": "code",
    "id": "ni_SNHGfBZ75"
   },
   "outputs": [],
   "source": [
    "train['locationId']=train['locationId'].astype('int8') ## changing the dtypes to int8 of both train and test\n",
    "test['locationId']=test['locationId'].astype('int8')"
   ]
  },
  {
   "cell_type": "code",
   "execution_count": 0,
   "metadata": {
    "colab": {},
    "colab_type": "code",
    "id": "Lht4v1v5MJh4"
   },
   "outputs": [],
   "source": [
    "train['year']=train['year'].astype('int16')   ## changing the dtypes to int16 of both train and test\n",
    "test['year']=test['year'].astype('int16')"
   ]
  },
  {
   "cell_type": "code",
   "execution_count": 0,
   "metadata": {
    "colab": {
     "base_uri": "https://localhost:8080/",
     "height": 34
    },
    "colab_type": "code",
    "id": "h2WkCF-RD7rw",
    "outputId": "762a633f-62de-43df-aa1d-e9b18722dfa7"
   },
   "outputs": [
    {
     "data": {
      "text/plain": [
       "Index(['item_id', 'locationId', 'unit_sales', 'year'], dtype='object')"
      ]
     },
     "execution_count": 28,
     "metadata": {
      "tags": []
     },
     "output_type": "execute_result"
    }
   ],
   "source": [
    "cat_cols = ['cluster','day','month','onpromotion']   ## differentiate the categorical and numerical columns of train data\n",
    "num_cols = train.columns.difference(cat_cols)\n",
    "num_cols"
   ]
  },
  {
   "cell_type": "code",
   "execution_count": 0,
   "metadata": {
    "colab": {
     "base_uri": "https://localhost:8080/",
     "height": 34
    },
    "colab_type": "code",
    "id": "4vgQPQwMIIYy",
    "outputId": "28f3fdc9-3d9d-4175-89f5-356962a857c1"
   },
   "outputs": [
    {
     "data": {
      "text/plain": [
       "Index(['item_id', 'locationId', 'year'], dtype='object')"
      ]
     },
     "execution_count": 29,
     "metadata": {
      "tags": []
     },
     "output_type": "execute_result"
    }
   ],
   "source": [
    "cat_cols_test=['cluster','day','month','onpromotion']   ## differentiate the categorical and numerical columns of test data\n",
    "num_cols_test= test.columns.difference(cat_cols_test)\n",
    "num_cols_test"
   ]
  },
  {
   "cell_type": "code",
   "execution_count": 0,
   "metadata": {
    "colab": {
     "base_uri": "https://localhost:8080/",
     "height": 168
    },
    "colab_type": "code",
    "id": "1kOPDO-FD7os",
    "outputId": "cef85f11-5e08-4208-f977-ddff045bda9f"
   },
   "outputs": [
    {
     "data": {
      "text/plain": [
       "locationId         int8\n",
       "item_id           int32\n",
       "unit_sales      float64\n",
       "onpromotion    category\n",
       "day            category\n",
       "month          category\n",
       "year              int16\n",
       "cluster        category\n",
       "dtype: object"
      ]
     },
     "execution_count": 30,
     "metadata": {
      "tags": []
     },
     "output_type": "execute_result"
    }
   ],
   "source": [
    "train[cat_cols] = train[cat_cols].apply(lambda x: x.astype('category'))\n",
    "train.dtypes                                                ## changing the categorical columns to dtype 'category' in train data"
   ]
  },
  {
   "cell_type": "code",
   "execution_count": 0,
   "metadata": {
    "colab": {
     "base_uri": "https://localhost:8080/",
     "height": 151
    },
    "colab_type": "code",
    "id": "IqBtVHSWJ_a0",
    "outputId": "fab878a3-d16b-412a-c5ae-87e3cdb29940"
   },
   "outputs": [
    {
     "data": {
      "text/plain": [
       "locationId         int8\n",
       "item_id           int32\n",
       "onpromotion    category\n",
       "day            category\n",
       "month          category\n",
       "year              int16\n",
       "cluster        category\n",
       "dtype: object"
      ]
     },
     "execution_count": 31,
     "metadata": {
      "tags": []
     },
     "output_type": "execute_result"
    }
   ],
   "source": [
    "test[cat_cols_test]=test[cat_cols_test].apply(lambda x: x.astype('category'))\n",
    "test.dtypes                                         ## changing the categorical columns to dtype 'category' in test data"
   ]
  },
  {
   "cell_type": "code",
   "execution_count": 0,
   "metadata": {
    "colab": {},
    "colab_type": "code",
    "id": "EgsaBcFaHVG2"
   },
   "outputs": [],
   "source": [
    "num_data = train.loc[:,num_cols]      ## converting into dataframes for both categorical and numerical in train data\n",
    "cat_data = train.loc[:,cat_cols]"
   ]
  },
  {
   "cell_type": "code",
   "execution_count": 0,
   "metadata": {
    "colab": {},
    "colab_type": "code",
    "id": "vUVtW5yIKPtG"
   },
   "outputs": [],
   "source": [
    "num_data_test= test.loc[:,num_cols_test]  ## converting into dataframes for both categorical and numerical in test data\n",
    "cat_data_test= test.loc[:,cat_cols_test]"
   ]
  },
  {
   "cell_type": "code",
   "execution_count": 0,
   "metadata": {
    "colab": {},
    "colab_type": "code",
    "id": "BmBp0wBED7l1"
   },
   "outputs": [],
   "source": [
    "## using one hot encoding method convert the categorical columns to dummies in train data\n",
    "cat_data = pd.get_dummies(cat_data,columns=['cluster','day','month','onpromotion'])"
   ]
  },
  {
   "cell_type": "code",
   "execution_count": 0,
   "metadata": {
    "colab": {},
    "colab_type": "code",
    "id": "CkYLYowwKjsH"
   },
   "outputs": [],
   "source": [
    "## using one hot encoding method convert the categorical columns to dummies in test data\n",
    "cat_data_test= pd.get_dummies(cat_data_test,columns=['cluster','day','month','onpromotion'])"
   ]
  },
  {
   "cell_type": "code",
   "execution_count": 0,
   "metadata": {
    "colab": {},
    "colab_type": "code",
    "id": "N53U7YFAAE_2"
   },
   "outputs": [],
   "source": [
    "train = pd.concat([num_data,cat_data],axis=1)      ## merging the num_data and cat_data by using pd.concat for train "
   ]
  },
  {
   "cell_type": "code",
   "execution_count": 0,
   "metadata": {
    "colab": {},
    "colab_type": "code",
    "id": "T0fx98Y4KxCw"
   },
   "outputs": [],
   "source": [
    "test= pd.concat([num_data_test,cat_data_test],axis=1)   ## merging the num_data and cat_data by using pd.concat for test"
   ]
  },
  {
   "cell_type": "code",
   "execution_count": 0,
   "metadata": {
    "colab": {},
    "colab_type": "code",
    "id": "vvNxIKTsCX7Q"
   },
   "outputs": [],
   "source": [
    "pickle_out= open('train_17_18.pickle','wb')     ## pickle to save the data in a file\n",
    "pickle.dump(train,pickle_out)\n",
    "pickle_out.close()"
   ]
  },
  {
   "cell_type": "code",
   "execution_count": 0,
   "metadata": {
    "colab": {},
    "colab_type": "code",
    "id": "8t42BVplCXyJ"
   },
   "outputs": [],
   "source": [
    "pickle_out= open('test_17_18.pickle','wb')      ## pickle to save the data in a file\n",
    "pickle.dump(test,pickle_out)\n",
    "pickle_out.close()"
   ]
  },
  {
   "cell_type": "code",
   "execution_count": 0,
   "metadata": {
    "colab": {},
    "colab_type": "code",
    "id": "jGWO3X9qcr2m"
   },
   "outputs": [],
   "source": [
    "pickle_in= open('train_17_18.pickle','rb')         ## read the pickle file to work on previously saved file.\n",
    "train= pickle.load(pickle_in)"
   ]
  },
  {
   "cell_type": "code",
   "execution_count": 0,
   "metadata": {
    "colab": {},
    "colab_type": "code",
    "id": "4TC1wQfKc2s-"
   },
   "outputs": [],
   "source": [
    "pickle_in= open('test_17_18.pickle','rb')        ## read the pickle file to work on previously saved file.\n",
    "test= pickle.load(pickle_in)"
   ]
  },
  {
   "cell_type": "code",
   "execution_count": 0,
   "metadata": {
    "colab": {
     "base_uri": "https://localhost:8080/",
     "height": 34
    },
    "colab_type": "code",
    "id": "pbsqasB_H9Wj",
    "outputId": "4cfee23c-cce1-43bc-a325-5a7a88c07117"
   },
   "outputs": [
    {
     "data": {
      "text/plain": [
       "(2140880, 39)"
      ]
     },
     "execution_count": 59,
     "metadata": {
      "tags": []
     },
     "output_type": "execute_result"
    }
   ],
   "source": [
    "train.shape   ## check the shape of train"
   ]
  },
  {
   "cell_type": "code",
   "execution_count": 0,
   "metadata": {
    "colab": {
     "base_uri": "https://localhost:8080/",
     "height": 34
    },
    "colab_type": "code",
    "id": "-X2HkZkPK6-k",
    "outputId": "688b84e0-56e1-49d0-bdcc-3fa83cc8a46f"
   },
   "outputs": [
    {
     "data": {
      "text/plain": [
       "(1482295, 38)"
      ]
     },
     "execution_count": 60,
     "metadata": {
      "tags": []
     },
     "output_type": "execute_result"
    }
   ],
   "source": [
    "## check the shape of test\n",
    "test.shape"
   ]
  },
  {
   "cell_type": "code",
   "execution_count": 0,
   "metadata": {
    "colab": {},
    "colab_type": "code",
    "id": "HY_ordPzpG3k"
   },
   "outputs": [],
   "source": [
    "x = train.drop([\"unit_sales\"],axis=1)    ## setting to x and y for train features and train target\n",
    "y = train[\"unit_sales\"]"
   ]
  },
  {
   "cell_type": "code",
   "execution_count": 0,
   "metadata": {
    "colab": {},
    "colab_type": "code",
    "id": "34ZgXr5MpG1N"
   },
   "outputs": [],
   "source": [
    "from sklearn.model_selection import train_test_split      ## using train-test split, splitting the data to train and validation \n",
    "x_train,x_validation,y_train,y_validation= train_test_split(x,y,test_size=0.3,random_state=12)"
   ]
  },
  {
   "cell_type": "code",
   "execution_count": 15,
   "metadata": {
    "colab": {
     "base_uri": "https://localhost:8080/",
     "height": 84
    },
    "colab_type": "code",
    "id": "gzrx4VV4pGzR",
    "outputId": "b32a7fc6-01d9-4844-8485-4626b9288551"
   },
   "outputs": [
    {
     "name": "stdout",
     "output_type": "stream",
     "text": [
      "(1498616, 38)\n",
      "(642264, 38)\n",
      "(1498616,)\n",
      "(642264,)\n"
     ]
    }
   ],
   "source": [
    "print(x_train.shape)\n",
    "print(x_validation.shape)    ## after splitting the data, there respestive shapes\n",
    "print(y_train.shape)\n",
    "print(y_validation.shape)\n"
   ]
  },
  {
   "cell_type": "markdown",
   "metadata": {
    "colab_type": "text",
    "id": "BCJywH46MPyX"
   },
   "source": [
    "## MODEL BULIDING"
   ]
  },
  {
   "cell_type": "markdown",
   "metadata": {
    "colab_type": "text",
    "id": "6wFKmxrzNN-a"
   },
   "source": [
    "### LINEAR REGRESSION"
   ]
  },
  {
   "cell_type": "code",
   "execution_count": 0,
   "metadata": {
    "colab": {
     "base_uri": "https://localhost:8080/",
     "height": 34
    },
    "colab_type": "code",
    "id": "ZQ3KM5ztCfoh",
    "outputId": "483be44e-c768-4746-d7c4-a642b6b4ec3b"
   },
   "outputs": [
    {
     "data": {
      "text/plain": [
       "LinearRegression(copy_X=True, fit_intercept=True, n_jobs=None, normalize=False)"
      ]
     },
     "execution_count": 53,
     "metadata": {
      "tags": []
     },
     "output_type": "execute_result"
    }
   ],
   "source": [
    "from sklearn.linear_model import LinearRegression    ## library for linear regression\n",
    "lrr = LinearRegression()\n",
    "lrr.fit(x_train,y_train)        ## fit the train data into the model"
   ]
  },
  {
   "cell_type": "code",
   "execution_count": 0,
   "metadata": {
    "colab": {},
    "colab_type": "code",
    "id": "S0-X9FjvCfly"
   },
   "outputs": [],
   "source": [
    "y_pred_train_lrr = lrr.predict(x_train)       ## now predict the target variable with the help of fitted data.\n",
    "y_pred_valid_lrr = lrr.predict(x_validation)"
   ]
  },
  {
   "cell_type": "code",
   "execution_count": 0,
   "metadata": {
    "colab": {
     "base_uri": "https://localhost:8080/",
     "height": 34
    },
    "colab_type": "code",
    "id": "m1WjcE2eCfQs",
    "outputId": "64a9ea4c-646f-456f-9e1c-c2259c0cd003"
   },
   "outputs": [
    {
     "name": "stdout",
     "output_type": "stream",
     "text": [
      "221.73917849348067\n"
     ]
    }
   ],
   "source": [
    "mape_train_lrr = np.mean(np.abs((y_train- y_pred_train_lrr)/y_train)*100)     ## mape for train data\n",
    "\n",
    "print(mape_train_lrr)"
   ]
  },
  {
   "cell_type": "code",
   "execution_count": 0,
   "metadata": {
    "colab": {
     "base_uri": "https://localhost:8080/",
     "height": 34
    },
    "colab_type": "code",
    "id": "G_Zkwz2mFCLY",
    "outputId": "02c061a5-a9fb-435e-d742-624e1418c09a"
   },
   "outputs": [
    {
     "name": "stdout",
     "output_type": "stream",
     "text": [
      "222.2292092330473\n"
     ]
    }
   ],
   "source": [
    "mape_test_lrr = np.mean(np.abs((y_validation- y_pred_valid_lrr)/y_validation)*100)  ## mape for validation data\n",
    "\n",
    "print(mape_test_lrr)"
   ]
  },
  {
   "cell_type": "code",
   "execution_count": 0,
   "metadata": {
    "colab": {},
    "colab_type": "code",
    "id": "ykkdz8MmFUK-"
   },
   "outputs": [],
   "source": [
    "y_pred_test_lrr= lrr.predict(test)           ## predicting on the test data"
   ]
  },
  {
   "cell_type": "code",
   "execution_count": 0,
   "metadata": {
    "colab": {},
    "colab_type": "code",
    "id": "xIMBUAnGBJJf"
   },
   "outputs": [],
   "source": [
    "submission= pd.read_csv('/content/drive/My Drive/PHD/sample_submission.csv')  ## importing sample submission file "
   ]
  },
  {
   "cell_type": "code",
   "execution_count": 0,
   "metadata": {
    "colab": {},
    "colab_type": "code",
    "id": "jfomoZMcFmWJ"
   },
   "outputs": [],
   "source": [
    "lrr= pd.DataFrame() ## creating a new dataframe for new predicted variable."
   ]
  },
  {
   "cell_type": "code",
   "execution_count": 0,
   "metadata": {
    "colab": {},
    "colab_type": "code",
    "id": "1KqjyK1QFmTq"
   },
   "outputs": [],
   "source": [
    "lrr['id']=submission['id']\n",
    "lrr['unit_sales']= y_pred_test_lrr         ## subsetting the id and unit_sales features into new dataframe for submission."
   ]
  },
  {
   "cell_type": "code",
   "execution_count": 0,
   "metadata": {
    "colab": {},
    "colab_type": "code",
    "id": "2STSo1DpFmQz"
   },
   "outputs": [],
   "source": [
    "lrr.to_csv('lrr.csv',header=True,index=False)   ## converting into csv for final submission"
   ]
  },
  {
   "cell_type": "markdown",
   "metadata": {
    "colab_type": "text",
    "id": "EBUb_Z2ONTyg"
   },
   "source": [
    "#### as the data is non linear so, it is not able to predict the target  variable and give the accurate MAPE value. As per the problem it is better to go with tree based models.\n",
    "\n",
    "### DECISION TREE REGRESSION"
   ]
  },
  {
   "cell_type": "code",
   "execution_count": 0,
   "metadata": {
    "colab": {
     "base_uri": "https://localhost:8080/",
     "height": 118
    },
    "colab_type": "code",
    "id": "zJVQf1Wclfqo",
    "outputId": "a061c7e6-299a-41aa-b3b6-9634c7a85eb0"
   },
   "outputs": [
    {
     "data": {
      "text/plain": [
       "DecisionTreeRegressor(ccp_alpha=0.0, criterion='mse', max_depth=None,\n",
       "                      max_features=None, max_leaf_nodes=None,\n",
       "                      min_impurity_decrease=0.0, min_impurity_split=None,\n",
       "                      min_samples_leaf=1, min_samples_split=2,\n",
       "                      min_weight_fraction_leaf=0.0, presort='deprecated',\n",
       "                      random_state=143, splitter='best')"
      ]
     },
     "execution_count": 71,
     "metadata": {
      "tags": []
     },
     "output_type": "execute_result"
    }
   ],
   "source": [
    "from sklearn.tree import DecisionTreeRegressor       ## library for decision tree regression\n",
    "decision= DecisionTreeRegressor(random_state=143)\n",
    "decision.fit(x_train,y_train)          ## fit the train data into the model"
   ]
  },
  {
   "cell_type": "code",
   "execution_count": 0,
   "metadata": {
    "colab": {},
    "colab_type": "code",
    "id": "_5nUnwIplfIR"
   },
   "outputs": [],
   "source": [
    "## now predict the target variable with the help of fitted data.\n",
    "y_pred_train_dec = decision.predict(x_train)\n",
    "y_pred_valid_dec = decision.predict(x_validation)"
   ]
  },
  {
   "cell_type": "code",
   "execution_count": 0,
   "metadata": {
    "colab": {
     "base_uri": "https://localhost:8080/",
     "height": 34
    },
    "colab_type": "code",
    "id": "fzxxKYZolt_W",
    "outputId": "f6c6c5df-fe0a-4469-e680-1be654c9c96f"
   },
   "outputs": [
    {
     "name": "stdout",
     "output_type": "stream",
     "text": [
      "0.0\n"
     ]
    }
   ],
   "source": [
    "## mape for train data\n",
    "mape_train = np.mean(np.abs((y_train- y_pred_train_dec)/y_train)*100)\n",
    "\n",
    "print(mape_train)"
   ]
  },
  {
   "cell_type": "code",
   "execution_count": 0,
   "metadata": {
    "colab": {
     "base_uri": "https://localhost:8080/",
     "height": 34
    },
    "colab_type": "code",
    "id": "C1tCwnz4mQXQ",
    "outputId": "d4fadec0-b41c-4def-e28a-8f2df1b5826e"
   },
   "outputs": [
    {
     "name": "stdout",
     "output_type": "stream",
     "text": [
      "124.11857127385538\n"
     ]
    }
   ],
   "source": [
    "## mape for validation data\n",
    "mape_test = np.mean(np.abs((y_validation- y_pred_valid_dec)/y_validation)*100)\n",
    "\n",
    "print(mape_test)"
   ]
  },
  {
   "cell_type": "markdown",
   "metadata": {
    "colab_type": "text",
    "id": "o8H8vCpQmjyg"
   },
   "source": [
    "#### as we can observe that the data is under fitting so try with different parameters by parameter tuning."
   ]
  },
  {
   "cell_type": "markdown",
   "metadata": {
    "colab_type": "text",
    "id": "ysv6rQiZm8mc"
   },
   "source": [
    "## parameter tuning for decision tree Regressor"
   ]
  },
  {
   "cell_type": "code",
   "execution_count": 0,
   "metadata": {
    "colab": {
     "base_uri": "https://localhost:8080/",
     "height": 118
    },
    "colab_type": "code",
    "id": "26l_gd6UpGws",
    "outputId": "f5667370-618f-4505-9a44-22a2cf0dac79"
   },
   "outputs": [
    {
     "data": {
      "text/plain": [
       "DecisionTreeRegressor(ccp_alpha=0.0, criterion='mse', max_depth=5,\n",
       "                      max_features=None, max_leaf_nodes=10,\n",
       "                      min_impurity_decrease=0.0, min_impurity_split=None,\n",
       "                      min_samples_leaf=1, min_samples_split=2,\n",
       "                      min_weight_fraction_leaf=0.0, presort='deprecated',\n",
       "                      random_state=143, splitter='best')"
      ]
     },
     "execution_count": 88,
     "metadata": {
      "tags": []
     },
     "output_type": "execute_result"
    }
   ],
   "source": [
    "decision2= DecisionTreeRegressor(max_depth=5,random_state=143,max_leaf_nodes=10)\n",
    "decision2.fit(x_train,y_train)   ## fit the train data into the model"
   ]
  },
  {
   "cell_type": "code",
   "execution_count": 0,
   "metadata": {
    "colab": {},
    "colab_type": "code",
    "id": "QsxIGiWxpGjR"
   },
   "outputs": [],
   "source": [
    "## now predict the target variable with the help of fitted data.\n",
    "y_pred_train_dec2 = decision2.predict(x_train)\n",
    "y_pred_valid_dec2 = decision2.predict(x_validation)"
   ]
  },
  {
   "cell_type": "code",
   "execution_count": 0,
   "metadata": {
    "colab": {
     "base_uri": "https://localhost:8080/",
     "height": 34
    },
    "colab_type": "code",
    "id": "0fBOK78dpGfe",
    "outputId": "01d6a413-2869-40cd-c5eb-d205c5ab8cdf"
   },
   "outputs": [
    {
     "name": "stdout",
     "output_type": "stream",
     "text": [
      "226.02572420903255\n"
     ]
    }
   ],
   "source": [
    "## mape for train data\n",
    "mape_train2 = np.mean(np.abs((y_train- y_pred_train_dec2)/y_train)*100)\n",
    "\n",
    "print(mape_train2)"
   ]
  },
  {
   "cell_type": "code",
   "execution_count": 0,
   "metadata": {
    "colab": {
     "base_uri": "https://localhost:8080/",
     "height": 34
    },
    "colab_type": "code",
    "id": "M-f8WSB9pGbT",
    "outputId": "300dabaf-f459-424e-ca65-2a73fa4d6900"
   },
   "outputs": [
    {
     "name": "stdout",
     "output_type": "stream",
     "text": [
      "226.71955899426348\n"
     ]
    }
   ],
   "source": [
    "## mape for validation data\n",
    "mape_test2 = np.mean(np.abs((y_validation- y_pred_valid_dec2)/y_validation)*100)\n",
    "\n",
    "print(mape_test2)"
   ]
  },
  {
   "cell_type": "code",
   "execution_count": 0,
   "metadata": {
    "colab": {
     "base_uri": "https://localhost:8080/",
     "height": 118
    },
    "colab_type": "code",
    "id": "amJCobW6nlx2",
    "outputId": "e9de2123-d255-4f0b-9075-f2f0ba20e354"
   },
   "outputs": [
    {
     "data": {
      "text/plain": [
       "DecisionTreeRegressor(ccp_alpha=0.0, criterion='mse', max_depth=8,\n",
       "                      max_features=None, max_leaf_nodes=10,\n",
       "                      min_impurity_decrease=0.0, min_impurity_split=None,\n",
       "                      min_samples_leaf=1, min_samples_split=2,\n",
       "                      min_weight_fraction_leaf=0.0, presort='deprecated',\n",
       "                      random_state=143, splitter='best')"
      ]
     },
     "execution_count": 92,
     "metadata": {
      "tags": []
     },
     "output_type": "execute_result"
    }
   ],
   "source": [
    "decision3= DecisionTreeRegressor(max_depth=8,random_state=143,max_leaf_nodes=10)\n",
    "decision3.fit(x_train,y_train)      ## fit the train data into the model"
   ]
  },
  {
   "cell_type": "code",
   "execution_count": 0,
   "metadata": {
    "colab": {},
    "colab_type": "code",
    "id": "IFxotlw9nltB"
   },
   "outputs": [],
   "source": [
    "## now predict the target variable with the help of fitted data.\n",
    "y_pred_train_dec3 = decision3.predict(x_train)\n",
    "y_pred_valid_dec3 = decision3.predict(x_validation)"
   ]
  },
  {
   "cell_type": "code",
   "execution_count": 0,
   "metadata": {
    "colab": {
     "base_uri": "https://localhost:8080/",
     "height": 34
    },
    "colab_type": "code",
    "id": "zTllwE-KnlrL",
    "outputId": "581d8b91-1111-4437-f70d-d91a870291cf"
   },
   "outputs": [
    {
     "name": "stdout",
     "output_type": "stream",
     "text": [
      "227.1566335177893\n"
     ]
    }
   ],
   "source": [
    "## mape for train data\n",
    "mape_train3 = np.mean(np.abs((y_train- y_pred_train_dec3)/y_train)*100)\n",
    "\n",
    "print(mape_train3)"
   ]
  },
  {
   "cell_type": "code",
   "execution_count": 0,
   "metadata": {
    "colab": {
     "base_uri": "https://localhost:8080/",
     "height": 34
    },
    "colab_type": "code",
    "id": "sDHiNpNcnlpZ",
    "outputId": "7cb1dc1f-dc1b-486e-b91c-476e62ab3ab5"
   },
   "outputs": [
    {
     "name": "stdout",
     "output_type": "stream",
     "text": [
      "227.87097841469125\n"
     ]
    }
   ],
   "source": [
    "## mape for validation data\n",
    "mape_test3 = np.mean(np.abs((y_validation- y_pred_valid_dec3)/y_validation)*100)\n",
    "\n",
    "print(mape_test3)"
   ]
  },
  {
   "cell_type": "code",
   "execution_count": 0,
   "metadata": {
    "colab": {
     "base_uri": "https://localhost:8080/",
     "height": 118
    },
    "colab_type": "code",
    "id": "naxYXvKTnlnr",
    "outputId": "e099a1fe-2ae3-4712-ef79-f0c3cb30ff37"
   },
   "outputs": [
    {
     "data": {
      "text/plain": [
       "DecisionTreeRegressor(ccp_alpha=0.0, criterion='mse', max_depth=11,\n",
       "                      max_features=None, max_leaf_nodes=10,\n",
       "                      min_impurity_decrease=0.0, min_impurity_split=None,\n",
       "                      min_samples_leaf=1, min_samples_split=2,\n",
       "                      min_weight_fraction_leaf=0.0, presort='deprecated',\n",
       "                      random_state=143, splitter='best')"
      ]
     },
     "execution_count": 96,
     "metadata": {
      "tags": []
     },
     "output_type": "execute_result"
    }
   ],
   "source": [
    "decision4= DecisionTreeRegressor(max_depth=11,random_state=143,max_leaf_nodes=10)\n",
    "decision4.fit(x_train,y_train)   ## fit the train data into the model"
   ]
  },
  {
   "cell_type": "code",
   "execution_count": 0,
   "metadata": {
    "colab": {},
    "colab_type": "code",
    "id": "7aEcASRUnllz"
   },
   "outputs": [],
   "source": [
    "## now predict the target variable with the help of fitted data.\n",
    "y_pred_train_dec4 = decision4.predict(x_train)\n",
    "y_pred_valid_dec4 = decision4.predict(x_validation)"
   ]
  },
  {
   "cell_type": "code",
   "execution_count": 0,
   "metadata": {
    "colab": {
     "base_uri": "https://localhost:8080/",
     "height": 34
    },
    "colab_type": "code",
    "id": "pm4oV7NInlil",
    "outputId": "82469b6f-62a0-43ca-bcb4-2dba1fbebe33"
   },
   "outputs": [
    {
     "name": "stdout",
     "output_type": "stream",
     "text": [
      "227.1566335177893\n"
     ]
    }
   ],
   "source": [
    "## mape for train data\n",
    "mape_train4 = np.mean(np.abs((y_train- y_pred_train_dec4)/y_train)*100)\n",
    "\n",
    "print(mape_train4)"
   ]
  },
  {
   "cell_type": "code",
   "execution_count": 0,
   "metadata": {
    "colab": {
     "base_uri": "https://localhost:8080/",
     "height": 34
    },
    "colab_type": "code",
    "id": "XSKT0Bivnleo",
    "outputId": "0d7253d7-a186-4aed-9224-ef3149770c98"
   },
   "outputs": [
    {
     "name": "stdout",
     "output_type": "stream",
     "text": [
      "227.87097841469125\n"
     ]
    }
   ],
   "source": [
    "## mape for validation data\n",
    "mape_test4 = np.mean(np.abs((y_validation- y_pred_valid_dec4)/y_validation)*100)\n",
    "\n",
    "print(mape_test4)"
   ]
  },
  {
   "cell_type": "code",
   "execution_count": 0,
   "metadata": {
    "colab": {
     "base_uri": "https://localhost:8080/",
     "height": 118
    },
    "colab_type": "code",
    "id": "B7dQIMdmnlc4",
    "outputId": "a9590f81-b47c-4011-91ec-9ebc81bba033"
   },
   "outputs": [
    {
     "data": {
      "text/plain": [
       "DecisionTreeRegressor(ccp_alpha=0.0, criterion='mse', max_depth=11,\n",
       "                      max_features=None, max_leaf_nodes=None,\n",
       "                      min_impurity_decrease=0.0, min_impurity_split=None,\n",
       "                      min_samples_leaf=1, min_samples_split=2,\n",
       "                      min_weight_fraction_leaf=0.0, presort='deprecated',\n",
       "                      random_state=143, splitter='best')"
      ]
     },
     "execution_count": 100,
     "metadata": {
      "tags": []
     },
     "output_type": "execute_result"
    }
   ],
   "source": [
    "decision5= DecisionTreeRegressor(max_depth=11,random_state=143)\n",
    "decision5.fit(x_train,y_train)   ## fit the train data into the model"
   ]
  },
  {
   "cell_type": "code",
   "execution_count": 0,
   "metadata": {
    "colab": {},
    "colab_type": "code",
    "id": "L3tNqgYjnlaN"
   },
   "outputs": [],
   "source": [
    "## now predict the target variable with the help of fitted data.\n",
    "y_pred_train_dec5 = decision5.predict(x_train)\n",
    "y_pred_valid_dec5 = decision5.predict(x_validation)"
   ]
  },
  {
   "cell_type": "code",
   "execution_count": 0,
   "metadata": {
    "colab": {
     "base_uri": "https://localhost:8080/",
     "height": 34
    },
    "colab_type": "code",
    "id": "HoFhJxLNor0b",
    "outputId": "8907ef90-265d-409a-e01b-bc9df43ca1b0"
   },
   "outputs": [
    {
     "name": "stdout",
     "output_type": "stream",
     "text": [
      "205.88179538497627\n"
     ]
    }
   ],
   "source": [
    "## mape for train data\n",
    "mape_train5 = np.mean(np.abs((y_train- y_pred_train_dec5)/y_train)*100)\n",
    "\n",
    "print(mape_train5)"
   ]
  },
  {
   "cell_type": "code",
   "execution_count": 0,
   "metadata": {
    "colab": {
     "base_uri": "https://localhost:8080/",
     "height": 34
    },
    "colab_type": "code",
    "id": "ZWPrBQ-JnlXq",
    "outputId": "55026567-a3b1-4a3c-e7a0-e6422e4e4b2c"
   },
   "outputs": [
    {
     "name": "stdout",
     "output_type": "stream",
     "text": [
      "207.22232745728522\n"
     ]
    }
   ],
   "source": [
    "## mape for validation data\n",
    "mape_test5 = np.mean(np.abs((y_validation- y_pred_valid_dec5)/y_validation)*100)\n",
    "\n",
    "print(mape_test5)"
   ]
  },
  {
   "cell_type": "code",
   "execution_count": 0,
   "metadata": {
    "colab": {},
    "colab_type": "code",
    "id": "4UKOAcvUj3Mo"
   },
   "outputs": [],
   "source": [
    "## predicting on the test data\n",
    "y_pred_test_dec5= decision.predict(test)"
   ]
  },
  {
   "cell_type": "code",
   "execution_count": 0,
   "metadata": {
    "colab": {},
    "colab_type": "code",
    "id": "5wsbkSN73E0w"
   },
   "outputs": [],
   "source": [
    "## creating a new dataframe for new predicted variable.\n",
    "decision= pd.DataFrame()"
   ]
  },
  {
   "cell_type": "code",
   "execution_count": 0,
   "metadata": {
    "colab": {},
    "colab_type": "code",
    "id": "RY6HpoNN4TQc"
   },
   "outputs": [],
   "source": [
    "## subsetting the id and unit_sales features into new dataframe for submission.\n",
    "decision['id']=submission['id']\n",
    "decision['unit_sales']= y_pred_test_dec5"
   ]
  },
  {
   "cell_type": "code",
   "execution_count": 0,
   "metadata": {
    "colab": {},
    "colab_type": "code",
    "id": "dYgRBjM50uAa"
   },
   "outputs": [],
   "source": [
    "## converting into csv for final submission\n",
    "decision.to_csv('dec.csv',header=True,index=False)"
   ]
  },
  {
   "cell_type": "markdown",
   "metadata": {
    "colab_type": "text",
    "id": "4x_Eiz2idJkt"
   },
   "source": [
    "#### as decision trees doesn't consider all the features in the data and unable to update the weights and reduce the MAPE. So, boosting techniques helps to update the weights by buliding multiple trees.\n",
    "\n",
    "\n",
    "### LIGHTGBM"
   ]
  },
  {
   "cell_type": "code",
   "execution_count": 0,
   "metadata": {
    "colab": {},
    "colab_type": "code",
    "id": "DvCl8QjjBJDO"
   },
   "outputs": [],
   "source": [
    "import lightgbm as lgb       ## library for lightgbm regression\n",
    "\n",
    "d_train = lgb.Dataset(x_train, label= y_train)"
   ]
  },
  {
   "cell_type": "code",
   "execution_count": 0,
   "metadata": {
    "colab": {},
    "colab_type": "code",
    "id": "x14pe1sUZqFK"
   },
   "outputs": [],
   "source": [
    "params = {}\n",
    "params['learning_rate']= 0.001       ## parameters for lightgbm\n",
    "params['boosting_type']='gbdt'\n",
    "params['objective']='regression'\n",
    "params['metric']='MAPE'\n",
    "params['sub_feature']=0.5\n",
    "params['num_leaves']= 10\n",
    "params['min_data']=50\n",
    "params['max_depth']=15"
   ]
  },
  {
   "cell_type": "code",
   "execution_count": 0,
   "metadata": {
    "colab": {},
    "colab_type": "code",
    "id": "cqax9-IKZ01t"
   },
   "outputs": [],
   "source": [
    " ## fit the train data into the model\n",
    "clf= lgb.train(params, d_train, 100)     "
   ]
  },
  {
   "cell_type": "code",
   "execution_count": 0,
   "metadata": {
    "colab": {},
    "colab_type": "code",
    "id": "bg-h9OrLZ2tx"
   },
   "outputs": [],
   "source": [
    "## now predict the target variable with the help of fitted data.\n",
    "y_pred_lgb_train = clf.predict(x_train)\n",
    "y_pred_lgb_test= clf.predict(x_validation)\n"
   ]
  },
  {
   "cell_type": "code",
   "execution_count": 0,
   "metadata": {
    "colab": {
     "base_uri": "https://localhost:8080/",
     "height": 34
    },
    "colab_type": "code",
    "id": "TKuwaG25aBw7",
    "outputId": "89c66f9c-2472-4df5-fde8-9ed405d73c8b"
   },
   "outputs": [
    {
     "name": "stdout",
     "output_type": "stream",
     "text": [
      "63.86503067139683\n"
     ]
    }
   ],
   "source": [
    "## mape for train data\n",
    "mape_train_lgb = np.mean(np.abs((y_train- y_pred_lgb_train)/y_train))*100\n",
    "\n",
    "print(mape_train_lgb)"
   ]
  },
  {
   "cell_type": "code",
   "execution_count": 0,
   "metadata": {
    "colab": {
     "base_uri": "https://localhost:8080/",
     "height": 34
    },
    "colab_type": "code",
    "id": "1-9phRlSacyz",
    "outputId": "965ce35a-01d7-4309-802a-c283b73fe06e"
   },
   "outputs": [
    {
     "name": "stdout",
     "output_type": "stream",
     "text": [
      "63.80859439426298\n"
     ]
    }
   ],
   "source": [
    "## mape for validation data\n",
    "mape_test_lgb = np.mean(np.abs((y_validation- y_pred_lgb_test)/y_validation))*100\n",
    "\n",
    "print(mape_test_lgb)"
   ]
  },
  {
   "cell_type": "code",
   "execution_count": 0,
   "metadata": {
    "colab": {},
    "colab_type": "code",
    "id": "XvjlZ1DLacuZ"
   },
   "outputs": [],
   "source": [
    "## predicting on the test data\n",
    "y_pred_lgb_test = clf.predict(test)"
   ]
  },
  {
   "cell_type": "code",
   "execution_count": 0,
   "metadata": {
    "colab": {},
    "colab_type": "code",
    "id": "Q7aRAK5Uxa_5"
   },
   "outputs": [],
   "source": [
    "## creating a new dataframe for new predicted variable.\n",
    "clf= pd.DataFrame()"
   ]
  },
  {
   "cell_type": "code",
   "execution_count": 0,
   "metadata": {
    "colab": {},
    "colab_type": "code",
    "id": "3qBo7m3cxavf"
   },
   "outputs": [],
   "source": [
    "## subsetting the id and unit_sales features into new dataframe for submission.\n",
    "clf['id']=submission['id']\n",
    "clf['unit_sales']= y_pred_lgb_test"
   ]
  },
  {
   "cell_type": "code",
   "execution_count": 0,
   "metadata": {
    "colab": {},
    "colab_type": "code",
    "id": "1atF4VosxasZ"
   },
   "outputs": [],
   "source": [
    "## converting into csv for final submission\n",
    "clf.to_csv('lgb.csv',header=True,index=False)"
   ]
  },
  {
   "cell_type": "markdown",
   "metadata": {
    "colab_type": "text",
    "id": "bk5DM1iQjfIn"
   },
   "source": [
    "#### lightgbm is same as gradent boosting regression which gave better results but the predictions acquired are not so accurate so further applied xgboost.\n",
    "\n",
    "\n",
    "### XGBOOST REGRESSION"
   ]
  },
  {
   "cell_type": "code",
   "execution_count": 0,
   "metadata": {
    "colab": {},
    "colab_type": "code",
    "id": "7Qeo_IHgacjx"
   },
   "outputs": [],
   "source": [
    "import xgboost as xgb\n",
    "from xgboost.sklearn import XGBRegressor"
   ]
  },
  {
   "cell_type": "code",
   "execution_count": 0,
   "metadata": {
    "colab": {
     "base_uri": "https://localhost:8080/",
     "height": 151
    },
    "colab_type": "code",
    "id": "rRr1M_I4J2FT",
    "outputId": "ddfbf6cb-d1a1-468f-b47b-353abc76ed47"
   },
   "outputs": [
    {
     "name": "stdout",
     "output_type": "stream",
     "text": [
      "[07:28:04] WARNING: /workspace/src/objective/regression_obj.cu:152: reg:linear is now deprecated in favor of reg:squarederror.\n"
     ]
    },
    {
     "data": {
      "text/plain": [
       "XGBRegressor(base_score=0.5, booster='gbtree', colsample_bylevel=1,\n",
       "             colsample_bynode=1, colsample_bytree=1, gamma=0,\n",
       "             importance_type='gain', learning_rate=0.1, max_delta_step=0,\n",
       "             max_depth=3, min_child_weight=1, missing=None, n_estimators=100,\n",
       "             n_jobs=1, nthread=None, objective='reg:linear', random_state=0,\n",
       "             reg_alpha=0, reg_lambda=1, scale_pos_weight=1, seed=None,\n",
       "             silent=None, subsample=1, verbosity=1)"
      ]
     },
     "execution_count": 107,
     "metadata": {
      "tags": []
     },
     "output_type": "execute_result"
    }
   ],
   "source": [
    "xgb_model=XGBRegressor()\n",
    "xgb_model.fit(x_train,y_train)"
   ]
  },
  {
   "cell_type": "code",
   "execution_count": 0,
   "metadata": {
    "colab": {},
    "colab_type": "code",
    "id": "GsmNLzi8hm_Y"
   },
   "outputs": [],
   "source": [
    "y_pred_train_xg = xgb_model.predict(x_train)\n",
    "y_pred_validation_xg= xgb_model.predict(x_validation)"
   ]
  },
  {
   "cell_type": "code",
   "execution_count": 0,
   "metadata": {
    "colab": {
     "base_uri": "https://localhost:8080/",
     "height": 34
    },
    "colab_type": "code",
    "id": "l67rEZq4J2AC",
    "outputId": "30ff5f7b-196e-4eff-88ba-103af62426f1"
   },
   "outputs": [
    {
     "name": "stdout",
     "output_type": "stream",
     "text": [
      "211.4731302523308\n"
     ]
    }
   ],
   "source": [
    "mape_train_xgb = np.mean(np.abs((y_train- y_pred_train_xg)/y_train))*100\n",
    "\n",
    "print(mape_train_xgb)"
   ]
  },
  {
   "cell_type": "code",
   "execution_count": 0,
   "metadata": {
    "colab": {
     "base_uri": "https://localhost:8080/",
     "height": 34
    },
    "colab_type": "code",
    "id": "mxM5XEPTJ19j",
    "outputId": "32c41af8-a2ba-4d01-cf67-3db171655f8d"
   },
   "outputs": [
    {
     "name": "stdout",
     "output_type": "stream",
     "text": [
      "211.9377654812391\n"
     ]
    }
   ],
   "source": [
    "mape_test_xgb = np.mean(np.abs((y_validation- y_pred_validation_xg)/y_validation))*100\n",
    "\n",
    "print(mape_test_xgb)"
   ]
  },
  {
   "cell_type": "markdown",
   "metadata": {
    "colab_type": "text",
    "id": "GskhILI0upWR"
   },
   "source": [
    "## parameter tuning for XGBoost Regressor"
   ]
  },
  {
   "cell_type": "code",
   "execution_count": 0,
   "metadata": {
    "colab": {
     "base_uri": "https://localhost:8080/",
     "height": 151
    },
    "colab_type": "code",
    "id": "aJfk1aocsKO5",
    "outputId": "1e3f1da7-d4e1-4722-bc35-4286a06d76f2"
   },
   "outputs": [
    {
     "name": "stdout",
     "output_type": "stream",
     "text": [
      "[07:53:10] WARNING: /workspace/src/objective/regression_obj.cu:152: reg:linear is now deprecated in favor of reg:squarederror.\n"
     ]
    },
    {
     "data": {
      "text/plain": [
       "XGBRegressor(base_score=0.5, booster='gbtree', colsample_bylevel=1,\n",
       "             colsample_bynode=1, colsample_bytree=1, gamma=0,\n",
       "             importance_type='gain', learning_rate=0.1, max_delta_step=0,\n",
       "             max_depth=3, min_child_weight=1, missing=None, n_estimators=150,\n",
       "             n_jobs=1, nthread=None, objective='reg:linear', random_state=143,\n",
       "             reg_alpha=0, reg_lambda=1, scale_pos_weight=1, seed=None,\n",
       "             silent=None, subsample=1, verbosity=1)"
      ]
     },
     "execution_count": 113,
     "metadata": {
      "tags": []
     },
     "output_type": "execute_result"
    }
   ],
   "source": [
    "xgb_model2=XGBRegressor(n_estimators=150,random_state=143)\n",
    "xgb_model2.fit(x_train,y_train)"
   ]
  },
  {
   "cell_type": "code",
   "execution_count": 0,
   "metadata": {
    "colab": {},
    "colab_type": "code",
    "id": "kXRukFQzsKMD"
   },
   "outputs": [],
   "source": [
    "y_pred_train_xg2 = xgb_model2.predict(x_train)\n",
    "y_pred_validation_xg2= xgb_model2.predict(x_validation)"
   ]
  },
  {
   "cell_type": "code",
   "execution_count": 0,
   "metadata": {
    "colab": {
     "base_uri": "https://localhost:8080/",
     "height": 34
    },
    "colab_type": "code",
    "id": "b529YKdNsKH5",
    "outputId": "dfc1c4b8-63d2-40d1-d6b2-403b1b3bdc44"
   },
   "outputs": [
    {
     "name": "stdout",
     "output_type": "stream",
     "text": [
      "206.46394663898295\n"
     ]
    }
   ],
   "source": [
    "mape_train_xgb2 = np.mean(np.abs((y_train- y_pred_train_xg2)/y_train))*100\n",
    "\n",
    "print(mape_train_xgb2)"
   ]
  },
  {
   "cell_type": "code",
   "execution_count": 0,
   "metadata": {
    "colab": {
     "base_uri": "https://localhost:8080/",
     "height": 34
    },
    "colab_type": "code",
    "id": "i2J-XG2usKCt",
    "outputId": "afe198f7-a1f8-4e34-9ee7-2bdb8fce5772"
   },
   "outputs": [
    {
     "name": "stdout",
     "output_type": "stream",
     "text": [
      "206.88116245606346\n"
     ]
    }
   ],
   "source": [
    "mape_test_xgb2 = np.mean(np.abs((y_validation- y_pred_validation_xg2)/y_validation))*100\n",
    "\n",
    "print(mape_test_xgb2)"
   ]
  },
  {
   "cell_type": "code",
   "execution_count": 0,
   "metadata": {
    "colab": {
     "base_uri": "https://localhost:8080/",
     "height": 151
    },
    "colab_type": "code",
    "id": "RGycfsX60RrW",
    "outputId": "f8de4869-f594-47ec-a423-f70bb6f99b28"
   },
   "outputs": [
    {
     "name": "stdout",
     "output_type": "stream",
     "text": [
      "[08:20:18] WARNING: /workspace/src/objective/regression_obj.cu:152: reg:linear is now deprecated in favor of reg:squarederror.\n"
     ]
    },
    {
     "data": {
      "text/plain": [
       "XGBRegressor(base_score=0.5, booster='gbtree', colsample_bylevel=1,\n",
       "             colsample_bynode=1, colsample_bytree=1, gamma=0,\n",
       "             importance_type='gain', learning_rate=0.1, max_delta_step=0,\n",
       "             max_depth=5, min_child_weight=1, missing=None, n_estimators=150,\n",
       "             n_jobs=1, nthread=None, objective='reg:linear', random_state=143,\n",
       "             reg_alpha=0, reg_lambda=1, scale_pos_weight=1, seed=None,\n",
       "             silent=None, subsample=1, verbosity=1)"
      ]
     },
     "execution_count": 117,
     "metadata": {
      "tags": []
     },
     "output_type": "execute_result"
    }
   ],
   "source": [
    "xgb_model3=XGBRegressor(n_estimators=150,random_state=143,learning_rate=0.1,max_depth=5)\n",
    "xgb_model3.fit(x_train,y_train)"
   ]
  },
  {
   "cell_type": "code",
   "execution_count": 0,
   "metadata": {
    "colab": {},
    "colab_type": "code",
    "id": "EZskEiVO0RnX"
   },
   "outputs": [],
   "source": [
    "y_pred_train_xg3 = xgb_model3.predict(x_train)\n",
    "y_pred_validation_xg3= xgb_model3.predict(x_validation)"
   ]
  },
  {
   "cell_type": "code",
   "execution_count": 0,
   "metadata": {
    "colab": {
     "base_uri": "https://localhost:8080/",
     "height": 34
    },
    "colab_type": "code",
    "id": "ok2V79PU0RjK",
    "outputId": "5a521118-8c6c-44ea-c702-71b4aca55448"
   },
   "outputs": [
    {
     "name": "stdout",
     "output_type": "stream",
     "text": [
      "186.74675051678923\n"
     ]
    }
   ],
   "source": [
    "mape_train_xgb3 = np.mean(np.abs((y_train- y_pred_train_xg3)/y_train))*100\n",
    "\n",
    "print(mape_train_xgb3)"
   ]
  },
  {
   "cell_type": "code",
   "execution_count": 0,
   "metadata": {
    "colab": {
     "base_uri": "https://localhost:8080/",
     "height": 34
    },
    "colab_type": "code",
    "id": "vWSfp8tE0Rg-",
    "outputId": "ec56074a-81b1-4c86-cb30-a05c5f589534"
   },
   "outputs": [
    {
     "name": "stdout",
     "output_type": "stream",
     "text": [
      "187.35721955008844\n"
     ]
    }
   ],
   "source": [
    "mape_test_xgb3 = np.mean(np.abs((y_validation- y_pred_validation_xg3)/y_validation))*100\n",
    "\n",
    "print(mape_test_xgb3)"
   ]
  },
  {
   "cell_type": "code",
   "execution_count": 0,
   "metadata": {
    "colab": {
     "base_uri": "https://localhost:8080/",
     "height": 151
    },
    "colab_type": "code",
    "id": "OESxB4oS0Rdj",
    "outputId": "9389109e-ecfa-4ec7-c26e-b273362d9302"
   },
   "outputs": [
    {
     "name": "stdout",
     "output_type": "stream",
     "text": [
      "[08:37:16] WARNING: /workspace/src/objective/regression_obj.cu:152: reg:linear is now deprecated in favor of reg:squarederror.\n"
     ]
    },
    {
     "data": {
      "text/plain": [
       "XGBRegressor(base_score=0.5, booster='gbtree', colsample_bylevel=1,\n",
       "             colsample_bynode=1, colsample_bytree=1, gamma=0,\n",
       "             importance_type='gain', learning_rate=0.01, max_delta_step=0,\n",
       "             max_depth=5, min_child_weight=1, missing=None, n_estimators=150,\n",
       "             n_jobs=1, nthread=None, objective='reg:linear', random_state=143,\n",
       "             reg_alpha=0, reg_lambda=1, scale_pos_weight=1, seed=None,\n",
       "             silent=None, subsample=1, verbosity=1)"
      ]
     },
     "execution_count": 121,
     "metadata": {
      "tags": []
     },
     "output_type": "execute_result"
    }
   ],
   "source": [
    "xgb_model4=XGBRegressor(n_estimators=150,random_state=143,learning_rate=0.01,max_depth=5)\n",
    "xgb_model4.fit(x_train,y_train)"
   ]
  },
  {
   "cell_type": "code",
   "execution_count": 0,
   "metadata": {
    "colab": {},
    "colab_type": "code",
    "id": "QaIQ8FAx0Ra_"
   },
   "outputs": [],
   "source": [
    "y_pred_train_xg4 = xgb_model4.predict(x_train)\n",
    "y_pred_validation_xg4= xgb_model4.predict(x_validation)"
   ]
  },
  {
   "cell_type": "code",
   "execution_count": 0,
   "metadata": {
    "colab": {
     "base_uri": "https://localhost:8080/",
     "height": 34
    },
    "colab_type": "code",
    "id": "R_Dhqs-F0RXo",
    "outputId": "c33f7156-e441-4e19-f602-e5e25359ae4d"
   },
   "outputs": [
    {
     "name": "stdout",
     "output_type": "stream",
     "text": [
      "166.6060894697443\n"
     ]
    }
   ],
   "source": [
    "mape_train_xgb4 = np.mean(np.abs((y_train- y_pred_train_xg4)/y_train))*100\n",
    "\n",
    "print(mape_train_xgb4)"
   ]
  },
  {
   "cell_type": "code",
   "execution_count": 0,
   "metadata": {
    "colab": {
     "base_uri": "https://localhost:8080/",
     "height": 34
    },
    "colab_type": "code",
    "id": "wXg9WQFJ0RVj",
    "outputId": "32799ec4-1b83-46ba-b2aa-d139fdb11c04"
   },
   "outputs": [
    {
     "name": "stdout",
     "output_type": "stream",
     "text": [
      "167.08496128717297\n"
     ]
    }
   ],
   "source": [
    "mape_test_xgb4 = np.mean(np.abs((y_validation- y_pred_validation_xg4)/y_validation))*100\n",
    "\n",
    "print(mape_test_xgb4)"
   ]
  },
  {
   "cell_type": "code",
   "execution_count": 18,
   "metadata": {
    "colab": {
     "base_uri": "https://localhost:8080/",
     "height": 151
    },
    "colab_type": "code",
    "id": "1rDhWhJSpG_K",
    "outputId": "479e4156-039e-4214-e893-35fc34c20e67"
   },
   "outputs": [
    {
     "name": "stdout",
     "output_type": "stream",
     "text": [
      "[11:47:15] WARNING: /workspace/src/objective/regression_obj.cu:152: reg:linear is now deprecated in favor of reg:squarederror.\n"
     ]
    },
    {
     "data": {
      "text/plain": [
       "XGBRegressor(base_score=0.5, booster='gbtree', colsample_bylevel=1,\n",
       "             colsample_bynode=1, colsample_bytree=1, gamma=0,\n",
       "             importance_type='gain', learning_rate=0.001, max_delta_step=0,\n",
       "             max_depth=5, min_child_weight=1, missing=None, n_estimators=100,\n",
       "             n_jobs=1, nthread=None, objective='reg:linear', random_state=11,\n",
       "             reg_alpha=0, reg_lambda=1, scale_pos_weight=1, seed=None,\n",
       "             silent=None, subsample=1, verbosity=1)"
      ]
     },
     "execution_count": 18,
     "metadata": {
      "tags": []
     },
     "output_type": "execute_result"
    }
   ],
   "source": [
    "xgb_model5=XGBRegressor(n_estimators=100,max_depth=5,learning_rate=0.001,random_state=11)\n",
    "xgb_model5.fit(x_train,y_train)"
   ]
  },
  {
   "cell_type": "code",
   "execution_count": 0,
   "metadata": {
    "colab": {},
    "colab_type": "code",
    "id": "2p1dJF0S0RGH"
   },
   "outputs": [],
   "source": [
    "y_pred_train_xg5 = xgb_model5.predict(x_train)\n",
    "y_pred_validation_xg5= xgb_model5.predict(x_validation)"
   ]
  },
  {
   "cell_type": "code",
   "execution_count": 20,
   "metadata": {
    "colab": {
     "base_uri": "https://localhost:8080/",
     "height": 34
    },
    "colab_type": "code",
    "id": "gxtffs9EkwPS",
    "outputId": "1185120a-b849-4421-fc27-cc65f8a11621"
   },
   "outputs": [
    {
     "name": "stdout",
     "output_type": "stream",
     "text": [
      "63.1384372325381\n"
     ]
    }
   ],
   "source": [
    "mape_train_xgb5 = np.mean(np.abs((y_train- y_pred_train_xg5)/y_train))*100\n",
    "\n",
    "print(mape_train_xgb5)"
   ]
  },
  {
   "cell_type": "code",
   "execution_count": 21,
   "metadata": {
    "colab": {
     "base_uri": "https://localhost:8080/",
     "height": 34
    },
    "colab_type": "code",
    "id": "_pO--bJPkynp",
    "outputId": "1f84c9bf-420c-4902-d77d-b6f47278be45"
   },
   "outputs": [
    {
     "name": "stdout",
     "output_type": "stream",
     "text": [
      "63.08400733338717\n"
     ]
    }
   ],
   "source": [
    "mape_test_xgb5 = np.mean(np.abs((y_validation- y_pred_validation_xg5)/y_validation))*100\n",
    "\n",
    "print(mape_test_xgb5)"
   ]
  },
  {
   "cell_type": "code",
   "execution_count": 0,
   "metadata": {
    "colab": {},
    "colab_type": "code",
    "id": "vSkBG2MoLdgz"
   },
   "outputs": [],
   "source": [
    "y_pred_test_xg = xgb_model5.predict(test)"
   ]
  },
  {
   "cell_type": "code",
   "execution_count": 0,
   "metadata": {
    "colab": {},
    "colab_type": "code",
    "id": "AMxVSXFmw4Fd"
   },
   "outputs": [],
   "source": [
    "xgb_model= pd.DataFrame()"
   ]
  },
  {
   "cell_type": "code",
   "execution_count": 0,
   "metadata": {
    "colab": {},
    "colab_type": "code",
    "id": "LNizBoqKw3ro"
   },
   "outputs": [],
   "source": [
    "xgb_model['id']=submission['id']\n",
    "xgb_model['unit_sales']= y_pred_test_xg"
   ]
  },
  {
   "cell_type": "code",
   "execution_count": 0,
   "metadata": {
    "colab": {},
    "colab_type": "code",
    "id": "rZOJZfzrw3QS"
   },
   "outputs": [],
   "source": [
    "xgb_model.to_csv('xgb.csv',header=True,index=False)"
   ]
  },
  {
   "cell_type": "markdown",
   "metadata": {
    "colab_type": "text",
    "id": "Wqkv3k-Otpwf"
   },
   "source": [
    "#### solutions for the questions raised by the business intelligence team"
   ]
  },
  {
   "cell_type": "code",
   "execution_count": 0,
   "metadata": {
    "colab": {},
    "colab_type": "code",
    "id": "YgMZMgLzy-PL"
   },
   "outputs": [],
   "source": [
    "pickle_in= open('test.pickle','rb')    ## reading the pickle file of previously saved data\n",
    "final_test= pickle.load(pickle_in)"
   ]
  },
  {
   "cell_type": "code",
   "execution_count": 0,
   "metadata": {
    "colab": {},
    "colab_type": "code",
    "id": "Jk1esJW9y-LD"
   },
   "outputs": [],
   "source": [
    "pickle_in= open('location.pickle','rb')  ## reading the pickle file of previously saved data\n",
    "final_location= pickle.load(pickle_in)"
   ]
  },
  {
   "cell_type": "code",
   "execution_count": 0,
   "metadata": {
    "colab": {},
    "colab_type": "code",
    "id": "xB4DNGFZy-Dr"
   },
   "outputs": [],
   "source": [
    "final_test= pd.merge(final_test,final_location,how='inner',on='locationId')     ## merging the test data and the location data for breif insights."
   ]
  },
  {
   "cell_type": "code",
   "execution_count": 0,
   "metadata": {
    "colab": {},
    "colab_type": "code",
    "id": "xGHh6_kgCchl"
   },
   "outputs": [],
   "source": [
    "final_test['week']=final_test['date'].dt.week       ## extracting week from the final test data"
   ]
  },
  {
   "cell_type": "code",
   "execution_count": 27,
   "metadata": {
    "colab": {
     "base_uri": "https://localhost:8080/",
     "height": 195
    },
    "colab_type": "code",
    "id": "JKKY5ZEYy-BF",
    "outputId": "5c274855-b9b4-4c73-8ccb-5b7683373a14"
   },
   "outputs": [
    {
     "data": {
      "text/html": [
       "<div>\n",
       "<style scoped>\n",
       "    .dataframe tbody tr th:only-of-type {\n",
       "        vertical-align: middle;\n",
       "    }\n",
       "\n",
       "    .dataframe tbody tr th {\n",
       "        vertical-align: top;\n",
       "    }\n",
       "\n",
       "    .dataframe thead th {\n",
       "        text-align: right;\n",
       "    }\n",
       "</style>\n",
       "<table border=\"1\" class=\"dataframe\">\n",
       "  <thead>\n",
       "    <tr style=\"text-align: right;\">\n",
       "      <th></th>\n",
       "      <th>id</th>\n",
       "      <th>date</th>\n",
       "      <th>locationId</th>\n",
       "      <th>item_id</th>\n",
       "      <th>onpromotion</th>\n",
       "      <th>day</th>\n",
       "      <th>month</th>\n",
       "      <th>year</th>\n",
       "      <th>city</th>\n",
       "      <th>state</th>\n",
       "      <th>type</th>\n",
       "      <th>cluster</th>\n",
       "      <th>week</th>\n",
       "    </tr>\n",
       "  </thead>\n",
       "  <tbody>\n",
       "    <tr>\n",
       "      <th>0</th>\n",
       "      <td>0</td>\n",
       "      <td>2019-01-01</td>\n",
       "      <td>25</td>\n",
       "      <td>99197</td>\n",
       "      <td>False</td>\n",
       "      <td>1</td>\n",
       "      <td>1</td>\n",
       "      <td>2019</td>\n",
       "      <td>Kanpur</td>\n",
       "      <td>Uttar Pradesh</td>\n",
       "      <td>D</td>\n",
       "      <td>1</td>\n",
       "      <td>1</td>\n",
       "    </tr>\n",
       "    <tr>\n",
       "      <th>1</th>\n",
       "      <td>1</td>\n",
       "      <td>2019-01-01</td>\n",
       "      <td>25</td>\n",
       "      <td>103665</td>\n",
       "      <td>False</td>\n",
       "      <td>1</td>\n",
       "      <td>1</td>\n",
       "      <td>2019</td>\n",
       "      <td>Kanpur</td>\n",
       "      <td>Uttar Pradesh</td>\n",
       "      <td>D</td>\n",
       "      <td>1</td>\n",
       "      <td>1</td>\n",
       "    </tr>\n",
       "    <tr>\n",
       "      <th>2</th>\n",
       "      <td>2</td>\n",
       "      <td>2019-01-01</td>\n",
       "      <td>25</td>\n",
       "      <td>105574</td>\n",
       "      <td>False</td>\n",
       "      <td>1</td>\n",
       "      <td>1</td>\n",
       "      <td>2019</td>\n",
       "      <td>Kanpur</td>\n",
       "      <td>Uttar Pradesh</td>\n",
       "      <td>D</td>\n",
       "      <td>1</td>\n",
       "      <td>1</td>\n",
       "    </tr>\n",
       "    <tr>\n",
       "      <th>3</th>\n",
       "      <td>3</td>\n",
       "      <td>2019-01-01</td>\n",
       "      <td>25</td>\n",
       "      <td>105857</td>\n",
       "      <td>False</td>\n",
       "      <td>1</td>\n",
       "      <td>1</td>\n",
       "      <td>2019</td>\n",
       "      <td>Kanpur</td>\n",
       "      <td>Uttar Pradesh</td>\n",
       "      <td>D</td>\n",
       "      <td>1</td>\n",
       "      <td>1</td>\n",
       "    </tr>\n",
       "    <tr>\n",
       "      <th>4</th>\n",
       "      <td>4</td>\n",
       "      <td>2019-01-01</td>\n",
       "      <td>25</td>\n",
       "      <td>106716</td>\n",
       "      <td>False</td>\n",
       "      <td>1</td>\n",
       "      <td>1</td>\n",
       "      <td>2019</td>\n",
       "      <td>Kanpur</td>\n",
       "      <td>Uttar Pradesh</td>\n",
       "      <td>D</td>\n",
       "      <td>1</td>\n",
       "      <td>1</td>\n",
       "    </tr>\n",
       "  </tbody>\n",
       "</table>\n",
       "</div>"
      ],
      "text/plain": [
       "   id       date locationId item_id  ...          state  type  cluster  week\n",
       "0   0 2019-01-01         25   99197  ...  Uttar Pradesh     D        1     1\n",
       "1   1 2019-01-01         25  103665  ...  Uttar Pradesh     D        1     1\n",
       "2   2 2019-01-01         25  105574  ...  Uttar Pradesh     D        1     1\n",
       "3   3 2019-01-01         25  105857  ...  Uttar Pradesh     D        1     1\n",
       "4   4 2019-01-01         25  106716  ...  Uttar Pradesh     D        1     1\n",
       "\n",
       "[5 rows x 13 columns]"
      ]
     },
     "execution_count": 27,
     "metadata": {
      "tags": []
     },
     "output_type": "execute_result"
    }
   ],
   "source": [
    "final_test.head()"
   ]
  },
  {
   "cell_type": "code",
   "execution_count": 0,
   "metadata": {
    "colab": {},
    "colab_type": "code",
    "id": "fx68g3OWy9-f"
   },
   "outputs": [],
   "source": [
    "final_test= final_test.drop(['id','date','city','state'],axis=1)    ## dropping the unnecessary columns in the final test data"
   ]
  },
  {
   "cell_type": "code",
   "execution_count": 0,
   "metadata": {
    "colab": {},
    "colab_type": "code",
    "id": "c052zrpABjaN"
   },
   "outputs": [],
   "source": [
    "x= pd.read_csv('xgb.csv')     ## importing the predictions file"
   ]
  },
  {
   "cell_type": "code",
   "execution_count": 0,
   "metadata": {
    "colab": {},
    "colab_type": "code",
    "id": "8d8t62T0yG5l"
   },
   "outputs": [],
   "source": [
    "final_test['unit_sales']=x['unit_sales']   ## adding a new column for final test data"
   ]
  },
  {
   "cell_type": "code",
   "execution_count": 31,
   "metadata": {
    "colab": {
     "base_uri": "https://localhost:8080/",
     "height": 195
    },
    "colab_type": "code",
    "id": "InHxzf0LyG3p",
    "outputId": "a8ec6858-d0b9-470b-8f25-27df40b2ee92"
   },
   "outputs": [
    {
     "data": {
      "text/html": [
       "<div>\n",
       "<style scoped>\n",
       "    .dataframe tbody tr th:only-of-type {\n",
       "        vertical-align: middle;\n",
       "    }\n",
       "\n",
       "    .dataframe tbody tr th {\n",
       "        vertical-align: top;\n",
       "    }\n",
       "\n",
       "    .dataframe thead th {\n",
       "        text-align: right;\n",
       "    }\n",
       "</style>\n",
       "<table border=\"1\" class=\"dataframe\">\n",
       "  <thead>\n",
       "    <tr style=\"text-align: right;\">\n",
       "      <th></th>\n",
       "      <th>locationId</th>\n",
       "      <th>item_id</th>\n",
       "      <th>onpromotion</th>\n",
       "      <th>day</th>\n",
       "      <th>month</th>\n",
       "      <th>year</th>\n",
       "      <th>type</th>\n",
       "      <th>cluster</th>\n",
       "      <th>week</th>\n",
       "      <th>unit_sales</th>\n",
       "    </tr>\n",
       "  </thead>\n",
       "  <tbody>\n",
       "    <tr>\n",
       "      <th>0</th>\n",
       "      <td>25</td>\n",
       "      <td>99197</td>\n",
       "      <td>False</td>\n",
       "      <td>1</td>\n",
       "      <td>1</td>\n",
       "      <td>2019</td>\n",
       "      <td>D</td>\n",
       "      <td>1</td>\n",
       "      <td>1</td>\n",
       "      <td>1.593629</td>\n",
       "    </tr>\n",
       "    <tr>\n",
       "      <th>1</th>\n",
       "      <td>25</td>\n",
       "      <td>103665</td>\n",
       "      <td>False</td>\n",
       "      <td>1</td>\n",
       "      <td>1</td>\n",
       "      <td>2019</td>\n",
       "      <td>D</td>\n",
       "      <td>1</td>\n",
       "      <td>1</td>\n",
       "      <td>1.582322</td>\n",
       "    </tr>\n",
       "    <tr>\n",
       "      <th>2</th>\n",
       "      <td>25</td>\n",
       "      <td>105574</td>\n",
       "      <td>False</td>\n",
       "      <td>1</td>\n",
       "      <td>1</td>\n",
       "      <td>2019</td>\n",
       "      <td>D</td>\n",
       "      <td>1</td>\n",
       "      <td>1</td>\n",
       "      <td>1.582322</td>\n",
       "    </tr>\n",
       "    <tr>\n",
       "      <th>3</th>\n",
       "      <td>25</td>\n",
       "      <td>105857</td>\n",
       "      <td>False</td>\n",
       "      <td>1</td>\n",
       "      <td>1</td>\n",
       "      <td>2019</td>\n",
       "      <td>D</td>\n",
       "      <td>1</td>\n",
       "      <td>1</td>\n",
       "      <td>1.582322</td>\n",
       "    </tr>\n",
       "    <tr>\n",
       "      <th>4</th>\n",
       "      <td>25</td>\n",
       "      <td>106716</td>\n",
       "      <td>False</td>\n",
       "      <td>1</td>\n",
       "      <td>1</td>\n",
       "      <td>2019</td>\n",
       "      <td>D</td>\n",
       "      <td>1</td>\n",
       "      <td>1</td>\n",
       "      <td>1.582322</td>\n",
       "    </tr>\n",
       "  </tbody>\n",
       "</table>\n",
       "</div>"
      ],
      "text/plain": [
       "  locationId item_id onpromotion  day  ...  type  cluster week  unit_sales\n",
       "0         25   99197       False    1  ...     D        1    1    1.593629\n",
       "1         25  103665       False    1  ...     D        1    1    1.582322\n",
       "2         25  105574       False    1  ...     D        1    1    1.582322\n",
       "3         25  105857       False    1  ...     D        1    1    1.582322\n",
       "4         25  106716       False    1  ...     D        1    1    1.582322\n",
       "\n",
       "[5 rows x 10 columns]"
      ]
     },
     "execution_count": 31,
     "metadata": {
      "tags": []
     },
     "output_type": "execute_result"
    }
   ],
   "source": [
    "final_test.head()"
   ]
  },
  {
   "cell_type": "code",
   "execution_count": 0,
   "metadata": {
    "colab": {},
    "colab_type": "code",
    "id": "hX6__keUyG1s"
   },
   "outputs": [],
   "source": [
    "pickle_out= open('final_test.pickle','wb')\n",
    "pickle.dump(final_test,pickle_out)            ## pickling the file to save the data\n",
    "pickle_out.close()"
   ]
  },
  {
   "cell_type": "code",
   "execution_count": 0,
   "metadata": {
    "colab": {},
    "colab_type": "code",
    "id": "UafHOEEgyGy5"
   },
   "outputs": [],
   "source": [
    "pickle_in= open('final_test.pickle','rb')\n",
    "final_test= pickle.load(pickle_in)"
   ]
  },
  {
   "cell_type": "code",
   "execution_count": 0,
   "metadata": {
    "colab": {},
    "colab_type": "code",
    "id": "MpZvlMyPyGwW"
   },
   "outputs": [],
   "source": [
    "## converting to total sales from the subset data with respect to cluster and converting it data frame\n",
    "\n",
    "qt1 = \"\"\"SELECT cluster,sum(unit_sales) as tot_sales FROM final_test GROUP BY cluster\"\"\"\n",
    "\n",
    "dt1= pd.DataFrame(ps.sqldf(qt1, locals()))"
   ]
  },
  {
   "cell_type": "code",
   "execution_count": 35,
   "metadata": {
    "colab": {
     "base_uri": "https://localhost:8080/",
     "height": 550
    },
    "colab_type": "code",
    "id": "HfdmLzDWThxt",
    "outputId": "ea5ef56c-d694-454f-b4c3-4dc068960cc2"
   },
   "outputs": [
    {
     "data": {
      "text/html": [
       "<div>\n",
       "<style scoped>\n",
       "    .dataframe tbody tr th:only-of-type {\n",
       "        vertical-align: middle;\n",
       "    }\n",
       "\n",
       "    .dataframe tbody tr th {\n",
       "        vertical-align: top;\n",
       "    }\n",
       "\n",
       "    .dataframe thead th {\n",
       "        text-align: right;\n",
       "    }\n",
       "</style>\n",
       "<table border=\"1\" class=\"dataframe\">\n",
       "  <thead>\n",
       "    <tr style=\"text-align: right;\">\n",
       "      <th></th>\n",
       "      <th>cluster</th>\n",
       "      <th>tot_sales</th>\n",
       "    </tr>\n",
       "  </thead>\n",
       "  <tbody>\n",
       "    <tr>\n",
       "      <th>13</th>\n",
       "      <td>14</td>\n",
       "      <td>462057.345701</td>\n",
       "    </tr>\n",
       "    <tr>\n",
       "      <th>5</th>\n",
       "      <td>6</td>\n",
       "      <td>346817.333487</td>\n",
       "    </tr>\n",
       "    <tr>\n",
       "      <th>7</th>\n",
       "      <td>8</td>\n",
       "      <td>298999.721084</td>\n",
       "    </tr>\n",
       "    <tr>\n",
       "      <th>9</th>\n",
       "      <td>10</td>\n",
       "      <td>258595.328995</td>\n",
       "    </tr>\n",
       "    <tr>\n",
       "      <th>10</th>\n",
       "      <td>11</td>\n",
       "      <td>250026.272490</td>\n",
       "    </tr>\n",
       "    <tr>\n",
       "      <th>2</th>\n",
       "      <td>3</td>\n",
       "      <td>220894.269914</td>\n",
       "    </tr>\n",
       "    <tr>\n",
       "      <th>12</th>\n",
       "      <td>13</td>\n",
       "      <td>203304.513169</td>\n",
       "    </tr>\n",
       "    <tr>\n",
       "      <th>14</th>\n",
       "      <td>15</td>\n",
       "      <td>173950.011068</td>\n",
       "    </tr>\n",
       "    <tr>\n",
       "      <th>3</th>\n",
       "      <td>4</td>\n",
       "      <td>150886.018875</td>\n",
       "    </tr>\n",
       "    <tr>\n",
       "      <th>0</th>\n",
       "      <td>1</td>\n",
       "      <td>150585.939752</td>\n",
       "    </tr>\n",
       "    <tr>\n",
       "      <th>4</th>\n",
       "      <td>5</td>\n",
       "      <td>146277.220708</td>\n",
       "    </tr>\n",
       "    <tr>\n",
       "      <th>1</th>\n",
       "      <td>2</td>\n",
       "      <td>106938.658709</td>\n",
       "    </tr>\n",
       "    <tr>\n",
       "      <th>8</th>\n",
       "      <td>9</td>\n",
       "      <td>98981.094513</td>\n",
       "    </tr>\n",
       "    <tr>\n",
       "      <th>16</th>\n",
       "      <td>17</td>\n",
       "      <td>85814.655873</td>\n",
       "    </tr>\n",
       "    <tr>\n",
       "      <th>6</th>\n",
       "      <td>7</td>\n",
       "      <td>70618.977434</td>\n",
       "    </tr>\n",
       "    <tr>\n",
       "      <th>15</th>\n",
       "      <td>16</td>\n",
       "      <td>48300.927547</td>\n",
       "    </tr>\n",
       "    <tr>\n",
       "      <th>11</th>\n",
       "      <td>12</td>\n",
       "      <td>43929.169630</td>\n",
       "    </tr>\n",
       "  </tbody>\n",
       "</table>\n",
       "</div>"
      ],
      "text/plain": [
       "    cluster      tot_sales\n",
       "13       14  462057.345701\n",
       "5         6  346817.333487\n",
       "7         8  298999.721084\n",
       "9        10  258595.328995\n",
       "10       11  250026.272490\n",
       "2         3  220894.269914\n",
       "12       13  203304.513169\n",
       "14       15  173950.011068\n",
       "3         4  150886.018875\n",
       "0         1  150585.939752\n",
       "4         5  146277.220708\n",
       "1         2  106938.658709\n",
       "8         9   98981.094513\n",
       "16       17   85814.655873\n",
       "6         7   70618.977434\n",
       "15       16   48300.927547\n",
       "11       12   43929.169630"
      ]
     },
     "execution_count": 35,
     "metadata": {
      "tags": []
     },
     "output_type": "execute_result"
    }
   ],
   "source": [
    "dt1.head(20).sort_values('tot_sales',ascending=False)         ## sorting out values by tot_sales to know which cluster has highest sales."
   ]
  },
  {
   "cell_type": "code",
   "execution_count": 37,
   "metadata": {
    "colab": {
     "base_uri": "https://localhost:8080/",
     "height": 550
    },
    "colab_type": "code",
    "id": "94UjSSlk1XfS",
    "outputId": "d4fb2381-2b63-42d4-c6ca-4e834d02597a"
   },
   "outputs": [
    {
     "data": {
      "text/plain": [
       "Text(0.5, 1.0, 'total sales of different clusters')"
      ]
     },
     "execution_count": 37,
     "metadata": {
      "tags": []
     },
     "output_type": "execute_result"
    },
    {
     "data": {
      "text/plain": [
       "<Figure size 1008x1152 with 0 Axes>"
      ]
     },
     "metadata": {
      "tags": []
     },
     "output_type": "display_data"
    },
    {
     "data": {
      "image/png": "[encoded data removed]",
      "text/plain": [
       "<Figure size 720x576 with 1 Axes>"
      ]
     },
     "metadata": {
      "tags": []
     },
     "output_type": "display_data"
    }
   ],
   "source": [
    "## bar graph to see highest unit sales with respect to cluster\n",
    "\n",
    "plt.figure(figsize=(14,16))\n",
    "dt1.sort_values('tot_sales',ascending=False,inplace=True)\n",
    "dt1.plot(kind='bar',y='tot_sales',x='cluster',color='b',figsize=(10,8))\n",
    "plt.ylabel('tot_sales')\n",
    "plt.title('total sales of different clusters')"
   ]
  },
  {
   "cell_type": "markdown",
   "metadata": {
    "colab_type": "text",
    "id": "CJv5nZKfv1c3"
   },
   "source": [
    "#### From the above plot we can observe that 14th cluster has highest sales where the 14th cluster belongs to benguluru region and A type business unit."
   ]
  },
  {
   "cell_type": "code",
   "execution_count": 0,
   "metadata": {
    "colab": {},
    "colab_type": "code",
    "id": "zEwClGIo-6SS"
   },
   "outputs": [],
   "source": [
    "dat2= final_test.loc[final_test['cluster']==14,['cluster','item_id','unit_sales','type']]   ## observations from 14th cluster"
   ]
  },
  {
   "cell_type": "code",
   "execution_count": 39,
   "metadata": {
    "colab": {
     "base_uri": "https://localhost:8080/",
     "height": 373
    },
    "colab_type": "code",
    "id": "to3QEEsR-6PA",
    "outputId": "55ce4741-406c-4a4e-e294-f1fa0616a6ef"
   },
   "outputs": [
    {
     "data": {
      "text/html": [
       "<div>\n",
       "<style scoped>\n",
       "    .dataframe tbody tr th:only-of-type {\n",
       "        vertical-align: middle;\n",
       "    }\n",
       "\n",
       "    .dataframe tbody tr th {\n",
       "        vertical-align: top;\n",
       "    }\n",
       "\n",
       "    .dataframe thead th {\n",
       "        text-align: right;\n",
       "    }\n",
       "</style>\n",
       "<table border=\"1\" class=\"dataframe\">\n",
       "  <thead>\n",
       "    <tr style=\"text-align: right;\">\n",
       "      <th></th>\n",
       "      <th>cluster</th>\n",
       "      <th>item_id</th>\n",
       "      <th>unit_sales</th>\n",
       "      <th>type</th>\n",
       "    </tr>\n",
       "  </thead>\n",
       "  <tbody>\n",
       "    <tr>\n",
       "      <th>1214506</th>\n",
       "      <td>14</td>\n",
       "      <td>99197</td>\n",
       "      <td>3.421239</td>\n",
       "      <td>A</td>\n",
       "    </tr>\n",
       "    <tr>\n",
       "      <th>1214507</th>\n",
       "      <td>14</td>\n",
       "      <td>103520</td>\n",
       "      <td>3.324927</td>\n",
       "      <td>A</td>\n",
       "    </tr>\n",
       "    <tr>\n",
       "      <th>1214508</th>\n",
       "      <td>14</td>\n",
       "      <td>103665</td>\n",
       "      <td>3.324927</td>\n",
       "      <td>A</td>\n",
       "    </tr>\n",
       "    <tr>\n",
       "      <th>1214509</th>\n",
       "      <td>14</td>\n",
       "      <td>105574</td>\n",
       "      <td>3.262104</td>\n",
       "      <td>A</td>\n",
       "    </tr>\n",
       "    <tr>\n",
       "      <th>1214510</th>\n",
       "      <td>14</td>\n",
       "      <td>105575</td>\n",
       "      <td>3.262104</td>\n",
       "      <td>A</td>\n",
       "    </tr>\n",
       "    <tr>\n",
       "      <th>1214511</th>\n",
       "      <td>14</td>\n",
       "      <td>105577</td>\n",
       "      <td>3.262104</td>\n",
       "      <td>A</td>\n",
       "    </tr>\n",
       "    <tr>\n",
       "      <th>1214512</th>\n",
       "      <td>14</td>\n",
       "      <td>105693</td>\n",
       "      <td>3.262104</td>\n",
       "      <td>A</td>\n",
       "    </tr>\n",
       "    <tr>\n",
       "      <th>1214513</th>\n",
       "      <td>14</td>\n",
       "      <td>105737</td>\n",
       "      <td>3.262104</td>\n",
       "      <td>A</td>\n",
       "    </tr>\n",
       "    <tr>\n",
       "      <th>1214514</th>\n",
       "      <td>14</td>\n",
       "      <td>105857</td>\n",
       "      <td>3.262104</td>\n",
       "      <td>A</td>\n",
       "    </tr>\n",
       "    <tr>\n",
       "      <th>1214515</th>\n",
       "      <td>14</td>\n",
       "      <td>106716</td>\n",
       "      <td>3.262104</td>\n",
       "      <td>A</td>\n",
       "    </tr>\n",
       "    <tr>\n",
       "      <th>1214516</th>\n",
       "      <td>14</td>\n",
       "      <td>108079</td>\n",
       "      <td>3.262104</td>\n",
       "      <td>A</td>\n",
       "    </tr>\n",
       "  </tbody>\n",
       "</table>\n",
       "</div>"
      ],
      "text/plain": [
       "         cluster item_id  unit_sales type\n",
       "1214506       14   99197    3.421239    A\n",
       "1214507       14  103520    3.324927    A\n",
       "1214508       14  103665    3.324927    A\n",
       "1214509       14  105574    3.262104    A\n",
       "1214510       14  105575    3.262104    A\n",
       "1214511       14  105577    3.262104    A\n",
       "1214512       14  105693    3.262104    A\n",
       "1214513       14  105737    3.262104    A\n",
       "1214514       14  105857    3.262104    A\n",
       "1214515       14  106716    3.262104    A\n",
       "1214516       14  108079    3.262104    A"
      ]
     },
     "execution_count": 39,
     "metadata": {
      "tags": []
     },
     "output_type": "execute_result"
    }
   ],
   "source": [
    "dat2.head(11)"
   ]
  },
  {
   "cell_type": "code",
   "execution_count": 0,
   "metadata": {
    "colab": {},
    "colab_type": "code",
    "id": "GWRRakuu-6Mn"
   },
   "outputs": [],
   "source": [
    "## calculating the sum of unit sales of cluster 14 with respect to items to know the top selling items\n",
    "\n",
    "qt2 = \"\"\"SELECT cluster,item_id,sum(unit_sales) as tot_sales FROM final_test GROUP BY item_id\"\"\"\n",
    "\n",
    "dt2= pd.DataFrame(ps.sqldf(qt2, locals()))"
   ]
  },
  {
   "cell_type": "code",
   "execution_count": 0,
   "metadata": {
    "colab": {},
    "colab_type": "code",
    "id": "8GR1yYzp-6J1"
   },
   "outputs": [],
   "source": [
    "## sorting the top 10 selling items in cluster 14\n",
    "\n",
    "test_item_10=dt2.sort_values('tot_sales',ascending=False).head(10)"
   ]
  },
  {
   "cell_type": "code",
   "execution_count": 44,
   "metadata": {
    "colab": {
     "base_uri": "https://localhost:8080/",
     "height": 598
    },
    "colab_type": "code",
    "id": "POJWmyGa-6HO",
    "outputId": "3ce42a8a-dece-4bec-d025-aa1a1f846398"
   },
   "outputs": [
    {
     "name": "stdout",
     "output_type": "stream",
     "text": [
      "\n",
      "\n"
     ]
    },
    {
     "data": {
      "text/plain": [
       "Text(0.5, 1.0, 'top 10 selling items in cluster 14')"
      ]
     },
     "execution_count": 44,
     "metadata": {
      "tags": []
     },
     "output_type": "execute_result"
    },
    {
     "data": {
      "image/png": "[encoded data removed]",
      "text/plain": [
       "<Figure size 720x576 with 1 Axes>"
      ]
     },
     "metadata": {
      "tags": []
     },
     "output_type": "display_data"
    }
   ],
   "source": [
    "## plot for top 10 selling items in cluster 14\n",
    "\n",
    "test_item_10.plot(kind='bar',x='item_id',y='tot_sales',color='r',figsize=(10,8))\n",
    "print('\\n')\n",
    "plt.ylabel('total sales')\n",
    "plt.title('top 10 selling items in cluster 14')"
   ]
  },
  {
   "cell_type": "markdown",
   "metadata": {
    "colab_type": "text",
    "id": "Hs8au5cR2DG8"
   },
   "source": [
    "#### now considering one week data to calculate the rate of sales for these items\n"
   ]
  },
  {
   "cell_type": "code",
   "execution_count": 0,
   "metadata": {
    "colab": {},
    "colab_type": "code",
    "id": "kcZc1ZoN1m2G"
   },
   "outputs": [],
   "source": [
    "## subsetting data from cluster 14 and 2nd week data.\n",
    "dt3= final_test.loc[(final_test['cluster']==14) & (final_test['week']==2),['week','item_id','unit_sales']]"
   ]
  },
  {
   "cell_type": "code",
   "execution_count": 0,
   "metadata": {
    "colab": {},
    "colab_type": "code",
    "id": "Gs4UfiLpG212"
   },
   "outputs": [],
   "source": [
    "## calculating the rate of purchase by grouping the week and item_id \n",
    "\n",
    "qt3 = \"\"\"SELECT week,item_id,sum(unit_sales)/2 as avg_sales FROM dt3 GROUP BY week,item_id\"\"\"\n",
    "\n",
    "dt3= pd.DataFrame(ps.sqldf(qt3, locals()))"
   ]
  },
  {
   "cell_type": "code",
   "execution_count": 48,
   "metadata": {
    "colab": {
     "base_uri": "https://localhost:8080/",
     "height": 50
    },
    "colab_type": "code",
    "id": "gKx3oPcJHSug",
    "outputId": "f0ce8cb9-e0e4-4aee-e94b-9fd9fa70db79"
   },
   "outputs": [
    {
     "data": {
      "text/plain": [
       "2    3415\n",
       "Name: week, dtype: int64"
      ]
     },
     "execution_count": 48,
     "metadata": {
      "tags": []
     },
     "output_type": "execute_result"
    }
   ],
   "source": [
    "dt3.week.value_counts()"
   ]
  },
  {
   "cell_type": "code",
   "execution_count": 0,
   "metadata": {
    "colab": {},
    "colab_type": "code",
    "id": "91UDy1GXHFDS"
   },
   "outputs": [],
   "source": [
    "## sorting the top 10 items rate of purchase\n",
    "\n",
    "test_item_10_rate=dt3.sort_values('avg_sales',ascending=False).head(10)"
   ]
  },
  {
   "cell_type": "code",
   "execution_count": 50,
   "metadata": {
    "colab": {
     "base_uri": "https://localhost:8080/",
     "height": 564
    },
    "colab_type": "code",
    "id": "msImjgvsHWap",
    "outputId": "a462e60e-695a-41e2-da14-7fd0b623482a"
   },
   "outputs": [
    {
     "data": {
      "text/plain": [
       "Text(0.5, 1.0, 'avg sales per week')"
      ]
     },
     "execution_count": 50,
     "metadata": {
      "tags": []
     },
     "output_type": "execute_result"
    },
    {
     "data": {
      "image/png": "[encoded data removed]",
      "text/plain": [
       "<Figure size 720x576 with 1 Axes>"
      ]
     },
     "metadata": {
      "tags": []
     },
     "output_type": "display_data"
    }
   ],
   "source": [
    "## plot to describe the avg sales per week of the top 10 items.\n",
    "test_item_10_rate.plot(kind='bar',x='item_id',y='avg_sales',color='g',figsize=(10,8))\n",
    "plt.xlabel('week')\n",
    "plt.ylabel('average sales')\n",
    "plt.title('avg sales per week')"
   ]
  },
  {
   "cell_type": "markdown",
   "metadata": {
    "colab_type": "text",
    "id": "FFuHV-Ds6YiY"
   },
   "source": [
    "## CONCLUSION\n",
    "\n",
    "### From the above data I understood that 2 years of data is sufficient for analysis and forecast the sales. As I have done regression analysis I would reduce my MAPE from 253 to 62. If I would have done time series the MAPE value would have reduce some more. so I recommand the business team to maintain sufficient stock of top selling items to overcome the demand.\n"
   ]
  },
  {
   "cell_type": "code",
   "execution_count": 0,
   "metadata": {
    "colab": {},
    "colab_type": "code",
    "id": "xYaqoJ8cHkJR"
   },
   "outputs": [],
   "source": []
  }
 ],
 "metadata": {
  "accelerator": "TPU",
  "colab": {
   "collapsed_sections": [],
   "machine_shape": "hm",
   "name": "PHD(20_02_2020).ipynb",
   "provenance": []
  },
  "kernelspec": {
   "display_name": "Python 3",
   "language": "python",
   "name": "python3"
  },
  "language_info": {
   "codemirror_mode": {
    "name": "ipython",
    "version": 3
   },
   "file_extension": ".py",
   "mimetype": "text/x-python",
   "name": "python",
   "nbconvert_exporter": "python",
   "pygments_lexer": "ipython3",
   "version": "3.6.9"
  }
 },
 "nbformat": 4,
 "nbformat_minor": 1
}
